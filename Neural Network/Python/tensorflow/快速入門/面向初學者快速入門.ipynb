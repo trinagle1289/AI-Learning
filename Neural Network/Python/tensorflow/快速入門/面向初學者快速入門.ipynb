{
 "cells": [
  {
   "cell_type": "code",
   "execution_count": null,
   "id": "e4ff9649-923c-4e07-954c-af0af2e30e59",
   "metadata": {},
   "outputs": [],
   "source": [
    "import tensorflow as tf"
   ]
  },
  {
   "cell_type": "code",
   "execution_count": 2,
   "id": "3f11298e-1c89-42b0-a9c3-0d3967162d2e",
   "metadata": {},
   "outputs": [],
   "source": [
    "mnist = tf.keras.datasets.mnist\n",
    "\n",
    "(x_train, y_train), (x_test, y_test) = mnist.load_data()\n",
    "x_train, x_test = x_train / 255.0, x_test / 255.0"
   ]
  },
  {
   "cell_type": "code",
   "execution_count": 3,
   "id": "79126199-a8e3-4a4e-905b-667dd476dfb6",
   "metadata": {},
   "outputs": [],
   "source": [
    "model = tf.keras.models.Sequential([\n",
    "    tf.keras.layers.Flatten(input_shape=(28, 28)),\n",
    "    tf.keras.layers.Dense(128, activation='relu'),\n",
    "    tf.keras.layers.Dropout(0.2),\n",
    "    tf.keras.layers.Dense(10)\n",
    "])"
   ]
  },
  {
   "cell_type": "code",
   "execution_count": 4,
   "id": "f59920dd-dfd8-4c20-ba56-509f3d678648",
   "metadata": {},
   "outputs": [
    {
     "data": {
      "text/plain": [
       "array([[ 0.139171  ,  0.4025756 , -0.00263986,  0.00476119,  0.66831684,\n",
       "        -0.26758438,  0.08163109, -0.0691018 ,  0.5131865 ,  0.12971458]],\n",
       "      dtype=float32)"
      ]
     },
     "execution_count": 4,
     "metadata": {},
     "output_type": "execute_result"
    }
   ],
   "source": [
    "predictions = model(x_train[:1]).numpy()\n",
    "predictions"
   ]
  },
  {
   "cell_type": "code",
   "execution_count": 5,
   "id": "3d8bcf51-b902-48dc-8cbb-0bbb431a457c",
   "metadata": {},
   "outputs": [
    {
     "data": {
      "text/plain": [
       "array([[0.09427845, 0.12268957, 0.08181347, 0.08242122, 0.16003597,\n",
       "        0.06277126, 0.0890068 , 0.07655274, 0.13703938, 0.09339113]],\n",
       "      dtype=float32)"
      ]
     },
     "execution_count": 5,
     "metadata": {},
     "output_type": "execute_result"
    }
   ],
   "source": [
    "tf.nn.softmax(predictions).numpy()"
   ]
  },
  {
   "cell_type": "code",
   "execution_count": 6,
   "id": "e4f96b22-0b00-437b-855e-370c92d6e1e4",
   "metadata": {},
   "outputs": [],
   "source": [
    "loss_fn = tf.keras.losses.SparseCategoricalCrossentropy(from_logits=True)"
   ]
  },
  {
   "cell_type": "code",
   "execution_count": 7,
   "id": "040c8790-a970-4025-9dd1-70c72db77470",
   "metadata": {},
   "outputs": [
    {
     "data": {
      "text/plain": [
       "2.7682579"
      ]
     },
     "execution_count": 7,
     "metadata": {},
     "output_type": "execute_result"
    }
   ],
   "source": [
    "loss_fn(y_train[:1], predictions).numpy()"
   ]
  },
  {
   "cell_type": "code",
   "execution_count": 8,
   "id": "5b3a01d1-067a-499a-888c-9034c1570943",
   "metadata": {},
   "outputs": [],
   "source": [
    "model.compile(optimizer='adam',\n",
    "              loss=loss_fn,\n",
    "              metrics=['accuracy']\n",
    ")"
   ]
  },
  {
   "cell_type": "code",
   "execution_count": 9,
   "id": "47fba58d-5776-4815-b1b1-8e51620fc1b1",
   "metadata": {},
   "outputs": [
    {
     "name": "stdout",
     "output_type": "stream",
     "text": [
      "Epoch 1/5\n",
      "1875/1875 [==============================] - 3s 1ms/step - loss: 0.3037 - accuracy: 0.9114\n",
      "Epoch 2/5\n",
      "1875/1875 [==============================] - 2s 1ms/step - loss: 0.1455 - accuracy: 0.9570\n",
      "Epoch 3/5\n",
      "1875/1875 [==============================] - 2s 1ms/step - loss: 0.1092 - accuracy: 0.9665\n",
      "Epoch 4/5\n",
      "1875/1875 [==============================] - 2s 1ms/step - loss: 0.0890 - accuracy: 0.9726\n",
      "Epoch 5/5\n",
      "1875/1875 [==============================] - 2s 1ms/step - loss: 0.0780 - accuracy: 0.9761\n"
     ]
    },
    {
     "data": {
      "text/plain": [
       "<keras.callbacks.History at 0x2585d779430>"
      ]
     },
     "execution_count": 9,
     "metadata": {},
     "output_type": "execute_result"
    }
   ],
   "source": [
    "model.fit(x_train, y_train, epochs=5)"
   ]
  },
  {
   "cell_type": "code",
   "execution_count": 10,
   "id": "dc4d0c89-40db-4e1f-9012-aad76b6335bb",
   "metadata": {},
   "outputs": [
    {
     "name": "stdout",
     "output_type": "stream",
     "text": [
      "313/313 - 0s - loss: 0.0757 - accuracy: 0.9763 - 309ms/epoch - 988us/step\n"
     ]
    },
    {
     "data": {
      "text/plain": [
       "[0.07565619796514511, 0.9763000011444092]"
      ]
     },
     "execution_count": 10,
     "metadata": {},
     "output_type": "execute_result"
    }
   ],
   "source": [
    "model.evaluate(x_test, y_test, verbose=2)"
   ]
  },
  {
   "cell_type": "code",
   "execution_count": 11,
   "id": "ed363a24-d95b-4759-b018-882e922e8227",
   "metadata": {},
   "outputs": [],
   "source": [
    "probability_model = tf.keras.Sequential([\n",
    "    model,\n",
    "    tf.keras.layers.Softmax()\n",
    "])"
   ]
  },
  {
   "cell_type": "code",
   "execution_count": 12,
   "id": "ddfa2fa3-f61f-4eea-a573-9cc586fc4769",
   "metadata": {},
   "outputs": [
    {
     "data": {
      "text/plain": [
       "<tf.Tensor: shape=(5, 10), dtype=float32, numpy=\n",
       "array([[1.08232410e-08, 6.85834145e-09, 9.04612898e-06, 4.90742852e-04,\n",
       "        3.33640711e-12, 8.00246625e-08, 7.79778759e-12, 9.99498367e-01,\n",
       "        4.06886585e-07, 1.26671387e-06],\n",
       "       [5.94245790e-08, 3.66561762e-05, 9.99961376e-01, 2.70625094e-07,\n",
       "        1.19380125e-15, 1.74832780e-06, 1.84357916e-08, 3.92208103e-15,\n",
       "        3.28381589e-08, 5.45047948e-14],\n",
       "       [1.14663908e-06, 9.99160290e-01, 1.08144035e-04, 1.43027783e-05,\n",
       "        6.98764634e-05, 4.53963639e-06, 1.64767207e-05, 5.35859261e-04,\n",
       "        8.92552998e-05, 1.29277069e-07],\n",
       "       [9.98578906e-01, 1.14640786e-08, 8.73773417e-04, 4.97878636e-06,\n",
       "        1.40337522e-06, 1.83361266e-07, 5.36753156e-04, 9.13113141e-08,\n",
       "        3.10458006e-07, 3.55929797e-06],\n",
       "       [8.69943251e-05, 6.00629022e-08, 6.61996228e-06, 2.59545345e-07,\n",
       "        9.97043073e-01, 4.44864781e-06, 9.39469246e-05, 6.92831190e-06,\n",
       "        1.53242706e-06, 2.75621563e-03]], dtype=float32)>"
      ]
     },
     "execution_count": 12,
     "metadata": {},
     "output_type": "execute_result"
    }
   ],
   "source": [
    "probability_model(x_test[:5])"
   ]
  }
 ],
 "metadata": {
  "kernelspec": {
   "display_name": "Python 3 (ipykernel)",
   "language": "python",
   "name": "python3"
  },
  "language_info": {
   "codemirror_mode": {
    "name": "ipython",
    "version": 3
   },
   "file_extension": ".py",
   "mimetype": "text/x-python",
   "name": "python",
   "nbconvert_exporter": "python",
   "pygments_lexer": "ipython3",
   "version": "3.9.15"
  }
 },
 "nbformat": 4,
 "nbformat_minor": 5
}
