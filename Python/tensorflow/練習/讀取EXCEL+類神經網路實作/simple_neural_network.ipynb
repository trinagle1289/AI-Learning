{
 "cells": [
  {
   "cell_type": "markdown",
   "id": "87bb400f-6d17-4b65-9459-0c2e16a5f3f9",
   "metadata": {},
   "source": [
    "## 讀取 CSV 檔案"
   ]
  },
  {
   "cell_type": "code",
   "execution_count": 1,
   "id": "7c02dac3-e5c5-4ef1-9234-186e677e2f28",
   "metadata": {},
   "outputs": [],
   "source": [
    "import pandas as pd"
   ]
  },
  {
   "cell_type": "code",
   "execution_count": 2,
   "id": "d9c886b5-3a3e-45a9-9307-f2e40c0a4675",
   "metadata": {},
   "outputs": [
    {
     "data": {
      "text/html": [
       "<div>\n",
       "<style scoped>\n",
       "    .dataframe tbody tr th:only-of-type {\n",
       "        vertical-align: middle;\n",
       "    }\n",
       "\n",
       "    .dataframe tbody tr th {\n",
       "        vertical-align: top;\n",
       "    }\n",
       "\n",
       "    .dataframe thead th {\n",
       "        text-align: right;\n",
       "    }\n",
       "</style>\n",
       "<table border=\"1\" class=\"dataframe\">\n",
       "  <thead>\n",
       "    <tr style=\"text-align: right;\">\n",
       "      <th></th>\n",
       "      <th>Length</th>\n",
       "      <th>Diameter</th>\n",
       "      <th>Height</th>\n",
       "      <th>Whole weight</th>\n",
       "      <th>Shucked weight</th>\n",
       "      <th>Viscera weight</th>\n",
       "      <th>Shell weight</th>\n",
       "      <th>Age</th>\n",
       "    </tr>\n",
       "  </thead>\n",
       "  <tbody>\n",
       "    <tr>\n",
       "      <th>0</th>\n",
       "      <td>0.435</td>\n",
       "      <td>0.335</td>\n",
       "      <td>0.110</td>\n",
       "      <td>0.3340</td>\n",
       "      <td>0.1355</td>\n",
       "      <td>0.0775</td>\n",
       "      <td>0.0965</td>\n",
       "      <td>7</td>\n",
       "    </tr>\n",
       "    <tr>\n",
       "      <th>1</th>\n",
       "      <td>0.585</td>\n",
       "      <td>0.450</td>\n",
       "      <td>0.125</td>\n",
       "      <td>0.8740</td>\n",
       "      <td>0.3545</td>\n",
       "      <td>0.2075</td>\n",
       "      <td>0.2250</td>\n",
       "      <td>6</td>\n",
       "    </tr>\n",
       "    <tr>\n",
       "      <th>2</th>\n",
       "      <td>0.655</td>\n",
       "      <td>0.510</td>\n",
       "      <td>0.160</td>\n",
       "      <td>1.0920</td>\n",
       "      <td>0.3960</td>\n",
       "      <td>0.2825</td>\n",
       "      <td>0.3700</td>\n",
       "      <td>14</td>\n",
       "    </tr>\n",
       "    <tr>\n",
       "      <th>3</th>\n",
       "      <td>0.545</td>\n",
       "      <td>0.425</td>\n",
       "      <td>0.125</td>\n",
       "      <td>0.7680</td>\n",
       "      <td>0.2940</td>\n",
       "      <td>0.1495</td>\n",
       "      <td>0.2600</td>\n",
       "      <td>16</td>\n",
       "    </tr>\n",
       "    <tr>\n",
       "      <th>4</th>\n",
       "      <td>0.545</td>\n",
       "      <td>0.420</td>\n",
       "      <td>0.130</td>\n",
       "      <td>0.8790</td>\n",
       "      <td>0.3740</td>\n",
       "      <td>0.1695</td>\n",
       "      <td>0.2300</td>\n",
       "      <td>13</td>\n",
       "    </tr>\n",
       "    <tr>\n",
       "      <th>...</th>\n",
       "      <td>...</td>\n",
       "      <td>...</td>\n",
       "      <td>...</td>\n",
       "      <td>...</td>\n",
       "      <td>...</td>\n",
       "      <td>...</td>\n",
       "      <td>...</td>\n",
       "      <td>...</td>\n",
       "    </tr>\n",
       "    <tr>\n",
       "      <th>3315</th>\n",
       "      <td>0.605</td>\n",
       "      <td>0.475</td>\n",
       "      <td>0.180</td>\n",
       "      <td>0.9365</td>\n",
       "      <td>0.3940</td>\n",
       "      <td>0.2190</td>\n",
       "      <td>0.2950</td>\n",
       "      <td>15</td>\n",
       "    </tr>\n",
       "    <tr>\n",
       "      <th>3316</th>\n",
       "      <td>0.700</td>\n",
       "      <td>0.525</td>\n",
       "      <td>0.190</td>\n",
       "      <td>1.6015</td>\n",
       "      <td>0.7070</td>\n",
       "      <td>0.3650</td>\n",
       "      <td>0.4300</td>\n",
       "      <td>10</td>\n",
       "    </tr>\n",
       "    <tr>\n",
       "      <th>3317</th>\n",
       "      <td>0.530</td>\n",
       "      <td>0.420</td>\n",
       "      <td>0.130</td>\n",
       "      <td>0.8365</td>\n",
       "      <td>0.3745</td>\n",
       "      <td>0.1670</td>\n",
       "      <td>0.2490</td>\n",
       "      <td>11</td>\n",
       "    </tr>\n",
       "    <tr>\n",
       "      <th>3318</th>\n",
       "      <td>0.395</td>\n",
       "      <td>0.315</td>\n",
       "      <td>0.105</td>\n",
       "      <td>0.3515</td>\n",
       "      <td>0.1185</td>\n",
       "      <td>0.0910</td>\n",
       "      <td>0.1195</td>\n",
       "      <td>16</td>\n",
       "    </tr>\n",
       "    <tr>\n",
       "      <th>3319</th>\n",
       "      <td>0.450</td>\n",
       "      <td>0.355</td>\n",
       "      <td>0.120</td>\n",
       "      <td>0.4120</td>\n",
       "      <td>0.1145</td>\n",
       "      <td>0.0665</td>\n",
       "      <td>0.1600</td>\n",
       "      <td>19</td>\n",
       "    </tr>\n",
       "  </tbody>\n",
       "</table>\n",
       "<p>3320 rows × 8 columns</p>\n",
       "</div>"
      ],
      "text/plain": [
       "      Length  Diameter  Height  Whole weight  Shucked weight  Viscera weight  \\\n",
       "0      0.435     0.335   0.110        0.3340          0.1355          0.0775   \n",
       "1      0.585     0.450   0.125        0.8740          0.3545          0.2075   \n",
       "2      0.655     0.510   0.160        1.0920          0.3960          0.2825   \n",
       "3      0.545     0.425   0.125        0.7680          0.2940          0.1495   \n",
       "4      0.545     0.420   0.130        0.8790          0.3740          0.1695   \n",
       "...      ...       ...     ...           ...             ...             ...   \n",
       "3315   0.605     0.475   0.180        0.9365          0.3940          0.2190   \n",
       "3316   0.700     0.525   0.190        1.6015          0.7070          0.3650   \n",
       "3317   0.530     0.420   0.130        0.8365          0.3745          0.1670   \n",
       "3318   0.395     0.315   0.105        0.3515          0.1185          0.0910   \n",
       "3319   0.450     0.355   0.120        0.4120          0.1145          0.0665   \n",
       "\n",
       "      Shell weight  Age  \n",
       "0           0.0965    7  \n",
       "1           0.2250    6  \n",
       "2           0.3700   14  \n",
       "3           0.2600   16  \n",
       "4           0.2300   13  \n",
       "...            ...  ...  \n",
       "3315        0.2950   15  \n",
       "3316        0.4300   10  \n",
       "3317        0.2490   11  \n",
       "3318        0.1195   16  \n",
       "3319        0.1600   19  \n",
       "\n",
       "[3320 rows x 8 columns]"
      ]
     },
     "execution_count": 2,
     "metadata": {},
     "output_type": "execute_result"
    }
   ],
   "source": [
    "abalone_train = pd.read_csv(\n",
    "    \"abalone_train.csv\",\n",
    "    names=[\n",
    "        \"Length\", \"Diameter\", \"Height\", \"Whole weight\",\n",
    "        \"Shucked weight\", \"Viscera weight\", \"Shell weight\", \"Age\"\n",
    "    ]\n",
    ")\n",
    "abalone_train # 顯示所有資料"
   ]
  },
  {
   "cell_type": "code",
   "execution_count": 3,
   "id": "4797f13c-1e72-42ae-ba2c-7915d08f2efb",
   "metadata": {},
   "outputs": [
    {
     "data": {
      "text/html": [
       "<div>\n",
       "<style scoped>\n",
       "    .dataframe tbody tr th:only-of-type {\n",
       "        vertical-align: middle;\n",
       "    }\n",
       "\n",
       "    .dataframe tbody tr th {\n",
       "        vertical-align: top;\n",
       "    }\n",
       "\n",
       "    .dataframe thead th {\n",
       "        text-align: right;\n",
       "    }\n",
       "</style>\n",
       "<table border=\"1\" class=\"dataframe\">\n",
       "  <thead>\n",
       "    <tr style=\"text-align: right;\">\n",
       "      <th></th>\n",
       "      <th>Length</th>\n",
       "      <th>Diameter</th>\n",
       "      <th>Height</th>\n",
       "      <th>Whole weight</th>\n",
       "      <th>Shucked weight</th>\n",
       "      <th>Viscera weight</th>\n",
       "      <th>Shell weight</th>\n",
       "      <th>Age</th>\n",
       "    </tr>\n",
       "  </thead>\n",
       "  <tbody>\n",
       "    <tr>\n",
       "      <th>0</th>\n",
       "      <td>0.435</td>\n",
       "      <td>0.335</td>\n",
       "      <td>0.110</td>\n",
       "      <td>0.334</td>\n",
       "      <td>0.1355</td>\n",
       "      <td>0.0775</td>\n",
       "      <td>0.0965</td>\n",
       "      <td>7</td>\n",
       "    </tr>\n",
       "    <tr>\n",
       "      <th>1</th>\n",
       "      <td>0.585</td>\n",
       "      <td>0.450</td>\n",
       "      <td>0.125</td>\n",
       "      <td>0.874</td>\n",
       "      <td>0.3545</td>\n",
       "      <td>0.2075</td>\n",
       "      <td>0.2250</td>\n",
       "      <td>6</td>\n",
       "    </tr>\n",
       "    <tr>\n",
       "      <th>2</th>\n",
       "      <td>0.655</td>\n",
       "      <td>0.510</td>\n",
       "      <td>0.160</td>\n",
       "      <td>1.092</td>\n",
       "      <td>0.3960</td>\n",
       "      <td>0.2825</td>\n",
       "      <td>0.3700</td>\n",
       "      <td>14</td>\n",
       "    </tr>\n",
       "    <tr>\n",
       "      <th>3</th>\n",
       "      <td>0.545</td>\n",
       "      <td>0.425</td>\n",
       "      <td>0.125</td>\n",
       "      <td>0.768</td>\n",
       "      <td>0.2940</td>\n",
       "      <td>0.1495</td>\n",
       "      <td>0.2600</td>\n",
       "      <td>16</td>\n",
       "    </tr>\n",
       "    <tr>\n",
       "      <th>4</th>\n",
       "      <td>0.545</td>\n",
       "      <td>0.420</td>\n",
       "      <td>0.130</td>\n",
       "      <td>0.879</td>\n",
       "      <td>0.3740</td>\n",
       "      <td>0.1695</td>\n",
       "      <td>0.2300</td>\n",
       "      <td>13</td>\n",
       "    </tr>\n",
       "  </tbody>\n",
       "</table>\n",
       "</div>"
      ],
      "text/plain": [
       "   Length  Diameter  Height  Whole weight  Shucked weight  Viscera weight  \\\n",
       "0   0.435     0.335   0.110         0.334          0.1355          0.0775   \n",
       "1   0.585     0.450   0.125         0.874          0.3545          0.2075   \n",
       "2   0.655     0.510   0.160         1.092          0.3960          0.2825   \n",
       "3   0.545     0.425   0.125         0.768          0.2940          0.1495   \n",
       "4   0.545     0.420   0.130         0.879          0.3740          0.1695   \n",
       "\n",
       "   Shell weight  Age  \n",
       "0        0.0965    7  \n",
       "1        0.2250    6  \n",
       "2        0.3700   14  \n",
       "3        0.2600   16  \n",
       "4        0.2300   13  "
      ]
     },
     "execution_count": 3,
     "metadata": {},
     "output_type": "execute_result"
    }
   ],
   "source": [
    "abalone_train.head() # 顯示前五項資料"
   ]
  },
  {
   "cell_type": "code",
   "execution_count": 4,
   "id": "8833d81f-977a-4e56-9db5-43c751236357",
   "metadata": {},
   "outputs": [
    {
     "data": {
      "text/plain": [
       "(3320, 8)"
      ]
     },
     "execution_count": 4,
     "metadata": {},
     "output_type": "execute_result"
    }
   ],
   "source": [
    "abalone_train.shape"
   ]
  },
  {
   "cell_type": "markdown",
   "id": "86361de9-6f62-43d7-8b9c-66cdd19c047c",
   "metadata": {},
   "source": [
    "## 將資料整理成 features 和 labels"
   ]
  },
  {
   "cell_type": "code",
   "execution_count": 5,
   "id": "160af3af-fb77-45b1-a9ed-e6ec05de34b1",
   "metadata": {},
   "outputs": [],
   "source": [
    "# 複製 abalone_train 陣列\n",
    "features = abalone_train.copy()\n",
    "\n",
    "# 將 features 中的 Age 提取出來並存入在 labels 中\n",
    "labels = features.pop('Age')"
   ]
  },
  {
   "cell_type": "markdown",
   "id": "0b766157-608b-4b3d-8daf-a8ac036dc0ee",
   "metadata": {},
   "source": [
    "## 建立類神經網路模型"
   ]
  },
  {
   "cell_type": "code",
   "execution_count": 6,
   "id": "c53a7473-1abb-42f7-856c-298c897a7a37",
   "metadata": {},
   "outputs": [],
   "source": [
    "import tensorflow as tf # 深度模型核心\n",
    "from tensorflow.keras import layers # 網路層"
   ]
  },
  {
   "cell_type": "code",
   "execution_count": 7,
   "id": "bf740f19-70d5-4ada-a928-4b1b780ca39f",
   "metadata": {},
   "outputs": [],
   "source": [
    "model = tf.keras.Sequential(\n",
    "    [\n",
    "        layers.Input(7), # 輸入 7 個參數\n",
    "        layers.Dense(8), # 8 個神經元\n",
    "        layers.Dense(1)  # 1 個神經元\n",
    "    ]\n",
    ")\n",
    "model.build()"
   ]
  },
  {
   "cell_type": "code",
   "execution_count": 8,
   "id": "c413aebb-4e72-473f-b2c7-cfdc157a9927",
   "metadata": {},
   "outputs": [
    {
     "name": "stdout",
     "output_type": "stream",
     "text": [
      "Model: \"sequential\"\n",
      "_________________________________________________________________\n",
      " Layer (type)                Output Shape              Param #   \n",
      "=================================================================\n",
      " dense (Dense)               (None, 8)                 64        \n",
      "                                                                 \n",
      " dense_1 (Dense)             (None, 1)                 9         \n",
      "                                                                 \n",
      "=================================================================\n",
      "Total params: 73\n",
      "Trainable params: 73\n",
      "Non-trainable params: 0\n",
      "_________________________________________________________________\n"
     ]
    }
   ],
   "source": [
    "model.summary()"
   ]
  },
  {
   "cell_type": "code",
   "execution_count": 9,
   "id": "e137e91f-c4f9-4fd2-8f0a-15a38251c00e",
   "metadata": {},
   "outputs": [],
   "source": [
    "model.compile(\n",
    "    optimizer=tf.keras.optimizers.Adam(),\n",
    "    loss=tf.keras.losses.MeanAbsoluteError(),\n",
    "    metrics=tf.keras.metrics.Accuracy()\n",
    ")\n",
    "# 編譯模型\n",
    "# 參考資料: [Day-12] TF.Keras api & Customized - iT 邦幫忙::一起幫忙解決難題，拯救 IT 人的一天(https://ithelp.ithome.com.tw/articles/10221618)\n",
    "# 參考資料: The Sequential model(https://keras.io/guides/sequential_model/)"
   ]
  },
  {
   "cell_type": "code",
   "execution_count": 10,
   "id": "ce6ccdbb-9e3a-4123-9e7f-b55155590726",
   "metadata": {},
   "outputs": [
    {
     "name": "stdout",
     "output_type": "stream",
     "text": [
      "Epoch 1/10\n",
      "104/104 [==============================] - 1s 748us/step - loss: 8.9905 - accuracy: 0.0000e+00\n",
      "Epoch 2/10\n",
      "104/104 [==============================] - 0s 699us/step - loss: 6.8553 - accuracy: 0.0000e+00\n",
      "Epoch 3/10\n",
      "104/104 [==============================] - 0s 689us/step - loss: 3.9024 - accuracy: 0.0000e+00\n",
      "Epoch 4/10\n",
      "104/104 [==============================] - 0s 689us/step - loss: 2.2280 - accuracy: 0.0000e+00\n",
      "Epoch 5/10\n",
      "104/104 [==============================] - 0s 699us/step - loss: 2.0869 - accuracy: 0.0000e+00\n",
      "Epoch 6/10\n",
      "104/104 [==============================] - 0s 689us/step - loss: 2.0258 - accuracy: 0.0000e+00\n",
      "Epoch 7/10\n",
      "104/104 [==============================] - 0s 680us/step - loss: 1.9712 - accuracy: 0.0000e+00\n",
      "Epoch 8/10\n",
      "104/104 [==============================] - 0s 689us/step - loss: 1.9249 - accuracy: 0.0000e+00\n",
      "Epoch 9/10\n",
      "104/104 [==============================] - 0s 680us/step - loss: 1.8867 - accuracy: 0.0000e+00\n",
      "Epoch 10/10\n",
      "104/104 [==============================] - 0s 689us/step - loss: 1.8568 - accuracy: 0.0000e+00\n"
     ]
    },
    {
     "data": {
      "text/plain": [
       "<keras.callbacks.History at 0x26f29073130>"
      ]
     },
     "execution_count": 10,
     "metadata": {},
     "output_type": "execute_result"
    }
   ],
   "source": [
    "# 使用 feature 和 labels 進行 10 回合的訓練\n",
    "model.fit(features, labels, epochs=10)"
   ]
  },
  {
   "cell_type": "code",
   "execution_count": 11,
   "id": "f32aa568-c1b2-49be-a1bd-19886bdfd7b6",
   "metadata": {},
   "outputs": [
    {
     "name": "stdout",
     "output_type": "stream",
     "text": [
      "Test loss: 1.8457986116409302\n",
      "Test accuracy: 0.0\n"
     ]
    }
   ],
   "source": [
    "score = model.evaluate(features, labels, verbose=0)\n",
    "print('Test loss:', score[0])\n",
    "print('Test accuracy:', score[1])"
   ]
  },
  {
   "cell_type": "code",
   "execution_count": 14,
   "id": "43d9ebbb-63f0-4d47-bbd7-a570294113dc",
   "metadata": {},
   "outputs": [
    {
     "name": "stdout",
     "output_type": "stream",
     "text": [
      "1/1 [==============================] - 0s 18ms/step\n",
      "預測年齡:9.522414207458496\n"
     ]
    }
   ],
   "source": [
    "idx = 1\n",
    "test_pred = features[idx:idx+1]\n",
    "# print(test_pred)\n",
    "print(f\"預測年齡:{model.predict(test_pred)[0][0]}\")"
   ]
  }
 ],
 "metadata": {
  "kernelspec": {
   "display_name": "Python 3 (ipykernel)",
   "language": "python",
   "name": "python3"
  },
  "language_info": {
   "codemirror_mode": {
    "name": "ipython",
    "version": 3
   },
   "file_extension": ".py",
   "mimetype": "text/x-python",
   "name": "python",
   "nbconvert_exporter": "python",
   "pygments_lexer": "ipython3",
   "version": "3.9.15"
  }
 },
 "nbformat": 4,
 "nbformat_minor": 5
}
