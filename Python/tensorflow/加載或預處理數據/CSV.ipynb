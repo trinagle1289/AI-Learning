{
 "cells": [
  {
   "cell_type": "markdown",
   "id": "800a825d-7ad4-4f78-835a-08253392356f",
   "metadata": {},
   "source": [
    "# Load CSV data"
   ]
  },
  {
   "cell_type": "markdown",
   "id": "38fb7a3c-cb67-4a54-be89-0c5b875b0020",
   "metadata": {},
   "source": [
    "## Setup"
   ]
  },
  {
   "cell_type": "code",
   "execution_count": 2,
   "id": "3a0c971f-0ff2-44be-8499-7fe99c9a6c43",
   "metadata": {},
   "outputs": [],
   "source": [
    "import pandas as pd\n",
    "import numpy as np\n",
    "\n",
    "# Make numpy values easier to read.\n",
    "np.set_printoptions(precision=3, suppress=True)\n",
    "\n",
    "import tensorflow as tf\n",
    "from tensorflow.keras import layers"
   ]
  },
  {
   "cell_type": "markdown",
   "id": "5f2ec967-9bca-44d0-811a-e08f69899a8b",
   "metadata": {},
   "source": [
    "## In memory data"
   ]
  },
  {
   "cell_type": "code",
   "execution_count": 4,
   "id": "69e01713-f936-4dcc-ae94-c4fb7c10e3f8",
   "metadata": {},
   "outputs": [
    {
     "data": {
      "text/html": [
       "<div>\n",
       "<style scoped>\n",
       "    .dataframe tbody tr th:only-of-type {\n",
       "        vertical-align: middle;\n",
       "    }\n",
       "\n",
       "    .dataframe tbody tr th {\n",
       "        vertical-align: top;\n",
       "    }\n",
       "\n",
       "    .dataframe thead th {\n",
       "        text-align: right;\n",
       "    }\n",
       "</style>\n",
       "<table border=\"1\" class=\"dataframe\">\n",
       "  <thead>\n",
       "    <tr style=\"text-align: right;\">\n",
       "      <th></th>\n",
       "      <th>Length</th>\n",
       "      <th>Diameter</th>\n",
       "      <th>Height</th>\n",
       "      <th>Whole weight</th>\n",
       "      <th>Shucked weight</th>\n",
       "      <th>Viscera weight</th>\n",
       "      <th>Shell weight</th>\n",
       "      <th>Age</th>\n",
       "    </tr>\n",
       "  </thead>\n",
       "  <tbody>\n",
       "    <tr>\n",
       "      <th>0</th>\n",
       "      <td>0.435</td>\n",
       "      <td>0.335</td>\n",
       "      <td>0.110</td>\n",
       "      <td>0.334</td>\n",
       "      <td>0.1355</td>\n",
       "      <td>0.0775</td>\n",
       "      <td>0.0965</td>\n",
       "      <td>7</td>\n",
       "    </tr>\n",
       "    <tr>\n",
       "      <th>1</th>\n",
       "      <td>0.585</td>\n",
       "      <td>0.450</td>\n",
       "      <td>0.125</td>\n",
       "      <td>0.874</td>\n",
       "      <td>0.3545</td>\n",
       "      <td>0.2075</td>\n",
       "      <td>0.2250</td>\n",
       "      <td>6</td>\n",
       "    </tr>\n",
       "    <tr>\n",
       "      <th>2</th>\n",
       "      <td>0.655</td>\n",
       "      <td>0.510</td>\n",
       "      <td>0.160</td>\n",
       "      <td>1.092</td>\n",
       "      <td>0.3960</td>\n",
       "      <td>0.2825</td>\n",
       "      <td>0.3700</td>\n",
       "      <td>14</td>\n",
       "    </tr>\n",
       "    <tr>\n",
       "      <th>3</th>\n",
       "      <td>0.545</td>\n",
       "      <td>0.425</td>\n",
       "      <td>0.125</td>\n",
       "      <td>0.768</td>\n",
       "      <td>0.2940</td>\n",
       "      <td>0.1495</td>\n",
       "      <td>0.2600</td>\n",
       "      <td>16</td>\n",
       "    </tr>\n",
       "    <tr>\n",
       "      <th>4</th>\n",
       "      <td>0.545</td>\n",
       "      <td>0.420</td>\n",
       "      <td>0.130</td>\n",
       "      <td>0.879</td>\n",
       "      <td>0.3740</td>\n",
       "      <td>0.1695</td>\n",
       "      <td>0.2300</td>\n",
       "      <td>13</td>\n",
       "    </tr>\n",
       "  </tbody>\n",
       "</table>\n",
       "</div>"
      ],
      "text/plain": [
       "   Length  Diameter  Height  Whole weight  Shucked weight  Viscera weight  Shell weight  Age\n",
       "0   0.435     0.335   0.110         0.334          0.1355          0.0775        0.0965    7\n",
       "1   0.585     0.450   0.125         0.874          0.3545          0.2075        0.2250    6\n",
       "2   0.655     0.510   0.160         1.092          0.3960          0.2825        0.3700   14\n",
       "3   0.545     0.425   0.125         0.768          0.2940          0.1495        0.2600   16\n",
       "4   0.545     0.420   0.130         0.879          0.3740          0.1695        0.2300   13"
      ]
     },
     "execution_count": 4,
     "metadata": {},
     "output_type": "execute_result"
    }
   ],
   "source": [
    "abalone_train = pd.read_csv(\n",
    "    \"https://storage.googleapis.com/download.tensorflow.org/data/abalone_train.csv\",\n",
    "    names=[\"Length\", \"Diameter\", \"Height\", \"Whole weight\",\n",
    "           \"Shucked weight\", \"Viscera weight\", \"Shell weight\", \"Age\"])\n",
    "\n",
    "abalone_train.head()"
   ]
  },
  {
   "cell_type": "code",
   "execution_count": 5,
   "id": "d55d85ab-9c60-4bbb-aaeb-5a8ed82e2f86",
   "metadata": {},
   "outputs": [],
   "source": [
    "abalone_features = abalone_train.copy()\n",
    "abalone_labels = abalone_features.pop('Age')"
   ]
  },
  {
   "cell_type": "code",
   "execution_count": 6,
   "id": "97ce3e9f-b580-49f7-9b0f-09f42d83a11d",
   "metadata": {},
   "outputs": [
    {
     "data": {
      "text/plain": [
       "array([[0.435, 0.335, 0.11 , ..., 0.136, 0.077, 0.097],\n",
       "       [0.585, 0.45 , 0.125, ..., 0.354, 0.207, 0.225],\n",
       "       [0.655, 0.51 , 0.16 , ..., 0.396, 0.282, 0.37 ],\n",
       "       ...,\n",
       "       [0.53 , 0.42 , 0.13 , ..., 0.374, 0.167, 0.249],\n",
       "       [0.395, 0.315, 0.105, ..., 0.118, 0.091, 0.119],\n",
       "       [0.45 , 0.355, 0.12 , ..., 0.115, 0.067, 0.16 ]])"
      ]
     },
     "execution_count": 6,
     "metadata": {},
     "output_type": "execute_result"
    }
   ],
   "source": [
    "abalone_features = np.array(abalone_features)\n",
    "abalone_features"
   ]
  },
  {
   "cell_type": "code",
   "execution_count": 9,
   "id": "36dd1676-98e9-44da-aff4-b85d64543dec",
   "metadata": {},
   "outputs": [],
   "source": [
    "abalone_model = tf.keras.Sequential([\n",
    "    layers.Dense(64),\n",
    "    layers.Dense(1)\n",
    "])\n",
    "\n",
    "abalone_model.compile(loss=tf.keras.losses.MeanSquaredError(),\n",
    "                      optimizer=tf.keras.optimizers.Adam())"
   ]
  },
  {
   "cell_type": "code",
   "execution_count": 10,
   "id": "617c35d2-5913-44cb-b222-f316029098f7",
   "metadata": {},
   "outputs": [
    {
     "name": "stdout",
     "output_type": "stream",
     "text": [
      "Epoch 1/10\n",
      "104/104 [==============================] - 0s 718us/step - loss: 61.1750\n",
      "Epoch 2/10\n",
      "104/104 [==============================] - 0s 689us/step - loss: 11.8856\n",
      "Epoch 3/10\n",
      "104/104 [==============================] - 0s 689us/step - loss: 8.3947\n",
      "Epoch 4/10\n",
      "104/104 [==============================] - 0s 689us/step - loss: 7.9180\n",
      "Epoch 5/10\n",
      "104/104 [==============================] - 0s 680us/step - loss: 7.4917\n",
      "Epoch 6/10\n",
      "104/104 [==============================] - 0s 680us/step - loss: 7.1499\n",
      "Epoch 7/10\n",
      "104/104 [==============================] - 0s 680us/step - loss: 6.8756\n",
      "Epoch 8/10\n",
      "104/104 [==============================] - 0s 670us/step - loss: 6.6982\n",
      "Epoch 9/10\n",
      "104/104 [==============================] - 0s 680us/step - loss: 6.5608\n",
      "Epoch 10/10\n",
      "104/104 [==============================] - 0s 670us/step - loss: 6.4491\n"
     ]
    },
    {
     "data": {
      "text/plain": [
       "<keras.callbacks.History at 0x1f0440ff760>"
      ]
     },
     "execution_count": 10,
     "metadata": {},
     "output_type": "execute_result"
    }
   ],
   "source": [
    "abalone_model.fit(abalone_features, abalone_labels, epochs=10)"
   ]
  },
  {
   "cell_type": "code",
   "execution_count": 11,
   "id": "375a8081-18cb-4d15-a858-c1a27ddf4f7b",
   "metadata": {},
   "outputs": [],
   "source": [
    "normalize = layers.Normalization()"
   ]
  },
  {
   "cell_type": "code",
   "execution_count": 12,
   "id": "ded98176-3ae4-4a31-9761-f69bdfbe3b8a",
   "metadata": {},
   "outputs": [],
   "source": [
    "normalize.adapt(abalone_features)"
   ]
  },
  {
   "cell_type": "code",
   "execution_count": 14,
   "id": "03f8a23b-4aa6-4c39-8e22-b3c5e725e586",
   "metadata": {},
   "outputs": [
    {
     "name": "stdout",
     "output_type": "stream",
     "text": [
      "Epoch 1/10\n",
      "104/104 [==============================] - 0s 709us/step - loss: 9.2747\n",
      "Epoch 2/10\n",
      "104/104 [==============================] - 0s 718us/step - loss: 6.6262\n",
      "Epoch 3/10\n",
      "104/104 [==============================] - 0s 718us/step - loss: 2.2861\n",
      "Epoch 4/10\n",
      "104/104 [==============================] - 0s 699us/step - loss: 1.6204\n",
      "Epoch 5/10\n",
      "104/104 [==============================] - 0s 699us/step - loss: 1.6007\n",
      "Epoch 6/10\n",
      "104/104 [==============================] - 0s 709us/step - loss: 1.6028\n",
      "Epoch 7/10\n",
      "104/104 [==============================] - 0s 709us/step - loss: 1.5940\n",
      "Epoch 8/10\n",
      "104/104 [==============================] - 0s 689us/step - loss: 1.5899\n",
      "Epoch 9/10\n",
      "104/104 [==============================] - 0s 796us/step - loss: 1.5814\n",
      "Epoch 10/10\n",
      "104/104 [==============================] - 0s 709us/step - loss: 1.5811\n"
     ]
    },
    {
     "data": {
      "text/plain": [
       "<keras.callbacks.History at 0x1f04a303e80>"
      ]
     },
     "execution_count": 14,
     "metadata": {},
     "output_type": "execute_result"
    }
   ],
   "source": [
    "norm_abalone_model = tf.keras.Sequential([\n",
    "    normalize,\n",
    "    layers.Dense(64),\n",
    "    layers.Dense(1)\n",
    "])\n",
    "\n",
    "norm_abalone_model.compile(loss=tf.keras.losses.MeanAbsoluteError(),\n",
    "                           optimizer=tf.keras.optimizers.Adam())\n",
    "norm_abalone_model.fit(abalone_features, abalone_labels, epochs=10)"
   ]
  },
  {
   "cell_type": "code",
   "execution_count": null,
   "id": "4f946017-a573-489b-b28a-bc1bdf9ca793",
   "metadata": {},
   "outputs": [],
   "source": []
  }
 ],
 "metadata": {
  "kernelspec": {
   "display_name": "Python 3 (ipykernel)",
   "language": "python",
   "name": "python3"
  },
  "language_info": {
   "codemirror_mode": {
    "name": "ipython",
    "version": 3
   },
   "file_extension": ".py",
   "mimetype": "text/x-python",
   "name": "python",
   "nbconvert_exporter": "python",
   "pygments_lexer": "ipython3",
   "version": "3.9.15"
  }
 },
 "nbformat": 4,
 "nbformat_minor": 5
}
