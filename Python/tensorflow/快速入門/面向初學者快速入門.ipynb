{
 "cells": [
  {
   "cell_type": "code",
   "execution_count": 1,
   "id": "e4ff9649-923c-4e07-954c-af0af2e30e59",
   "metadata": {},
   "outputs": [],
   "source": [
    "import tensorflow as tf"
   ]
  },
  {
   "cell_type": "code",
   "execution_count": 2,
   "id": "3f11298e-1c89-42b0-a9c3-0d3967162d2e",
   "metadata": {},
   "outputs": [],
   "source": [
    "mnist = tf.keras.datasets.mnist\n",
    "\n",
    "(x_train, y_train), (x_test, y_test) = mnist.load_data()\n",
    "x_train, x_test = x_train / 255.0, x_test / 255.0"
   ]
  },
  {
   "cell_type": "code",
   "execution_count": 14,
   "id": "6e06a7e5-bb1d-4fe6-bfb2-b3460ebfb2ba",
   "metadata": {},
   "outputs": [
    {
     "data": {
      "text/plain": [
       "(60000, 28, 28)"
      ]
     },
     "execution_count": 14,
     "metadata": {},
     "output_type": "execute_result"
    }
   ],
   "source": [
    "x_train.shapepe"
   ]
  },
  {
   "cell_type": "code",
   "execution_count": 4,
   "id": "79126199-a8e3-4a4e-905b-667dd476dfb6",
   "metadata": {},
   "outputs": [],
   "source": [
    "model = tf.keras.models.Sequential([\n",
    "    tf.keras.layers.Flatten(input_shape=(28, 28)),\n",
    "    tf.keras.layers.Dense(128, activation='relu'),\n",
    "    tf.keras.layers.Dropout(0.2),\n",
    "    tf.keras.layers.Dense(10)\n",
    "])"
   ]
  },
  {
   "cell_type": "code",
   "execution_count": 5,
   "id": "f59920dd-dfd8-4c20-ba56-509f3d678648",
   "metadata": {},
   "outputs": [
    {
     "data": {
      "text/plain": [
       "array([[-0.18902518, -0.32353258, -0.3557536 ,  0.22818288,  0.00706891,\n",
       "         0.81538117,  0.08564009,  0.7143751 , -0.3886965 , -0.3071569 ]],\n",
       "      dtype=float32)"
      ]
     },
     "execution_count": 5,
     "metadata": {},
     "output_type": "execute_result"
    }
   ],
   "source": [
    "predictions = model(x_train[:1]).numpy()\n",
    "predictions"
   ]
  },
  {
   "cell_type": "code",
   "execution_count": 6,
   "id": "3d8bcf51-b902-48dc-8cbb-0bbb431a457c",
   "metadata": {},
   "outputs": [
    {
     "data": {
      "text/plain": [
       "array([[0.07311614, 0.06391421, 0.06188766, 0.11096971, 0.08895612,\n",
       "        0.19962797, 0.09622742, 0.1804492 , 0.05988211, 0.06496947]],\n",
       "      dtype=float32)"
      ]
     },
     "execution_count": 6,
     "metadata": {},
     "output_type": "execute_result"
    }
   ],
   "source": [
    "tf.nn.softmax(predictions).numpy()"
   ]
  },
  {
   "cell_type": "code",
   "execution_count": 7,
   "id": "e4f96b22-0b00-437b-855e-370c92d6e1e4",
   "metadata": {},
   "outputs": [],
   "source": [
    "loss_fn = tf.keras.losses.SparseCategoricalCrossentropy(from_logits=True)"
   ]
  },
  {
   "cell_type": "code",
   "execution_count": 8,
   "id": "040c8790-a970-4025-9dd1-70c72db77470",
   "metadata": {},
   "outputs": [
    {
     "data": {
      "text/plain": [
       "1.6112999"
      ]
     },
     "execution_count": 8,
     "metadata": {},
     "output_type": "execute_result"
    }
   ],
   "source": [
    "loss_fn(y_train[:1], predictions).numpy()"
   ]
  },
  {
   "cell_type": "code",
   "execution_count": 9,
   "id": "5b3a01d1-067a-499a-888c-9034c1570943",
   "metadata": {},
   "outputs": [],
   "source": [
    "model.compile(optimizer='adam',\n",
    "              loss=loss_fn,\n",
    "              metrics=['accuracy']\n",
    ")"
   ]
  },
  {
   "cell_type": "code",
   "execution_count": 10,
   "id": "47fba58d-5776-4815-b1b1-8e51620fc1b1",
   "metadata": {},
   "outputs": [
    {
     "name": "stdout",
     "output_type": "stream",
     "text": [
      "Epoch 1/5\n",
      "1875/1875 [==============================] - 3s 1ms/step - loss: 0.3008 - accuracy: 0.9121\n",
      "Epoch 2/5\n",
      "1875/1875 [==============================] - 2s 1ms/step - loss: 0.1409 - accuracy: 0.9576\n",
      "Epoch 3/5\n",
      "1875/1875 [==============================] - 2s 1ms/step - loss: 0.1078 - accuracy: 0.9675\n",
      "Epoch 4/5\n",
      "1875/1875 [==============================] - 2s 1ms/step - loss: 0.0863 - accuracy: 0.9735\n",
      "Epoch 5/5\n",
      "1875/1875 [==============================] - 2s 1ms/step - loss: 0.0749 - accuracy: 0.9768\n"
     ]
    },
    {
     "data": {
      "text/plain": [
       "<keras.callbacks.History at 0x160548166a0>"
      ]
     },
     "execution_count": 10,
     "metadata": {},
     "output_type": "execute_result"
    }
   ],
   "source": [
    "model.fit(x_train, y_train, epochs=5)"
   ]
  },
  {
   "cell_type": "code",
   "execution_count": 11,
   "id": "dc4d0c89-40db-4e1f-9012-aad76b6335bb",
   "metadata": {},
   "outputs": [
    {
     "name": "stdout",
     "output_type": "stream",
     "text": [
      "313/313 - 0s - loss: 0.0765 - accuracy: 0.9785 - 391ms/epoch - 1ms/step\n"
     ]
    },
    {
     "data": {
      "text/plain": [
       "[0.07645248621702194, 0.9785000085830688]"
      ]
     },
     "execution_count": 11,
     "metadata": {},
     "output_type": "execute_result"
    }
   ],
   "source": [
    "model.evaluate(x_test, y_test, verbose=2)"
   ]
  },
  {
   "cell_type": "code",
   "execution_count": 12,
   "id": "ed363a24-d95b-4759-b018-882e922e8227",
   "metadata": {},
   "outputs": [],
   "source": [
    "probability_model = tf.keras.Sequential([\n",
    "    model,\n",
    "    tf.keras.layers.Softmax()\n",
    "])"
   ]
  },
  {
   "cell_type": "code",
   "execution_count": 13,
   "id": "ddfa2fa3-f61f-4eea-a573-9cc586fc4769",
   "metadata": {},
   "outputs": [
    {
     "data": {
      "text/plain": [
       "<tf.Tensor: shape=(5, 10), dtype=float32, numpy=\n",
       "array([[4.93043153e-08, 3.74001452e-09, 1.33176400e-05, 3.94135823e-05,\n",
       "        3.12978976e-09, 6.76545184e-08, 2.66246313e-12, 9.99933481e-01,\n",
       "        1.41724854e-07, 1.34111642e-05],\n",
       "       [1.12857423e-09, 2.59994522e-06, 9.99995589e-01, 1.77224422e-06,\n",
       "        1.94573560e-17, 3.67050852e-08, 3.52173117e-11, 1.67074622e-12,\n",
       "        3.32582561e-09, 1.33064336e-16],\n",
       "       [5.48466687e-07, 9.98822272e-01, 3.76587013e-05, 6.26793235e-06,\n",
       "        2.51364304e-06, 2.75841217e-06, 6.40460121e-06, 1.09593081e-03,\n",
       "        2.55971354e-05, 5.50448185e-08],\n",
       "       [9.99931455e-01, 1.25742119e-08, 3.24596112e-05, 4.75307388e-07,\n",
       "        2.62594949e-06, 2.18399055e-06, 1.92049974e-05, 1.53755263e-06,\n",
       "        2.69566569e-09, 1.01656315e-05],\n",
       "       [7.74059117e-06, 2.85037660e-09, 1.99745568e-06, 1.13765353e-08,\n",
       "        9.99032378e-01, 2.61680650e-08, 2.15156410e-06, 2.83266651e-04,\n",
       "        2.45054252e-08, 6.72355120e-04]], dtype=float32)>"
      ]
     },
     "execution_count": 13,
     "metadata": {},
     "output_type": "execute_result"
    }
   ],
   "source": [
    "probability_model(x_test[:5])"
   ]
  }
 ],
 "metadata": {
  "kernelspec": {
   "display_name": "Python 3 (ipykernel)",
   "language": "python",
   "name": "python3"
  },
  "language_info": {
   "codemirror_mode": {
    "name": "ipython",
    "version": 3
   },
   "file_extension": ".py",
   "mimetype": "text/x-python",
   "name": "python",
   "nbconvert_exporter": "python",
   "pygments_lexer": "ipython3",
   "version": "3.9.15"
  }
 },
 "nbformat": 4,
 "nbformat_minor": 5
}
