{
 "cells": [
  {
   "cell_type": "markdown",
   "id": "051ac867-fba9-4fb3-8598-48549f2b91e4",
   "metadata": {},
   "source": [
    "# LOADING DATA IN PYTORCH"
   ]
  },
  {
   "cell_type": "markdown",
   "id": "579d9232-3de6-44b9-ac6c-bfaddf8dc961",
   "metadata": {},
   "source": [
    "## 1. Import necessary libraries for loading our data"
   ]
  },
  {
   "cell_type": "code",
   "execution_count": 1,
   "id": "b69b3943-2fb6-4b0d-b685-a6e2413df45c",
   "metadata": {},
   "outputs": [],
   "source": [
    "import torch\n",
    "import torchaudio"
   ]
  },
  {
   "cell_type": "markdown",
   "id": "b5a4e136-d48c-47e9-85f5-ab1cd9fed0df",
   "metadata": {},
   "source": [
    "## 2. Access the data in the dataset"
   ]
  },
  {
   "cell_type": "code",
   "execution_count": 2,
   "id": "784e3b53-e206-4748-ae0a-fe1924338ab3",
   "metadata": {},
   "outputs": [
    {
     "name": "stderr",
     "output_type": "stream",
     "text": [
      "100.0%\n"
     ]
    },
    {
     "data": {
      "text/plain": [
       "<torchaudio.datasets.yesno.YESNO at 0x20e8fdd3730>"
      ]
     },
     "execution_count": 2,
     "metadata": {},
     "output_type": "execute_result"
    }
   ],
   "source": [
    "torchaudio.datasets.YESNO(\n",
    "    root='./',\n",
    "    url='http://www.openslr.org/resources/1/waves_yesno.tar.gz',\n",
    "    folder_in_archive='waves_yesno',\n",
    "    download=True\n",
    ")"
   ]
  },
  {
   "cell_type": "code",
   "execution_count": 3,
   "id": "6e506674-b6be-4011-ac89-df4579a61831",
   "metadata": {},
   "outputs": [
    {
     "name": "stdout",
     "output_type": "stream",
     "text": [
      "Waveform: tensor([[ 3.0518e-05,  6.1035e-05,  3.0518e-05,  ..., -1.8311e-04,\n",
      "          4.2725e-04,  6.7139e-04]])\n",
      "Sample rate: 8000\n",
      "Labels: [0, 0, 1, 0, 0, 0, 1, 0]\n"
     ]
    }
   ],
   "source": [
    "# * ``download``: If true, downloads the dataset from the internet and puts it in root directory. If dataset is already downloaded, it is not downloaded again.\n",
    "#\n",
    "# Let’s access our Yesno data:\n",
    "#\n",
    "\n",
    "# A data point in Yesno is a tuple (waveform, sample_rate, labels) where labels\n",
    "# is a list of integers with 1 for yes and 0 for no.\n",
    "yesno_data = torchaudio.datasets.YESNO('./', download=True)\n",
    "\n",
    "# Pick data point number 3 to see an example of the yesno_data:\n",
    "n = 3\n",
    "waveform, sample_rate, labels = yesno_data[n]\n",
    "print(\"Waveform: {}\\nSample rate: {}\\nLabels: {}\".format(waveform, sample_rate, labels))"
   ]
  },
  {
   "cell_type": "markdown",
   "id": "2b915a94-9671-443f-b869-ff58eb6c2e4c",
   "metadata": {},
   "source": [
    "## 3. Loading the data"
   ]
  },
  {
   "cell_type": "code",
   "execution_count": 4,
   "id": "fae4fb36-6a4e-42f3-afdc-4d2b0fa11005",
   "metadata": {},
   "outputs": [],
   "source": [
    "data_loader = torch.utils.data.DataLoader(yesno_data,\n",
    "                                          batch_size=1,\n",
    "                                          shuffle=True)"
   ]
  },
  {
   "cell_type": "markdown",
   "id": "ea0885ce-f111-4dc8-b86a-e1ca48206510",
   "metadata": {},
   "source": [
    "## 4. Iterate over the data"
   ]
  },
  {
   "cell_type": "code",
   "execution_count": 7,
   "id": "50087b4e-9b08-4962-814d-02dd4611bdfc",
   "metadata": {},
   "outputs": [
    {
     "name": "stdout",
     "output_type": "stream",
     "text": [
      "Data:  [tensor([[[3.0518e-05, 6.1035e-05, 3.0518e-05,  ..., 3.4790e-03,\n",
      "          3.5095e-03, 3.7842e-03]]]), tensor([8000]), [tensor([1]), tensor([0]), tensor([1]), tensor([1]), tensor([0]), tensor([1]), tensor([1]), tensor([1])]]\n",
      "Waveform: tensor([[[3.0518e-05, 6.1035e-05, 3.0518e-05,  ..., 3.4790e-03,\n",
      "          3.5095e-03, 3.7842e-03]]])\n",
      "Sample rate: tensor([8000])\n",
      "Labels: [tensor([1]), tensor([0]), tensor([1]), tensor([1]), tensor([0]), tensor([1]), tensor([1]), tensor([1])]\n"
     ]
    }
   ],
   "source": [
    "for data in data_loader:\n",
    "    print(\"Data: \", data)\n",
    "    print(\"Waveform: {}\\nSample rate: {}\\nLabels: {}\".format(data[0], data[1], data[2]))\n",
    "    break"
   ]
  },
  {
   "cell_type": "markdown",
   "id": "8f046291-cef1-4583-8134-3580ac921821",
   "metadata": {},
   "source": [
    "## 5. \\[Optional\\] Visualize the data"
   ]
  },
  {
   "cell_type": "code",
   "execution_count": 8,
   "id": "9622f4b4-5634-4001-85a3-bf527a596fc2",
   "metadata": {},
   "outputs": [
    {
     "name": "stdout",
     "output_type": "stream",
     "text": [
      "[[3.0517578e-05 6.1035156e-05 3.0517578e-05 ... 3.4790039e-03\n",
      "  3.5095215e-03 3.7841797e-03]]\n"
     ]
    },
    {
     "data": {
      "text/plain": [
       "[<matplotlib.lines.Line2D at 0x20e933eee80>]"
      ]
     },
     "execution_count": 8,
     "metadata": {},
     "output_type": "execute_result"
    },
    {
     "data": {
      "image/png": "[encoded data removed]",
      "text/plain": [
       "<Figure size 640x480 with 1 Axes>"
      ]
     },
     "metadata": {},
     "output_type": "display_data"
    }
   ],
   "source": [
    "import matplotlib.pyplot as plt\n",
    "\n",
    "print(data[0][0].numpy())\n",
    "\n",
    "plt.figure()\n",
    "plt.plot(waveform.t().numpy())"
   ]
  }
 ],
 "metadata": {
  "kernelspec": {
   "display_name": "Python 3 (ipykernel)",
   "language": "python",
   "name": "python3"
  },
  "language_info": {
   "codemirror_mode": {
    "name": "ipython",
    "version": 3
   },
   "file_extension": ".py",
   "mimetype": "text/x-python",
   "name": "python",
   "nbconvert_exporter": "python",
   "pygments_lexer": "ipython3",
   "version": "3.9.15"
  }
 },
 "nbformat": 4,
 "nbformat_minor": 5
}
