{
 "cells": [
  {
   "cell_type": "markdown",
   "id": "8a21dfb1-957e-4098-9ee4-039d97d996cc",
   "metadata": {},
   "source": [
    "# HOW TO USE TENSORBOARD WITH PYTORCH"
   ]
  },
  {
   "cell_type": "markdown",
   "id": "f40d07a6-e44d-4dae-b32b-6b74bee99a25",
   "metadata": {},
   "source": [
    "參考資料:  \n",
    "[How to use TensorBoard with PyTorch — PyTorch Tutorials 1.12.1+cu102 documentation](https://pytorch.org/tutorials/recipes/recipes/tensorboard_with_pytorch.html)"
   ]
  },
  {
   "cell_type": "markdown",
   "id": "a59ef8b5-e30f-4d73-beae-6c3dc8be1071",
   "metadata": {},
   "source": [
    "## Using TensorBoard in PyTorch"
   ]
  },
  {
   "cell_type": "code",
   "execution_count": 1,
   "id": "fe8614be-009d-47c5-bfde-bd6523430375",
   "metadata": {},
   "outputs": [],
   "source": [
    "import torch\n",
    "from torch.utils.tensorboard import SummaryWriter\n",
    "writer = SummaryWriter()"
   ]
  },
  {
   "cell_type": "markdown",
   "id": "cdfce14f-511f-4799-840f-88422ec09d1a",
   "metadata": {},
   "source": [
    "## Log scalars"
   ]
  },
  {
   "cell_type": "code",
   "execution_count": 2,
   "id": "4628a64f-333c-423e-92af-adae765fd5e8",
   "metadata": {
    "tags": []
   },
   "outputs": [],
   "source": [
    "x = torch.arange(-5, 5, 0.1).view(-1, 1)\n",
    "y = -5*x + 0.1*torch.randn(x.size())\n",
    "\n",
    "model = torch.nn.Linear(1, 1)\n",
    "criterion = torch.nn.MSELoss()\n",
    "optimizer = torch.optim.SGD(model.parameters(), lr=0.1)\n",
    "\n",
    "def train_model(iter):\n",
    "    for epoch in range(iter):\n",
    "        y1 = model(x)\n",
    "        loss = criterion(y1, y)\n",
    "        writer.add_scalar(\"Loss/train\", loss, epoch)\n",
    "        optimizer.zero_grad()\n",
    "        loss.backward()\n",
    "        optimizer.step()\n",
    "\n",
    "train_model(10)\n",
    "writer.flush()\n",
    "\n",
    "# If you do not need the summary writer anymore, call close() method.\n",
    "# writer.close()"
   ]
  },
  {
   "cell_type": "markdown",
   "id": "95a938de-94de-443b-a75d-a82c2e131c12",
   "metadata": {},
   "source": [
    "### Run TensorBoard\n",
    "- - -\n",
    "```$ pip install tensorboard```\n",
    "\n",
    "```$ tensorboard --logdir=runs```"
   ]
  },
  {
   "cell_type": "markdown",
   "id": "354279cb-9743-465d-988b-0a8c451ebdeb",
   "metadata": {},
   "source": [
    "### 伺服器ip位置:  \n",
    "[localhost:6006](http://localhost:6006/)"
   ]
  },
  {
   "cell_type": "markdown",
   "id": "b98bbd3a-8a88-481d-a790-1d43129e5b61",
   "metadata": {},
   "source": [
    "### Share TensorBoard dashboards\n",
    "- - -\n",
    "```$ pip install tensorboard --upgrade```\n",
    "\n",
    "```$ tensorboard dev upload --logdir runs \\\n",
    "--name \"My latest experiment\" \\ # optional\n",
    "--description \"Simple comparison of several hyperparameters\" # optional```"
   ]
  }
 ],
 "metadata": {
  "kernelspec": {
   "display_name": "Python 3 (ipykernel)",
   "language": "python",
   "name": "python3"
  },
  "language_info": {
   "codemirror_mode": {
    "name": "ipython",
    "version": 3
   },
   "file_extension": ".py",
   "mimetype": "text/x-python",
   "name": "python",
   "nbconvert_exporter": "python",
   "pygments_lexer": "ipython3",
   "version": "3.9.15"
  }
 },
 "nbformat": 4,
 "nbformat_minor": 5
}
