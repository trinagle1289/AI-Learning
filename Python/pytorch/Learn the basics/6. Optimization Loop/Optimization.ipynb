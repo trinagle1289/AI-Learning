{
 "cells": [
  {
   "cell_type": "markdown",
   "id": "5d176d91-3452-4d37-a179-a9d1c28ac5a6",
   "metadata": {},
   "source": [
    "# OPTIMIZING MODEL PARAMETERS"
   ]
  },
  {
   "cell_type": "markdown",
   "id": "1d19bf29-b801-494b-b177-83b535b1ac5b",
   "metadata": {},
   "source": [
    "## Prerequisite Code"
   ]
  },
  {
   "cell_type": "code",
   "execution_count": 2,
   "id": "851e586c-865a-4910-8a5e-adb3144899aa",
   "metadata": {},
   "outputs": [
    {
     "name": "stdout",
     "output_type": "stream",
     "text": [
      "Downloading http://fashion-mnist.s3-website.eu-central-1.amazonaws.com/train-images-idx3-ubyte.gz\n",
      "Downloading http://fashion-mnist.s3-website.eu-central-1.amazonaws.com/train-images-idx3-ubyte.gz to data\\FashionMNIST\\raw\\train-images-idx3-ubyte.gz\n"
     ]
    },
    {
     "name": "stderr",
     "output_type": "stream",
     "text": [
      "100.0%\n"
     ]
    },
    {
     "name": "stdout",
     "output_type": "stream",
     "text": [
      "Extracting data\\FashionMNIST\\raw\\train-images-idx3-ubyte.gz to data\\FashionMNIST\\raw\n",
      "\n",
      "Downloading http://fashion-mnist.s3-website.eu-central-1.amazonaws.com/train-labels-idx1-ubyte.gz\n",
      "Downloading http://fashion-mnist.s3-website.eu-central-1.amazonaws.com/train-labels-idx1-ubyte.gz to data\\FashionMNIST\\raw\\train-labels-idx1-ubyte.gz\n"
     ]
    },
    {
     "name": "stderr",
     "output_type": "stream",
     "text": [
      "100.0%\n"
     ]
    },
    {
     "name": "stdout",
     "output_type": "stream",
     "text": [
      "Extracting data\\FashionMNIST\\raw\\train-labels-idx1-ubyte.gz to data\\FashionMNIST\\raw\n",
      "\n",
      "Downloading http://fashion-mnist.s3-website.eu-central-1.amazonaws.com/t10k-images-idx3-ubyte.gz\n",
      "Downloading http://fashion-mnist.s3-website.eu-central-1.amazonaws.com/t10k-images-idx3-ubyte.gz to data\\FashionMNIST\\raw\\t10k-images-idx3-ubyte.gz\n"
     ]
    },
    {
     "name": "stderr",
     "output_type": "stream",
     "text": [
      "100.0%\n"
     ]
    },
    {
     "name": "stdout",
     "output_type": "stream",
     "text": [
      "Extracting data\\FashionMNIST\\raw\\t10k-images-idx3-ubyte.gz to data\\FashionMNIST\\raw\n",
      "\n",
      "Downloading http://fashion-mnist.s3-website.eu-central-1.amazonaws.com/t10k-labels-idx1-ubyte.gz\n",
      "Downloading http://fashion-mnist.s3-website.eu-central-1.amazonaws.com/t10k-labels-idx1-ubyte.gz to data\\FashionMNIST\\raw\\t10k-labels-idx1-ubyte.gz\n"
     ]
    },
    {
     "name": "stderr",
     "output_type": "stream",
     "text": [
      "100.0%"
     ]
    },
    {
     "name": "stdout",
     "output_type": "stream",
     "text": [
      "Extracting data\\FashionMNIST\\raw\\t10k-labels-idx1-ubyte.gz to data\\FashionMNIST\\raw\n",
      "\n"
     ]
    },
    {
     "name": "stderr",
     "output_type": "stream",
     "text": [
      "\n"
     ]
    }
   ],
   "source": [
    "import torch\n",
    "from torch import nn\n",
    "from torch.utils.data import DataLoader\n",
    "from torchvision import datasets\n",
    "from torchvision.transforms import ToTensor\n",
    "\n",
    "training_data = datasets.FashionMNIST(\n",
    "    root=\"data\",\n",
    "    train=True,\n",
    "    download=True,\n",
    "    transform=ToTensor()\n",
    ")\n",
    "\n",
    "test_data = datasets.FashionMNIST(\n",
    "    root=\"data\",\n",
    "    train=False,\n",
    "    download=True,\n",
    "    transform=ToTensor()\n",
    ")\n",
    "\n",
    "training_dataloader = DataLoader(training_data, batch_size=64)\n",
    "test_dataloader = DataLoader(test_data, batch_size=64)\n",
    "\n",
    "class NeuralNetwork(nn.Module):\n",
    "    def __init__(self):\n",
    "        super(NeuralNetwork, self).__init__()\n",
    "        self.flatten = nn.Flatten()\n",
    "        self.linear_relu_stack = nn.Sequential(\n",
    "            nn.Linear(28*28, 512),\n",
    "            nn.ReLU(),\n",
    "            nn.Linear(512, 512),\n",
    "            nn.ReLU(),\n",
    "            nn.Linear(512, 10)\n",
    "        )\n",
    "        \n",
    "    def forward(self, x):\n",
    "        x = self.flatten(x)\n",
    "        logits = self.linear_relu_stack(x)\n",
    "        return logits\n",
    "\n",
    "model = NeuralNetwork()"
   ]
  },
  {
   "cell_type": "markdown",
   "id": "57ed983a-59ec-495d-8844-88790fcd4d9a",
   "metadata": {},
   "source": [
    "## Hyperparameters"
   ]
  },
  {
   "cell_type": "code",
   "execution_count": 3,
   "id": "8044cf29-6500-4296-b4ae-97cc383d6c38",
   "metadata": {},
   "outputs": [],
   "source": [
    "learning_rate = 1e-3\n",
    "batch_size = 64\n",
    "epochs = 5"
   ]
  },
  {
   "cell_type": "markdown",
   "id": "976ad87b-750a-4d38-ab4a-a68442372740",
   "metadata": {},
   "source": [
    "## Optimization Loop"
   ]
  },
  {
   "cell_type": "markdown",
   "id": "bfc1040d-c270-42b6-a919-fde724098e50",
   "metadata": {},
   "source": [
    "### Loss Function"
   ]
  },
  {
   "cell_type": "code",
   "execution_count": 4,
   "id": "0b3519f7-1c0f-4880-8d4d-0cf2b669f9a9",
   "metadata": {},
   "outputs": [],
   "source": [
    "# Initialize the loss function\n",
    "loss_fn = nn.CrossEntropyLoss()"
   ]
  },
  {
   "cell_type": "markdown",
   "id": "699964c7-4231-4748-93e6-04e3b705856f",
   "metadata": {},
   "source": [
    "### Optimizer"
   ]
  },
  {
   "cell_type": "code",
   "execution_count": 5,
   "id": "a532a266-e9f1-41f2-87b3-c91d4c55a633",
   "metadata": {},
   "outputs": [],
   "source": [
    "optimizer = torch.optim.SGD(model.parameters(), lr=learning_rate)"
   ]
  },
  {
   "cell_type": "markdown",
   "id": "ae0ccd67-f27b-4e0d-b33a-8f174d537ef2",
   "metadata": {},
   "source": [
    "### Full Implementation"
   ]
  },
  {
   "cell_type": "code",
   "execution_count": 7,
   "id": "8cf4e15b-e96f-4574-828a-8ebad0c13a31",
   "metadata": {},
   "outputs": [],
   "source": [
    "def train_loop(dataloder, model, loss_fn, optimizer):\n",
    "    size = len(dataloder.dataset)\n",
    "    for batch, (X, y) in enumerate(dataloder):\n",
    "        # Compute prediction and loss\n",
    "        pred = model(X)\n",
    "        loss = loss_fn(pred, y)\n",
    "        \n",
    "        # Backpropagation\n",
    "        optimizer.zero_grad()\n",
    "        loss.backward()\n",
    "        optimizer.step()\n",
    "        \n",
    "        if batch % 100 == 0:\n",
    "            loss, current = loss.item(), batch*len(X)\n",
    "            print(f\"loss: {loss:>7f} [{current:>5d}/{size:>5d}]\")\n",
    "            \n",
    "def test_loop(dataloder, model, loss_fn):\n",
    "    size = len(dataloder.dataset)\n",
    "    num_batches = len(dataloder)\n",
    "    test_loss, corrent = 0, 0\n",
    "    \n",
    "    with torch.no_grad():\n",
    "        for X, y in dataloder:\n",
    "            pred = model(X)\n",
    "            test_loss += loss_fn(pred, y).item()\n",
    "            corrent += (pred.argmax(1) == y).type(torch.float).sum().item()\n",
    "            \n",
    "    test_loss /= num_batches\n",
    "    corrent /= size\n",
    "    print(f\"Test Error: \\n Accuracy:{(100*corrent):>0.1f}%, Avg loss: {test_loss:>8f} \\n\")"
   ]
  },
  {
   "cell_type": "code",
   "execution_count": 8,
   "id": "2f217f42-63b9-4811-8f93-b7d0ef56d095",
   "metadata": {},
   "outputs": [
    {
     "name": "stdout",
     "output_type": "stream",
     "text": [
      "Epoch 1\n",
      "-------------------------------\n",
      "loss: 2.303346 [    0/60000]\n",
      "loss: 2.294512 [ 6400/60000]\n",
      "loss: 2.280084 [12800/60000]\n",
      "loss: 2.272315 [19200/60000]\n",
      "loss: 2.249029 [25600/60000]\n",
      "loss: 2.230813 [32000/60000]\n",
      "loss: 2.229488 [38400/60000]\n",
      "loss: 2.194345 [44800/60000]\n",
      "loss: 2.198025 [51200/60000]\n",
      "loss: 2.172998 [57600/60000]\n",
      "Test Error: \n",
      " Accuracy:48.2%, Avg loss: 2.156999 \n",
      "\n",
      "Epoch 2\n",
      "-------------------------------\n",
      "loss: 2.164546 [    0/60000]\n",
      "loss: 2.155215 [ 6400/60000]\n",
      "loss: 2.096260 [12800/60000]\n",
      "loss: 2.114290 [19200/60000]\n",
      "loss: 2.060450 [25600/60000]\n",
      "loss: 2.009393 [32000/60000]\n",
      "loss: 2.028048 [38400/60000]\n",
      "loss: 1.945755 [44800/60000]\n",
      "loss: 1.957863 [51200/60000]\n",
      "loss: 1.893234 [57600/60000]\n",
      "Test Error: \n",
      " Accuracy:59.0%, Avg loss: 1.877912 \n",
      "\n",
      "Epoch 3\n",
      "-------------------------------\n",
      "loss: 1.907813 [    0/60000]\n",
      "loss: 1.880034 [ 6400/60000]\n",
      "loss: 1.754151 [12800/60000]\n",
      "loss: 1.804465 [19200/60000]\n",
      "loss: 1.705439 [25600/60000]\n",
      "loss: 1.652955 [32000/60000]\n",
      "loss: 1.672834 [38400/60000]\n",
      "loss: 1.569445 [44800/60000]\n",
      "loss: 1.604832 [51200/60000]\n",
      "loss: 1.502854 [57600/60000]\n",
      "Test Error: \n",
      " Accuracy:60.1%, Avg loss: 1.513580 \n",
      "\n",
      "Epoch 4\n",
      "-------------------------------\n",
      "loss: 1.575905 [    0/60000]\n",
      "loss: 1.549246 [ 6400/60000]\n",
      "loss: 1.392324 [12800/60000]\n",
      "loss: 1.474967 [19200/60000]\n",
      "loss: 1.363128 [25600/60000]\n",
      "loss: 1.349311 [32000/60000]\n",
      "loss: 1.363011 [38400/60000]\n",
      "loss: 1.286563 [44800/60000]\n",
      "loss: 1.330418 [51200/60000]\n",
      "loss: 1.226625 [57600/60000]\n",
      "Test Error: \n",
      " Accuracy:62.7%, Avg loss: 1.252876 \n",
      "\n",
      "Epoch 5\n",
      "-------------------------------\n",
      "loss: 1.325179 [    0/60000]\n",
      "loss: 1.316923 [ 6400/60000]\n",
      "loss: 1.144890 [12800/60000]\n",
      "loss: 1.259365 [19200/60000]\n",
      "loss: 1.133421 [25600/60000]\n",
      "loss: 1.152040 [32000/60000]\n",
      "loss: 1.172886 [38400/60000]\n",
      "loss: 1.111026 [44800/60000]\n",
      "loss: 1.159368 [51200/60000]\n",
      "loss: 1.064683 [57600/60000]\n",
      "Test Error: \n",
      " Accuracy:64.5%, Avg loss: 1.089463 \n",
      "\n",
      "Epoch 6\n",
      "-------------------------------\n",
      "loss: 1.158640 [    0/60000]\n",
      "loss: 1.168684 [ 6400/60000]\n",
      "loss: 0.979690 [12800/60000]\n",
      "loss: 1.121572 [19200/60000]\n",
      "loss: 0.991855 [25600/60000]\n",
      "loss: 1.019351 [32000/60000]\n",
      "loss: 1.055769 [38400/60000]\n",
      "loss: 0.998196 [44800/60000]\n",
      "loss: 1.048520 [51200/60000]\n",
      "loss: 0.962776 [57600/60000]\n",
      "Test Error: \n",
      " Accuracy:66.0%, Avg loss: 0.983514 \n",
      "\n",
      "Epoch 7\n",
      "-------------------------------\n",
      "loss: 1.042358 [    0/60000]\n",
      "loss: 1.072129 [ 6400/60000]\n",
      "loss: 0.865419 [12800/60000]\n",
      "loss: 1.029204 [19200/60000]\n",
      "loss: 0.903158 [25600/60000]\n",
      "loss: 0.925462 [32000/60000]\n",
      "loss: 0.979706 [38400/60000]\n",
      "loss: 0.924088 [44800/60000]\n",
      "loss: 0.972037 [51200/60000]\n",
      "loss: 0.894250 [57600/60000]\n",
      "Test Error: \n",
      " Accuracy:67.2%, Avg loss: 0.911078 \n",
      "\n",
      "Epoch 8\n",
      "-------------------------------\n",
      "loss: 0.956017 [    0/60000]\n",
      "loss: 1.004471 [ 6400/60000]\n",
      "loss: 0.783138 [12800/60000]\n",
      "loss: 0.963182 [19200/60000]\n",
      "loss: 0.844318 [25600/60000]\n",
      "loss: 0.856835 [32000/60000]\n",
      "loss: 0.926229 [38400/60000]\n",
      "loss: 0.873653 [44800/60000]\n",
      "loss: 0.916785 [51200/60000]\n",
      "loss: 0.844418 [57600/60000]\n",
      "Test Error: \n",
      " Accuracy:68.4%, Avg loss: 0.858662 \n",
      "\n",
      "Epoch 9\n",
      "-------------------------------\n",
      "loss: 0.888452 [    0/60000]\n",
      "loss: 0.953143 [ 6400/60000]\n",
      "loss: 0.721244 [12800/60000]\n",
      "loss: 0.913179 [19200/60000]\n",
      "loss: 0.802868 [25600/60000]\n",
      "loss: 0.805283 [32000/60000]\n",
      "loss: 0.885290 [38400/60000]\n",
      "loss: 0.837915 [44800/60000]\n",
      "loss: 0.874887 [51200/60000]\n",
      "loss: 0.806055 [57600/60000]\n",
      "Test Error: \n",
      " Accuracy:69.7%, Avg loss: 0.818835 \n",
      "\n",
      "Epoch 10\n",
      "-------------------------------\n",
      "loss: 0.833776 [    0/60000]\n",
      "loss: 0.911781 [ 6400/60000]\n",
      "loss: 0.673222 [12800/60000]\n",
      "loss: 0.874007 [19200/60000]\n",
      "loss: 0.771719 [25600/60000]\n",
      "loss: 0.765760 [32000/60000]\n",
      "loss: 0.851881 [38400/60000]\n",
      "loss: 0.811450 [44800/60000]\n",
      "loss: 0.842050 [51200/60000]\n",
      "loss: 0.775260 [57600/60000]\n",
      "Test Error: \n",
      " Accuracy:71.0%, Avg loss: 0.787067 \n",
      "\n",
      "Done!\n"
     ]
    }
   ],
   "source": [
    "loss_fn = nn.CrossEntropyLoss()\n",
    "optimizer = torch.optim.SGD(model.parameters(), lr=learning_rate)\n",
    "\n",
    "epochs = 10\n",
    "for t in range(epochs):\n",
    "    print(f\"Epoch {t+1}\\n-------------------------------\")\n",
    "    train_loop(training_dataloader, model, loss_fn, optimizer)\n",
    "    test_loop(test_dataloader, model, loss_fn)\n",
    "    \n",
    "print(\"Done!\")"
   ]
  }
 ],
 "metadata": {
  "kernelspec": {
   "display_name": "Python 3 (ipykernel)",
   "language": "python",
   "name": "python3"
  },
  "language_info": {
   "codemirror_mode": {
    "name": "ipython",
    "version": 3
   },
   "file_extension": ".py",
   "mimetype": "text/x-python",
   "name": "python",
   "nbconvert_exporter": "python",
   "pygments_lexer": "ipython3",
   "version": "3.9.15"
  }
 },
 "nbformat": 4,
 "nbformat_minor": 5
}
