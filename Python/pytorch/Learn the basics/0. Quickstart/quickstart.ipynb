{
 "cells": [
  {
   "cell_type": "code",
   "execution_count": 1,
   "id": "9374a37c-a3ea-441b-bad4-ebb21d0d5009",
   "metadata": {},
   "outputs": [],
   "source": [
    "import torch\n",
    "from torch import nn\n",
    "from torch.utils.data import DataLoader\n",
    "from torchvision import datasets\n",
    "from torchvision.transforms import ToTensor"
   ]
  },
  {
   "cell_type": "markdown",
   "id": "96d8b38a-7396-4ace-aa88-1a6f7b74fb9a",
   "metadata": {},
   "source": [
    "## Working with data"
   ]
  },
  {
   "cell_type": "code",
   "execution_count": 2,
   "id": "45586ee6-8af1-4efb-84a6-b92af090d874",
   "metadata": {},
   "outputs": [],
   "source": [
    "# Downl9oad training data from open datasets.\n",
    "training_data = datasets.FashionMNIST(\n",
    "    root=\"data\",\n",
    "    train=True,\n",
    "    download=True,\n",
    "    transform=ToTensor(),\n",
    ")\n",
    "\n",
    "# Download test data from open datasets.\n",
    "test_data = datasets.FashionMNIST(\n",
    "    root=\"data\",\n",
    "    train=False,\n",
    "    download=True,\n",
    "    transform=ToTensor(),\n",
    ")"
   ]
  },
  {
   "cell_type": "code",
   "execution_count": 3,
   "id": "9c4fc48f-9df7-42b3-a056-fcf3c5ff8d3e",
   "metadata": {},
   "outputs": [
    {
     "name": "stdout",
     "output_type": "stream",
     "text": [
      "Shape of X [N, C, H, W]: torch.Size([64, 1, 28, 28])\n",
      "Shape of y: torch.Size([64]) torch.int64\n"
     ]
    }
   ],
   "source": [
    "batch_size = 64\n",
    "\n",
    "# Create data loaders.\n",
    "train_dataloader = DataLoader(training_data, batch_size=batch_size)\n",
    "test_dataloader = DataLoader(test_data, batch_size=batch_size)\n",
    "\n",
    "for X, y in test_dataloader:\n",
    "    print(f\"Shape of X [N, C, H, W]: {X.shape}\")\n",
    "    print(f\"Shape of y: {y.shape} {y.dtype}\")\n",
    "    break"
   ]
  },
  {
   "cell_type": "markdown",
   "id": "441f3535-074f-4b82-90b1-2807ebbcc834",
   "metadata": {},
   "source": [
    "## Creating Models"
   ]
  },
  {
   "cell_type": "code",
   "execution_count": 4,
   "id": "1eef6a2d-5829-4b90-bac7-a50c36437f58",
   "metadata": {},
   "outputs": [
    {
     "name": "stdout",
     "output_type": "stream",
     "text": [
      "Using cuda device\n",
      "NeuralNetwork(\n",
      "  (flatten): Flatten(start_dim=1, end_dim=-1)\n",
      "  (linear_relu_stack): Sequential(\n",
      "    (0): Linear(in_features=784, out_features=512, bias=True)\n",
      "    (1): ReLU()\n",
      "    (2): Linear(in_features=512, out_features=512, bias=True)\n",
      "    (3): ReLU()\n",
      "    (4): Linear(in_features=512, out_features=10, bias=True)\n",
      "  )\n",
      ")\n"
     ]
    }
   ],
   "source": [
    "# Get cpu or gpu device for training.\n",
    "device = \"cuda\" if torch.cuda.is_available() else \"mps\" if torch.backends.mps.is_available() else \"cpu\"\n",
    "print(f\"Using {device} device\")\n",
    "\n",
    "# Define model\n",
    "class NeuralNetwork(nn.Module):\n",
    "    def __init__(self):\n",
    "        super().__init__()\n",
    "        self.flatten = nn.Flatten()\n",
    "        self.linear_relu_stack = nn.Sequential(\n",
    "            nn.Linear(28*28, 512),\n",
    "            nn.ReLU(),\n",
    "            nn.Linear(512, 512),\n",
    "            nn.ReLU(),\n",
    "            nn.Linear(512, 10)\n",
    "        )\n",
    "        \n",
    "    def forward(self, x):\n",
    "        x = self.flatten(x)\n",
    "        logits = self.linear_relu_stack(x)\n",
    "        return logits\n",
    "    \n",
    "model = NeuralNetwork().to(device)\n",
    "print(model)"
   ]
  },
  {
   "cell_type": "markdown",
   "id": "e7a6c072-7c0e-4413-bb18-34c0a327dab7",
   "metadata": {},
   "source": [
    "## Optimizing the Model Parameters"
   ]
  },
  {
   "cell_type": "code",
   "execution_count": 5,
   "id": "fb095fa4-1cef-4a6e-af54-063cc1bddc5b",
   "metadata": {},
   "outputs": [],
   "source": [
    "loss_fn = nn.CrossEntropyLoss()\n",
    "optimizer = torch.optim.SGD(model.parameters(), lr=1e-3)"
   ]
  },
  {
   "cell_type": "code",
   "execution_count": 6,
   "id": "7f8d4a32-f8ba-480f-bcc7-8a601f79b310",
   "metadata": {},
   "outputs": [],
   "source": [
    "def train(dataloader, model, loss_fn, optimizer):\n",
    "    size = len(dataloader.dataset)\n",
    "    model.train()\n",
    "    for batch, (X, y) in enumerate(dataloader):\n",
    "        X, y = X.to(device), y.to(device)\n",
    "        \n",
    "        # Compute prediction error\n",
    "        pred = model(X)\n",
    "        loss = loss_fn(pred, y)\n",
    "        \n",
    "        # Backpropagation\n",
    "        optimizer.zero_grad()\n",
    "        loss.backward()\n",
    "        optimizer.step()\n",
    "        \n",
    "        if batch % 100 == 0:\n",
    "            loss, current = loss.item(), batch * len(X)\n",
    "            print(f\"loss: {loss:>7f} [{current:>5d}/{size:>5d}]\")"
   ]
  },
  {
   "cell_type": "code",
   "execution_count": 7,
   "id": "b9d7adad-a749-48d6-afa9-f6ce15b13b08",
   "metadata": {},
   "outputs": [],
   "source": [
    "def test(dataloader, model, loss_fn):\n",
    "    size = len(dataloader.dataset)\n",
    "    num_batches = len(dataloader)\n",
    "    model.eval()\n",
    "    test_loss, current = 0, 0\n",
    "    with torch.no_grad():\n",
    "        for X, y in dataloader:\n",
    "            X, y = X.to(device), y.to(device)\n",
    "            pred = model(X)\n",
    "            test_loss += loss_fn(pred, y).item()\n",
    "            current += (pred.argmax(1) == y).type(torch.float).sum().item()\n",
    "    \n",
    "    test_loss /= num_batches\n",
    "    current /= size\n",
    "    print(f\"Test Error: \\n Accuracy: {(100*current):>0.1f}%, avg loss: {test_loss:8f} \\n\")"
   ]
  },
  {
   "cell_type": "code",
   "execution_count": 8,
   "id": "304b3f5a-7e5a-4f7d-a155-417676b3a8fb",
   "metadata": {},
   "outputs": [
    {
     "name": "stdout",
     "output_type": "stream",
     "text": [
      "Epoch 1\n",
      "-------------------------------\n",
      "loss: 2.302771 [    0/60000]\n",
      "loss: 2.298983 [ 6400/60000]\n",
      "loss: 2.275645 [12800/60000]\n",
      "loss: 2.273575 [19200/60000]\n",
      "loss: 2.253023 [25600/60000]\n",
      "loss: 2.226804 [32000/60000]\n",
      "loss: 2.238090 [38400/60000]\n",
      "loss: 2.200020 [44800/60000]\n",
      "loss: 2.194049 [51200/60000]\n",
      "loss: 2.173706 [57600/60000]\n",
      "Test Error: \n",
      " Accuracy: 41.3%, avg loss: 2.164690 \n",
      "\n",
      "Epoch 2\n",
      "-------------------------------\n",
      "loss: 2.168290 [    0/60000]\n",
      "loss: 2.169055 [ 6400/60000]\n",
      "loss: 2.107800 [12800/60000]\n",
      "loss: 2.126477 [19200/60000]\n",
      "loss: 2.075796 [25600/60000]\n",
      "loss: 2.022272 [32000/60000]\n",
      "loss: 2.050180 [38400/60000]\n",
      "loss: 1.970098 [44800/60000]\n",
      "loss: 1.970742 [51200/60000]\n",
      "loss: 1.904778 [57600/60000]\n",
      "Test Error: \n",
      " Accuracy: 57.8%, avg loss: 1.903361 \n",
      "\n",
      "Epoch 3\n",
      "-------------------------------\n",
      "loss: 1.929442 [    0/60000]\n",
      "loss: 1.914142 [ 6400/60000]\n",
      "loss: 1.792916 [12800/60000]\n",
      "loss: 1.828476 [19200/60000]\n",
      "loss: 1.720258 [25600/60000]\n",
      "loss: 1.675206 [32000/60000]\n",
      "loss: 1.693810 [38400/60000]\n",
      "loss: 1.595033 [44800/60000]\n",
      "loss: 1.614481 [51200/60000]\n",
      "loss: 1.512007 [57600/60000]\n",
      "Test Error: \n",
      " Accuracy: 61.3%, avg loss: 1.531001 \n",
      "\n",
      "Epoch 4\n",
      "-------------------------------\n",
      "loss: 1.592459 [    0/60000]\n",
      "loss: 1.571995 [ 6400/60000]\n",
      "loss: 1.417020 [12800/60000]\n",
      "loss: 1.480984 [19200/60000]\n",
      "loss: 1.364512 [25600/60000]\n",
      "loss: 1.361902 [32000/60000]\n",
      "loss: 1.379683 [38400/60000]\n",
      "loss: 1.300283 [44800/60000]\n",
      "loss: 1.330885 [51200/60000]\n",
      "loss: 1.238261 [57600/60000]\n",
      "Test Error: \n",
      " Accuracy: 63.3%, avg loss: 1.260760 \n",
      "\n",
      "Epoch 5\n",
      "-------------------------------\n",
      "loss: 1.334631 [    0/60000]\n",
      "loss: 1.328246 [ 6400/60000]\n",
      "loss: 1.160249 [12800/60000]\n",
      "loss: 1.256110 [19200/60000]\n",
      "loss: 1.131836 [25600/60000]\n",
      "loss: 1.158191 [32000/60000]\n",
      "loss: 1.186978 [38400/60000]\n",
      "loss: 1.118415 [44800/60000]\n",
      "loss: 1.152469 [51200/60000]\n",
      "loss: 1.078231 [57600/60000]\n",
      "Test Error: \n",
      " Accuracy: 64.8%, avg loss: 1.093227 \n",
      "\n",
      "Done\n"
     ]
    }
   ],
   "source": [
    "epochs = 5\n",
    "for t in range(epochs):\n",
    "    print(f\"Epoch {t+1}\\n-------------------------------\")\n",
    "    train(train_dataloader, model, loss_fn, optimizer)\n",
    "    test(test_dataloader, model, loss_fn)\n",
    "\n",
    "print(\"Done\")"
   ]
  },
  {
   "cell_type": "markdown",
   "id": "26785f10-c8f9-48f7-b938-585a4743c20c",
   "metadata": {},
   "source": [
    "## Saving Models"
   ]
  },
  {
   "cell_type": "code",
   "execution_count": 9,
   "id": "a00cb9af-a3db-4f8a-ac3c-14e2a1ac791d",
   "metadata": {},
   "outputs": [
    {
     "name": "stdout",
     "output_type": "stream",
     "text": [
      "Saved PyTorch Model State to model.pth\n"
     ]
    }
   ],
   "source": [
    "torch.save(model.state_dict(), \"model.pth\")\n",
    "print(\"Saved PyTorch Model State to model.pth\")"
   ]
  },
  {
   "cell_type": "markdown",
   "id": "00ce5a9c-b65c-417a-9288-aadb53302b2c",
   "metadata": {},
   "source": [
    "## Loading Models"
   ]
  },
  {
   "cell_type": "code",
   "execution_count": 11,
   "id": "abd25593-a653-4c46-88c6-5b9d126189b1",
   "metadata": {},
   "outputs": [
    {
     "data": {
      "text/plain": [
       "<All keys matched successfully>"
      ]
     },
     "execution_count": 11,
     "metadata": {},
     "output_type": "execute_result"
    }
   ],
   "source": [
    "model = NeuralNetwork()\n",
    "model.load_state_dict(torch.load(\"model.pth\"))"
   ]
  },
  {
   "cell_type": "code",
   "execution_count": 12,
   "id": "32220c96-096e-4f7e-8486-dc411e4f8046",
   "metadata": {},
   "outputs": [
    {
     "name": "stdout",
     "output_type": "stream",
     "text": [
      "Predicted: \"Ankle boot\", Actual: \"Ankle boot\"\n"
     ]
    }
   ],
   "source": [
    "classes = [\n",
    "    \"T-shirt/top\",\n",
    "    \"Trouser\",\n",
    "    \"Pullover\",\n",
    "    \"Dress\",\n",
    "    \"Coat\",\n",
    "    \"Sandal\",\n",
    "    \"Shirt\",\n",
    "    \"Sneaker\",\n",
    "    \"Bag\",\n",
    "    \"Ankle boot\",\n",
    "]\n",
    "\n",
    "model.eval()\n",
    "x, y = test_data[0][0], test_data[0][1]\n",
    "with torch.no_grad():\n",
    "    pred = model(x)\n",
    "    predicted, actual = classes[pred[0].argmax(0)], classes[y]\n",
    "    print(f'Predicted: \"{predicted}\", Actual: \"{actual}\"')"
   ]
  }
 ],
 "metadata": {
  "kernelspec": {
   "display_name": "Python 3 (ipykernel)",
   "language": "python",
   "name": "python3"
  },
  "language_info": {
   "codemirror_mode": {
    "name": "ipython",
    "version": 3
   },
   "file_extension": ".py",
   "mimetype": "text/x-python",
   "name": "python",
   "nbconvert_exporter": "python",
   "pygments_lexer": "ipython3",
   "version": "3.9.15"
  }
 },
 "nbformat": 4,
 "nbformat_minor": 5
}
