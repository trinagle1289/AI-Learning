{
 "cells": [
  {
   "cell_type": "markdown",
   "id": "bcad9ab0-f34f-4ae1-aa71-c59625bfb9c9",
   "metadata": {
    "tags": []
   },
   "source": [
    "# 類神經網路範例"
   ]
  },
  {
   "cell_type": "markdown",
   "id": "8859e59b-0c8a-4cdf-94ae-7461808fe16e",
   "metadata": {
    "tags": []
   },
   "source": [
    "參考資料:  \n",
    "[Dataset API](https://pytorch.org/docs/stable/data.html#torch.utils.data.Dataset)  \n",
    "[Datasets & DataLoaders — PyTorch Tutorials 1.13.1+cu117 documentation](https://pytorch.org/tutorials/beginner/basics/data_tutorial.html)  \n",
    "[力薦 50 個最實用的免費機器學習資料集_InfoQ - MdEditor](https://www.gushiciku.cn/pl/2QD8/zh-tw)  \n",
    "[Day-21 實際重現神經元是可做到的嗎? Feed-Forward Neural Network Building - iT 邦幫忙::一起幫忙解決難題，拯救 IT 人的一天](https://ithelp.ithome.com.tw/articles/10277989)\n",
    "* * *\n",
    "資料集:  \n",
    "[Kaggle: Your Home for Data Science](https://www.kaggle.com/)  \n",
    "[Gender Classification Dataset | Kaggle](https://www.kaggle.com/datasets/elakiricoder/gender-classification-dataset) \n",
    "* * *\n",
    "機器學習資源:  \n",
    "[零基礎自學深度學習 ：（一）神經網路基本架構. 筆者曾於Coursera觀看過臺灣大學資工系林軒田教授授課的「機器學習基石（Ma… | by Evan | Medium](https://evan-hsiao.medium.com/%E5%BE%9Ecoursera%E5%AD%B8%E7%BF%92%E6%B7%B1%E5%BA%A6%E5%AD%B8%E7%BF%92-bd6bad6f5e14)  \n",
    "[Day-21 實際重現神經元是可做到的嗎? Feed-Forward Neural Network Building - iT 邦幫忙::一起幫忙解決難題，拯救 IT 人的一天](https://ithelp.ithome.com.tw/articles/10277989)  \n",
    "[[Day 29] Deep learning -- 各種模型(i) - iT 邦幫忙::一起幫忙解決難題，拯救 IT 人的一天](https://ithelp.ithome.com.tw/articles/10189072)  \n",
    "[DAY18：激活函數 - iT 邦幫忙::一起幫忙解決難題，拯救 IT 人的一天](https://ithelp.ithome.com.tw/articles/10276865)  \n",
    "[Day-19 PyTorch 怎麼讀取資料? Dataset and DataLoader - iT 邦幫忙::一起幫忙解決難題，拯救 IT 人的一天](https://ithelp.ithome.com.tw/articles/10277163)  \n",
    "[【12】新手容易忽略的 logit 與 loss 之間的搭配 - iT 邦幫忙::一起幫忙解決難題，拯救 IT 人的一天](https://ithelp.ithome.com.tw/articles/10272449)  \n",
    "[機器/深度學習: 基礎介紹-損失函數(loss function) | by Tommy Huang | Medium](https://chih-sheng-huang821.medium.com/%E6%A9%9F%E5%99%A8-%E6%B7%B1%E5%BA%A6%E5%AD%B8%E7%BF%92-%E5%9F%BA%E7%A4%8E%E4%BB%8B%E7%B4%B9-%E6%90%8D%E5%A4%B1%E5%87%BD%E6%95%B8-loss-function-2dcac5ebb6cb)  \n",
    "[【Day 20】 Google ML - Lesson 6 - 使用損失函數(Loss Functions)來評估ML模型的好壞吧!  MSE, RMSE, Cross Entropy的計算方法與特性 - iT 邦幫忙::一起幫忙解決難題，拯救 IT 人的一天](https://ithelp.ithome.com.tw/articles/10218158)  \n",
    "[Day 14 Optimizer大亂鬥 - iT 邦幫忙::一起幫忙解決難題，拯救 IT 人的一天](https://ithelp.ithome.com.tw/articles/10236554)  \n",
    "[[機器學習ML NOTE]SGD, Momentum, AdaGrad, Adam Optimizer | by GGWithRabitLIFE | 雞雞與兔兔的工程世界 | Medium](https://medium.com/%E9%9B%9E%E9%9B%9E%E8%88%87%E5%85%94%E5%85%94%E7%9A%84%E5%B7%A5%E7%A8%8B%E4%B8%96%E7%95%8C/%E6%A9%9F%E5%99%A8%E5%AD%B8%E7%BF%92ml-note-sgd-momentum-adagrad-adam-optimizer-f20568c968db)  \n",
    "[7 Types of Classification Algorithms](https://analyticsindiamag.com/7-types-classification-algorithms/)  \n",
    "[【Day 18】 Google ML - Lesson 4 - 什麼是ML模型?訓練的目標? 回歸模型(Regression model), 分類模型(Classification model)的運算 - iT 邦幫忙::一起幫忙解決難題，拯救 IT 人的一天](https://ithelp.ithome.com.tw/articles/10217431)\n",
    "* * *\n",
    "Python 小東西:  \n",
    "[Python基礎功不可少-dir()與help()的使用 @ 布萊恩的創業小窩的部落格 :: 痞客邦 ::](https://kobebrian5778.pixnet.net/blog/post/308583806-python%E5%9F%BA%E7%A4%8E%E5%8A%9F%E4%B8%8D%E5%8F%AF%E5%B0%91-dir%28%29%E8%88%87help%28%29%E7%9A%84%E4%BD%BF%E7%94%A8)  \n",
    "[Python help() 函數 |  數字海洋](https://www.digitalocean.com/community/tutorials/python-help-function)  \n",
    "[Python enumerate() 函数 | 菜鸟教程](https://www.runoob.com/python/python-func-enumerate.html)"
   ]
  },
  {
   "cell_type": "markdown",
   "id": "9933994f-c90a-4bd6-b657-56e8567c889d",
   "metadata": {
    "tags": []
   },
   "source": [
    "### 使用 PyTorch 建立自定義 Dataset\n",
    "\n",
    "1. 需要建立 ```__init__``` 初始化物件\n",
    "2. 使用 ```__len__``` 設定資料集數量，會影響到 len() 的功能\n",
    "3. 使用 ```__getitem__``` 輸入索引值搜尋資料，會影響到取得的索引資料"
   ]
  },
  {
   "cell_type": "code",
   "execution_count": 1,
   "id": "fd42e959-e90c-46d7-a271-3fb0cc695e3e",
   "metadata": {
    "tags": []
   },
   "outputs": [],
   "source": [
    "import pandas as pd\n",
    "from torch.utils.data import Dataset\n",
    "\n",
    "# 自定義資料集 CSV 資料集\n",
    "# 此資料集有兩項參數:\n",
    "# labels: 以 tuple 格式組成的標籤資訊\n",
    "# dataframe: 以 pandas 的 dataframe 格式組成的項目資訊\n",
    "class CSV_Dataset(Dataset):\n",
    "    # 進行初始化\n",
    "    # start、end 參數為取得該檔案的資料範圍\n",
    "    def __init__(self, csv_file, start=None, end=None):\n",
    "        # 將 csv 檔案轉換成 pandas 的 dataframe\n",
    "        df = pd.read_csv(csv_file)\n",
    "        print(f\"\\\"{csv_file}\\\" 加載成功\")\n",
    "        \n",
    "        # 取得檔案首行的標籤資訊(list 格式)\n",
    "        self.labels = tuple(df.columns)\n",
    "        print(\"\\n此檔案有以下標籤:\")\n",
    "        [print(l) for l in self.labels]\n",
    "        \n",
    "        # 設定 dataframe 的範圍\n",
    "        self.dataframe = df.iloc[start:end]\n",
    "        print(f\"\\n此資料集數量有 {len(self)} 個資料\")\n",
    "        print(f\"前五項資料為:\\n{self.dataframe.head(5)}\\n\")\n",
    "        pass\n",
    "    \n",
    "    def __len__(self):\n",
    "        \"\"\"取得資料集數量\"\"\"\n",
    "        return len(self.dataframe)\n",
    "    \n",
    "    def __getitem__(self, idx):\n",
    "        \"\"\"以索引值(idx)搜尋資料內容\"\"\"\n",
    "        return tuple(self.dataframe.iloc[idx])\n",
    "    "
   ]
  },
  {
   "cell_type": "markdown",
   "id": "908e60c8-8dc6-410b-8556-ee08556ea4f8",
   "metadata": {
    "tags": []
   },
   "source": [
    "### 建立資料集物件"
   ]
  },
  {
   "cell_type": "code",
   "execution_count": 2,
   "id": "c269354d-b901-475a-b97b-36a4e5809756",
   "metadata": {
    "tags": []
   },
   "outputs": [
    {
     "name": "stdout",
     "output_type": "stream",
     "text": [
      "\"example datasets/gender_classification_v7-fix.csv\" 加載成功\n",
      "\n",
      "此檔案有以下標籤:\n",
      "long_hair\n",
      "forehead_width_cm\n",
      "forehead_height_cm\n",
      "nose_wide\n",
      "nose_long\n",
      "lips_thin\n",
      "distance_nose_to_lip_long\n",
      "gender\n",
      "\n",
      "此資料集數量有 3000 個資料\n",
      "前五項資料為:\n",
      "   long_hair  forehead_width_cm  forehead_height_cm  nose_wide  nose_long  \\\n",
      "0          1               11.8                 6.1          1          0   \n",
      "1          0               14.0                 5.4          0          0   \n",
      "2          0               11.8                 6.3          1          1   \n",
      "3          0               14.4                 6.1          0          1   \n",
      "4          1               13.5                 5.9          0          0   \n",
      "\n",
      "   lips_thin  distance_nose_to_lip_long  gender  \n",
      "0          1                          1       1  \n",
      "1          1                          0       0  \n",
      "2          1                          1       1  \n",
      "3          1                          1       1  \n",
      "4          0                          0       0  \n",
      "\n",
      "\"example datasets/gender_classification_v7-fix.csv\" 加載成功\n",
      "\n",
      "此檔案有以下標籤:\n",
      "long_hair\n",
      "forehead_width_cm\n",
      "forehead_height_cm\n",
      "nose_wide\n",
      "nose_long\n",
      "lips_thin\n",
      "distance_nose_to_lip_long\n",
      "gender\n",
      "\n",
      "此資料集數量有 2001 個資料\n",
      "前五項資料為:\n",
      "      long_hair  forehead_width_cm  forehead_height_cm  nose_wide  nose_long  \\\n",
      "3000          1               13.7                 7.1          1          1   \n",
      "3001          1               12.7                 5.9          0          0   \n",
      "3002          0               13.7                 6.4          0          1   \n",
      "3003          1               13.3                 5.5          0          0   \n",
      "3004          1               11.6                 5.1          1          0   \n",
      "\n",
      "      lips_thin  distance_nose_to_lip_long  gender  \n",
      "3000          0                          1       1  \n",
      "3001          0                          1       0  \n",
      "3002          1                          0       0  \n",
      "3003          0                          0       0  \n",
      "3004          1                          1       1  \n",
      "\n"
     ]
    }
   ],
   "source": [
    "csv_file_path = \"example datasets/gender_classification_v7-fix.csv\" # 檔案位置\n",
    "cut_position = 3000 # 切分訓練資料集以及測試資料集位置\n",
    "\n",
    "# 訓練資料集\n",
    "training_ds = CSV_Dataset(csv_file_path, None, cut_position)\n",
    "\n",
    "# 測試資料集\n",
    "test_ds = CSV_Dataset(csv_file_path, cut_position, None)"
   ]
  },
  {
   "cell_type": "markdown",
   "id": "9ba3d415-3cbe-4015-9274-600c692db0aa",
   "metadata": {},
   "source": [
    "## 使用 PyTorch 資料加載工具載入資料"
   ]
  },
  {
   "cell_type": "code",
   "execution_count": 3,
   "id": "8855711e-3de4-40e6-88dd-d8cd5ddac72c",
   "metadata": {},
   "outputs": [],
   "source": [
    "from torch.utils.data import DataLoader\n",
    "\n",
    "batch_size = 64\n",
    "\n",
    "# 訓練資料加載器\n",
    "training_dl = DataLoader(training_ds, batch_size=batch_size, shuffle=False)\n",
    "\n",
    "# 測試資料加載器\n",
    "test_dl = DataLoader(test_ds, batch_size=batch_size, shuffle=True)"
   ]
  },
  {
   "cell_type": "markdown",
   "id": "d105808f-83ae-44c7-95ce-80b673eb5a2f",
   "metadata": {},
   "source": [
    "## 建立自定義類神經網路模型"
   ]
  },
  {
   "cell_type": "markdown",
   "id": "5f254742-46b0-43a4-a613-6ff6b86728a5",
   "metadata": {},
   "source": [
    "### 1. 設定模型運行硬體環境"
   ]
  },
  {
   "cell_type": "code",
   "execution_count": 4,
   "id": "5a666b5f-4fb6-4cfc-a2da-0de576436ba5",
   "metadata": {},
   "outputs": [
    {
     "name": "stdout",
     "output_type": "stream",
     "text": [
      "Using cuda device\n"
     ]
    }
   ],
   "source": [
    "import torch\n",
    "\n",
    "# 選擇設備運行環境\n",
    "# 會依序優先選擇 CUDA、MPS 以及 CPU 設備環境\n",
    "device = \"cuda\" if torch.cuda.is_available() else \"mps\" if torch.backends.mps.is_available() else \"cpu\"\n",
    "print(f\"Using {device} device\")"
   ]
  },
  {
   "cell_type": "markdown",
   "id": "894c8a01-ea53-4365-a076-2823433e69bf",
   "metadata": {},
   "source": [
    "### 2. 建立模型架構類別"
   ]
  },
  {
   "cell_type": "code",
   "execution_count": 5,
   "id": "8167f564-9278-4a43-8e7e-20cc91f44b31",
   "metadata": {},
   "outputs": [],
   "source": [
    "from torch import nn\n",
    "\n",
    "# 前饋神經網路\n",
    "class FeedForwardNeuralNet(nn.Module):\n",
    "    def __init__(self, input_size, hidden_size, num_classes):\n",
    "        super().__init__()\n",
    "        # define first layer\n",
    "        self.l1 = nn.Linear(input_size, hidden_size)\n",
    "        # activation function\n",
    "        self.sig = nn.Sigmoid()\n",
    "        # define second layer\n",
    "        self.l2 = nn.Linear(hidden_size, num_classes)\n",
    "        pass\n",
    "    \n",
    "    def forward(self, x):\n",
    "        logits = self.l1(x)\n",
    "        logits = self.sigmoid(logits)\n",
    "        logits = self.l2(logits)\n",
    "        return logits"
   ]
  },
  {
   "cell_type": "markdown",
   "id": "63c26896-1a3f-4180-8259-90a3d76ed7ba",
   "metadata": {},
   "source": [
    "### 3. 建立模型物件"
   ]
  },
  {
   "cell_type": "code",
   "execution_count": 6,
   "id": "ae947355-6f38-4acf-bfb5-0236a6dd29e2",
   "metadata": {},
   "outputs": [
    {
     "data": {
      "text/plain": [
       "FeedForwardNeuralNet(\n",
       "  (l1): Linear(in_features=7, out_features=512, bias=True)\n",
       "  (sig): Sigmoid()\n",
       "  (l2): Linear(in_features=512, out_features=1, bias=True)\n",
       ")"
      ]
     },
     "execution_count": 6,
     "metadata": {},
     "output_type": "execute_result"
    }
   ],
   "source": [
    "model = FeedForwardNeuralNet(len(training_dl.dataset.labels)-1, 512, 1).to(device)\n",
    "model"
   ]
  },
  {
   "cell_type": "markdown",
   "id": "96c0c8b6-0efc-4fa3-b0f6-9098bf4d5218",
   "metadata": {},
   "source": [
    "## 優化模型"
   ]
  },
  {
   "cell_type": "markdown",
   "id": "6550e999-74af-4db3-8dbe-32e4b3f8ddcd",
   "metadata": {},
   "source": [
    "### 1. 設定損失函數(loss function)以及優化器(optimizer)"
   ]
  },
  {
   "cell_type": "code",
   "execution_count": null,
   "id": "0ef70c4b-7598-4ab7-8c1e-4b845aa4a786",
   "metadata": {},
   "outputs": [],
   "source": [
    "loss_fn = None\n",
    "optimizer = None"
   ]
  },
  {
   "cell_type": "markdown",
   "id": "f56c43b5-0ae8-4f7e-903d-6cfff4a3f9d7",
   "metadata": {},
   "source": [
    "### 2. 建立訓練以及驗證模型的流程"
   ]
  },
  {
   "cell_type": "code",
   "execution_count": null,
   "id": "cdb91c78-6027-4efb-bb43-f4b6e81f5640",
   "metadata": {},
   "outputs": [],
   "source": [
    "def train_model(dataloader, model, loss_fn, optimizer):\n",
    "    pass"
   ]
  }
 ],
 "metadata": {
  "kernelspec": {
   "display_name": "Python 3 (ipykernel)",
   "language": "python",
   "name": "python3"
  },
  "language_info": {
   "codemirror_mode": {
    "name": "ipython",
    "version": 3
   },
   "file_extension": ".py",
   "mimetype": "text/x-python",
   "name": "python",
   "nbconvert_exporter": "python",
   "pygments_lexer": "ipython3",
   "version": "3.9.15"
  }
 },
 "nbformat": 4,
 "nbformat_minor": 5
}
