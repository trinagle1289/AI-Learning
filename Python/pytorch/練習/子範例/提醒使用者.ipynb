{
 "cells": [
  {
   "cell_type": "markdown",
   "id": "55ffa71a-0e50-4807-9632-0beff530abdf",
   "metadata": {
    "jp-MarkdownHeadingCollapsed": true,
    "tags": []
   },
   "source": [
    "#### **失效**"
   ]
  },
  {
   "cell_type": "code",
   "execution_count": 1,
   "id": "197ac6ca-20d7-4451-87aa-dd5903917ab7",
   "metadata": {},
   "outputs": [],
   "source": [
    "# import winsound\n",
    "\n",
    "# # Set frequency to 2000 Hertz\n",
    "# frequency = 2000\n",
    "\n",
    "# # Set duration to 1500 milliseconds (1.5 seconds)\n",
    "# duration = 1500\n",
    "\n",
    "# # Make beep sound on Windows\n",
    "# winsound.Beep(frequency, duration)"
   ]
  },
  {
   "cell_type": "markdown",
   "id": "a5de4df6-3833-4123-a093-508fc98d579e",
   "metadata": {},
   "source": [
    "#### **純撥放音樂**"
   ]
  },
  {
   "cell_type": "code",
   "execution_count": 2,
   "id": "1ea370bf-ed86-4757-b706-e5e1d616106f",
   "metadata": {},
   "outputs": [],
   "source": [
    "from playsound import playsound"
   ]
  },
  {
   "cell_type": "code",
   "execution_count": 6,
   "id": "ac7964df-4634-4df2-b117-8a8604eb1772",
   "metadata": {},
   "outputs": [],
   "source": [
    "sound_pth = \"E:\\Media Cabinet\\Musics\\Musics\\dio zawaruto.mp3\"\n",
    "\n",
    "playsound(sound_pth)"
   ]
  },
  {
   "cell_type": "markdown",
   "id": "8cc48dbd-a56f-4fb7-b172-d99ad4fefa40",
   "metadata": {
    "jp-MarkdownHeadingCollapsed": true,
    "tags": []
   },
   "source": [
    "#### **播放影片**  \n",
    "暫時不管"
   ]
  },
  {
   "cell_type": "code",
   "execution_count": 4,
   "id": "733a2672-7a28-4c3b-8785-28ebc0732ef5",
   "metadata": {},
   "outputs": [],
   "source": [
    "# import cv2"
   ]
  },
  {
   "cell_type": "code",
   "execution_count": 5,
   "id": "e5196b60-a2bb-4f87-9aaa-1c46221d2ebe",
   "metadata": {},
   "outputs": [],
   "source": [
    "# video_pth = \"E:\\Media Cabinet\\Videos\\apex_hacker.mp4\"\n",
    "\n",
    "# cap = cv2.VideoCapture(video_pth)\n",
    "\n",
    "# if (cap.isOpened()== False): \n",
    "#     # Give a error message\n",
    "#     print(\"error\")\n",
    "    \n",
    "# # Read the entire file until it is completed\n",
    "# while(cap.isOpened()):\n",
    "#   # Capture each frame\n",
    "#     ret, frame = cap.read()\n",
    "#       if ret == True:\n",
    "#       # Display the resulting frame"
   ]
  }
 ],
 "metadata": {
  "kernelspec": {
   "display_name": "Python 3 (ipykernel)",
   "language": "python",
   "name": "python3"
  },
  "language_info": {
   "codemirror_mode": {
    "name": "ipython",
    "version": 3
   },
   "file_extension": ".py",
   "mimetype": "text/x-python",
   "name": "python",
   "nbconvert_exporter": "python",
   "pygments_lexer": "ipython3",
   "version": "3.9.15"
  }
 },
 "nbformat": 4,
 "nbformat_minor": 5
}
