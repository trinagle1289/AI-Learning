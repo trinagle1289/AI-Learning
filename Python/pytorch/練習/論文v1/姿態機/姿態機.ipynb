{
 "cells": [
  {
   "cell_type": "markdown",
   "id": "3c64f2f4-14bb-40f9-ab6d-80cd4ae02a86",
   "metadata": {
    "tags": []
   },
   "source": [
    "# 1. 導入套件"
   ]
  },
  {
   "cell_type": "code",
   "execution_count": 1,
   "id": "a16d18ff-423b-4097-98c9-8cffd87a4061",
   "metadata": {
    "tags": []
   },
   "outputs": [],
   "source": [
    "# 主要套件\n",
    "import torch\n",
    "\n",
    "# 資料處理\n",
    "import pandas as pd\n",
    "from torch.utils.data import Dataset\n",
    "from torch.utils.data import DataLoader\n",
    "\n",
    "# 建立機器模型\n",
    "from torch import nn\n",
    "from torch import optim\n",
    "\n",
    "# 訓練過程視覺化\n",
    "from torch.utils.tensorboard import SummaryWriter\n",
    "\n",
    "# 數學運算\n",
    "import math"
   ]
  },
  {
   "cell_type": "markdown",
   "id": "de43b90f-1331-4796-b013-df9a6ab8889c",
   "metadata": {
    "jp-MarkdownHeadingCollapsed": true,
    "tags": []
   },
   "source": [
    "# 2. 修正參數"
   ]
  },
  {
   "cell_type": "code",
   "execution_count": 2,
   "id": "e2b21f40-d1f5-46e7-b723-407a80f52f5b",
   "metadata": {
    "tags": []
   },
   "outputs": [],
   "source": [
    "# 擷取資料檔案\n",
    "gesture_data_file = \"../dataset/train_data-x_y.csv\""
   ]
  },
  {
   "cell_type": "code",
   "execution_count": 3,
   "id": "f699684b-3b64-4397-b1ab-6ff63692cb46",
   "metadata": {
    "tags": []
   },
   "outputs": [
    {
     "name": "stdout",
     "output_type": "stream",
     "text": [
      "Using cuda device\n"
     ]
    }
   ],
   "source": [
    "# 取得 GPU 或是 CPU 的設備進行訓練\n",
    "device = \"cuda\" if torch.cuda.is_available() else \"mps\" if torch.backends.mps.is_available() else \"cpu\"\n",
    "print(f\"Using {device} device\")"
   ]
  },
  {
   "cell_type": "code",
   "execution_count": 4,
   "id": "be8f8729-0b45-408f-a6d7-befc4755e162",
   "metadata": {
    "tags": []
   },
   "outputs": [],
   "source": [
    "# 批次\n",
    "batch_size = 64"
   ]
  },
  {
   "cell_type": "code",
   "execution_count": 5,
   "id": "f601fa10-dee4-46dc-ac23-83ec8a9fdbf4",
   "metadata": {
    "tags": []
   },
   "outputs": [],
   "source": [
    "# 優化函數\n",
    "optim_fn = optim.SGD\n",
    "# 損失函數\n",
    "loss_fn = nn.CrossEntropyLoss()"
   ]
  },
  {
   "cell_type": "code",
   "execution_count": 6,
   "id": "14aab475-8ed6-4b2f-81a7-2cc9b7334bb8",
   "metadata": {
    "tags": []
   },
   "outputs": [],
   "source": [
    "# 學習率\n",
    "learning_rate = 1e-5\n",
    "# 世代\n",
    "epochs = 60"
   ]
  },
  {
   "cell_type": "code",
   "execution_count": 7,
   "id": "9194c7bc-bca7-4bca-b603-08f92d717eae",
   "metadata": {
    "tags": []
   },
   "outputs": [],
   "source": [
    "# TensorBoard 的物件\n",
    "writer = SummaryWriter()"
   ]
  },
  {
   "cell_type": "markdown",
   "id": "da3f77cd-6194-4e13-8c7d-f9d1c74ccf65",
   "metadata": {
    "tags": []
   },
   "source": [
    "# 3. 函數"
   ]
  },
  {
   "cell_type": "code",
   "execution_count": 8,
   "id": "051328d5-21bd-42c2-9ea9-177172ab5c6b",
   "metadata": {
    "tags": []
   },
   "outputs": [],
   "source": [
    "# 訓練函數\n",
    "def train(dataloader:DataLoader, model:nn.Module, loss_fn:torch.nn.modules.Module, optimizer:optim.Optimizer, debug:bool=False):\n",
    "    size = len(dataloader.dataset)\n",
    "    \n",
    "    # 開始訓練\n",
    "    model.train()\n",
    "    for batch, (X, y) in enumerate(dataloader):\n",
    "        # 轉換成可讓模型訓練的格式\n",
    "        X, y = X.to(device), y.to(device)\n",
    "        \n",
    "        # 計算預測誤差\n",
    "        pred = model(X)\n",
    "        loss = loss_fn(pred, y)\n",
    "        \n",
    "        # Backpropagation 反向傳播\n",
    "        optimizer.zero_grad()\n",
    "        loss.backward()\n",
    "        optimizer.step()\n",
    "        \n",
    "        # 顯示訓練輸出\n",
    "        if debug:\n",
    "            if batch % 100 == 0:\n",
    "                loss, current = loss.item(), (batch+1)*len(X)\n",
    "                print(f\"loss: {loss:>7f} [{current:>5d}/{size:>5d}]\")"
   ]
  },
  {
   "cell_type": "code",
   "execution_count": 9,
   "id": "2cb31004-ce96-4e40-9059-5e1959d9e098",
   "metadata": {
    "tags": []
   },
   "outputs": [],
   "source": [
    "# 測試函數\n",
    "# 回傳成功率，測試 loss\n",
    "def test(dataloader:DataLoader, model:nn.Module, loss_fn:torch.nn.modules.Module, debug:bool=False):\n",
    "    \n",
    "    # 計算結果參數\n",
    "    size = len(dataloader.dataset)\n",
    "    num_batches = len(dataloader)\n",
    "    # 測試誤差、正確率\n",
    "    test_loss, correct = 0, 0\n",
    "    \n",
    "    # 開始驗證\n",
    "    model.eval()\n",
    "    with torch.no_grad():\n",
    "        for X, y in dataloader:\n",
    "            # 轉換成可讓模型訓練的格式\n",
    "            X, y = X.to(device), y.to(device)\n",
    "\n",
    "            # 計算預測誤差\n",
    "            pred = model(X)\n",
    "            loss = loss_fn(pred, y)\n",
    "            \n",
    "            # 計算誤差、正確率\n",
    "            test_loss += loss.item()\n",
    "            correct += (pred.argmax(1) == y).type(torch.float).sum().item()\n",
    "            \n",
    "    # 計算 loss 和 correct\n",
    "    test_loss /= num_batches\n",
    "    correct /= size\n",
    "    \n",
    "    # 顯示驗證輸出\n",
    "    if debug:\n",
    "        print(f\"Test Error: \\n Accuracy: {(100*correct):0.1f}%, Avg loss: {test_loss:>8f} \\n\")\n",
    "    \n",
    "    return correct*100, test_loss"
   ]
  },
  {
   "cell_type": "code",
   "execution_count": 87,
   "id": "a899b662-5cdb-4529-abe4-ee71f1ccd5f6",
   "metadata": {
    "tags": []
   },
   "outputs": [],
   "source": [
    "# 計算關鍵點的夾角\n",
    "def angle_between_points(p0:[int, int], p1:[int, int], p2:[int, int]):\n",
    "    angle = math.degrees(\n",
    "        math.atan2(p2[1] - p1[1], p2[0] - p1[0]) -\n",
    "        math.atan2(p0[1] - p1[1], p0[0] - p1[0])\n",
    "    )\n",
    "    \n",
    "    if angle < 0:\n",
    "        angle = -angle\n",
    "\n",
    "    if angle > 180:\n",
    "        angle -= 180\n",
    "\n",
    "    return angle"
   ]
  },
  {
   "cell_type": "code",
   "execution_count": 11,
   "id": "3083512e-b80c-4892-83ae-7650972dda01",
   "metadata": {
    "tags": []
   },
   "outputs": [],
   "source": [
    "# 輔助函式\n",
    "from playsound import playsound\n",
    "# 撥放音樂\n",
    "def PlaySound():\n",
    "    sound_pth = \"E:\\Media Cabinet\\Musics\\Musics\\dio zawaruto.mp3\"\n",
    "    playsound(sound_pth)"
   ]
  },
  {
   "cell_type": "markdown",
   "id": "fe9e5f45-0729-440a-99f1-61297c65282b",
   "metadata": {
    "tags": []
   },
   "source": [
    "# 4. 類別"
   ]
  },
  {
   "cell_type": "code",
   "execution_count": 63,
   "id": "40c9af06-19a7-44ce-a292-de559d687e34",
   "metadata": {
    "tags": []
   },
   "outputs": [],
   "source": [
    "data = pd.read_csv(gesture_data_file)"
   ]
  },
  {
   "cell_type": "markdown",
   "id": "5f267745-0ce2-459d-9d99-cf858d81a1f2",
   "metadata": {},
   "source": [
    "COCO 的姿態關鍵點  \n",
    "![COCO 的姿態關鍵點](COCO_Keypoints,_Used_in_MoveNet_and_PoseNet.png)"
   ]
  },
  {
   "cell_type": "code",
   "execution_count": 83,
   "id": "0765103a-cdd9-47a4-b7e8-e552b6b9ab03",
   "metadata": {
    "tags": []
   },
   "outputs": [],
   "source": [
    "# 姿態資料集\n",
    "class GestureDataset(Dataset):\n",
    "    def __init__(self, df:pd.DataFrame):\n",
    "        self.dataframe = df\n",
    "        \n",
    "        result = self.dataframe.iloc[:,-1]\n",
    "        \n",
    "        # 計算 17 個關鍵點在檔案中的位置\n",
    "        p = [None]*17\n",
    "        for i in range(17):\n",
    "            p[i] = i*2\n",
    "        \n",
    "        # 初始化各關節點角度\n",
    "        size = len(df)\n",
    "        \n",
    "        left_elbow_angle = [None] * size\n",
    "        right_elbow_angle = [None] * size\n",
    "        \n",
    "        left_arm_angle = [None] * size\n",
    "        right_arm_angle = [None] * size\n",
    "        \n",
    "        left_hip_angle = [None] * size\n",
    "        right_hip_angle = [None] * size\n",
    "        \n",
    "        left_knee_angle = [None] * size\n",
    "        right_knee_angle = [None] * size\n",
    "        \n",
    "        # 計算各關節點角度\n",
    "        for i in range(size):\n",
    "            left_elbow_angle[i] = angle_between_points(\n",
    "                p0=data.iloc[i, p[5]:p[5]+2], # p9\n",
    "                p1=data.iloc[i, p[7]:p[7]+2], # p7\n",
    "                p2=data.iloc[i, p[9]:p[9]+2]  # p5\n",
    "            )\n",
    "            right_elbow_angle[i] = angle_between_points(\n",
    "                p0=data.iloc[i, p[6]:p[6]+2], # p6\n",
    "                p1=data.iloc[i, p[8]:p[8]+2], # p8\n",
    "                p2=data.iloc[i, p[10]:p[10]+2]  # p10\n",
    "            )\n",
    "            \n",
    "            left_arm_angle[i] = angle_between_points(\n",
    "                p0=data.iloc[i, p[7]:p[7]+2], # p7\n",
    "                p1=data.iloc[i, p[5]:p[5]+2], # p5\n",
    "                p2=data.iloc[i, p[11]:p[11]+2]  # p11\n",
    "            )\n",
    "            right_arm_angle[i] = angle_between_points(\n",
    "                p0=data.iloc[i, p[8]:p[8]+2], # p8\n",
    "                p1=data.iloc[i, p[6]:p[6]+2], # p6\n",
    "                p2=data.iloc[i, p[12]:p[12]+2]  # p12\n",
    "            )\n",
    "            \n",
    "            left_hip_angle[i] = angle_between_points(\n",
    "                p0=data.iloc[i, p[5]:p[5]+2], # p5\n",
    "                p1=data.iloc[i, p[11]:p[11]+2], # p11\n",
    "                p2=data.iloc[i, p[13]:p[13]+2]  # p13\n",
    "            )\n",
    "            right_hip_angle[i] = angle_between_points(\n",
    "                p0=data.iloc[i, p[6]:p[6]+2], # p6\n",
    "                p1=data.iloc[i, p[12]:p[12]+2], # p12\n",
    "                p2=data.iloc[i, p[14]:p[14]+2]  # p14\n",
    "            )\n",
    "\n",
    "            left_knee_angle[i] = angle_between_points(\n",
    "                p0=data.iloc[i, p[11]:p[11]+2], # p11\n",
    "                p1=data.iloc[i, p[13]:p[13]+2], # p13\n",
    "                p2=data.iloc[i, p[15]:p[15]+2]  # p115\n",
    "            )\n",
    "            right_knee_angle[i] = angle_between_points(\n",
    "                p0=data.iloc[i, p[12]:p[12]+2], # p12\n",
    "                p1=data.iloc[i, p[14]:p[14]+2], # p14\n",
    "                p2=data.iloc[i, p[16]:p[16]+2]  # p16\n",
    "            )\n",
    "        \n",
    "        self.df_angle = pd.DataFrame(\n",
    "            {\n",
    "                \"LEFT_ELBOW_angle\": left_elbow_angle,\n",
    "                \"RIGHT_ELBOW_angle\": right_elbow_angle,\n",
    "                \"LEFT_ARM_angle\": left_arm_angle,\n",
    "                \"RIGHT_ARM_angle\": right_arm_angle,\n",
    "                \"LEFT_HIP_angle\": left_hip_angle,\n",
    "                \"RIGHT_HIP_angle\": right_hip_angle,\n",
    "                \"LEFT_KNEE_angle\": left_knee_angle,\n",
    "                \"RIGHT_KNEE_angle\": right_knee_angle,\n",
    "                \"class_no\": result.to_list()\n",
    "            }\n",
    "        )\n",
    "        pass\n",
    "    \n",
    "    def __getitem__(self, idx):\n",
    "        \n",
    "        return feature, result\n",
    "    \n",
    "    def __len__(self):\n",
    "        return len(self.dataframe)"
   ]
  },
  {
   "cell_type": "code",
   "execution_count": 84,
   "id": "7c63afc4-abfb-49e7-ab94-dda238e0602d",
   "metadata": {
    "tags": []
   },
   "outputs": [],
   "source": [
    "ds = GestureDataset(data)"
   ]
  },
  {
   "cell_type": "code",
   "execution_count": 85,
   "id": "a625a707-66ca-4a46-b334-75539411fdc1",
   "metadata": {
    "tags": []
   },
   "outputs": [
    {
     "data": {
      "text/html": [
       "<div>\n",
       "<style scoped>\n",
       "    .dataframe tbody tr th:only-of-type {\n",
       "        vertical-align: middle;\n",
       "    }\n",
       "\n",
       "    .dataframe tbody tr th {\n",
       "        vertical-align: top;\n",
       "    }\n",
       "\n",
       "    .dataframe thead th {\n",
       "        text-align: right;\n",
       "    }\n",
       "</style>\n",
       "<table border=\"1\" class=\"dataframe\">\n",
       "  <thead>\n",
       "    <tr style=\"text-align: right;\">\n",
       "      <th></th>\n",
       "      <th>LEFT_ELBOW_angle</th>\n",
       "      <th>RIGHT_ELBOW_angle</th>\n",
       "      <th>LEFT_ARM_angle</th>\n",
       "      <th>RIGHT_ARM_angle</th>\n",
       "      <th>LEFT_HIP_angle</th>\n",
       "      <th>RIGHT_HIP_angle</th>\n",
       "      <th>LEFT_KNEE_angle</th>\n",
       "      <th>RIGHT_KNEE_angle</th>\n",
       "      <th>class_no</th>\n",
       "    </tr>\n",
       "  </thead>\n",
       "  <tbody>\n",
       "    <tr>\n",
       "      <th>0</th>\n",
       "      <td>30.642375</td>\n",
       "      <td>114.768470</td>\n",
       "      <td>15.373363</td>\n",
       "      <td>19.755488</td>\n",
       "      <td>171.633813</td>\n",
       "      <td>8.652292</td>\n",
       "      <td>1.065169</td>\n",
       "      <td>175.890112</td>\n",
       "      <td>0</td>\n",
       "    </tr>\n",
       "    <tr>\n",
       "      <th>1</th>\n",
       "      <td>29.499736</td>\n",
       "      <td>116.414405</td>\n",
       "      <td>16.151436</td>\n",
       "      <td>19.547796</td>\n",
       "      <td>171.646912</td>\n",
       "      <td>8.574907</td>\n",
       "      <td>1.235083</td>\n",
       "      <td>176.824857</td>\n",
       "      <td>0</td>\n",
       "    </tr>\n",
       "    <tr>\n",
       "      <th>2</th>\n",
       "      <td>28.517474</td>\n",
       "      <td>115.925517</td>\n",
       "      <td>15.169092</td>\n",
       "      <td>19.285775</td>\n",
       "      <td>170.834606</td>\n",
       "      <td>8.672581</td>\n",
       "      <td>1.747233</td>\n",
       "      <td>176.371468</td>\n",
       "      <td>0</td>\n",
       "    </tr>\n",
       "    <tr>\n",
       "      <th>3</th>\n",
       "      <td>26.177268</td>\n",
       "      <td>115.770147</td>\n",
       "      <td>15.046427</td>\n",
       "      <td>19.970925</td>\n",
       "      <td>171.150329</td>\n",
       "      <td>8.860190</td>\n",
       "      <td>1.969037</td>\n",
       "      <td>175.888648</td>\n",
       "      <td>0</td>\n",
       "    </tr>\n",
       "    <tr>\n",
       "      <th>4</th>\n",
       "      <td>31.196002</td>\n",
       "      <td>117.524903</td>\n",
       "      <td>16.660784</td>\n",
       "      <td>19.724086</td>\n",
       "      <td>171.368384</td>\n",
       "      <td>8.962361</td>\n",
       "      <td>1.737987</td>\n",
       "      <td>175.859401</td>\n",
       "      <td>0</td>\n",
       "    </tr>\n",
       "    <tr>\n",
       "      <th>5</th>\n",
       "      <td>24.674076</td>\n",
       "      <td>110.481907</td>\n",
       "      <td>14.309520</td>\n",
       "      <td>19.828555</td>\n",
       "      <td>171.506014</td>\n",
       "      <td>8.281219</td>\n",
       "      <td>1.999915</td>\n",
       "      <td>176.345542</td>\n",
       "      <td>0</td>\n",
       "    </tr>\n",
       "    <tr>\n",
       "      <th>6</th>\n",
       "      <td>26.922999</td>\n",
       "      <td>110.682096</td>\n",
       "      <td>14.558749</td>\n",
       "      <td>20.287753</td>\n",
       "      <td>171.977464</td>\n",
       "      <td>8.453597</td>\n",
       "      <td>0.810897</td>\n",
       "      <td>176.590451</td>\n",
       "      <td>0</td>\n",
       "    </tr>\n",
       "    <tr>\n",
       "      <th>7</th>\n",
       "      <td>22.723897</td>\n",
       "      <td>108.153169</td>\n",
       "      <td>13.714592</td>\n",
       "      <td>20.598305</td>\n",
       "      <td>170.323240</td>\n",
       "      <td>9.404474</td>\n",
       "      <td>1.769444</td>\n",
       "      <td>175.853615</td>\n",
       "      <td>0</td>\n",
       "    </tr>\n",
       "    <tr>\n",
       "      <th>8</th>\n",
       "      <td>30.474724</td>\n",
       "      <td>113.388003</td>\n",
       "      <td>16.015997</td>\n",
       "      <td>20.415172</td>\n",
       "      <td>171.644809</td>\n",
       "      <td>9.384299</td>\n",
       "      <td>1.589578</td>\n",
       "      <td>176.111409</td>\n",
       "      <td>0</td>\n",
       "    </tr>\n",
       "    <tr>\n",
       "      <th>9</th>\n",
       "      <td>31.033107</td>\n",
       "      <td>110.916889</td>\n",
       "      <td>16.736599</td>\n",
       "      <td>20.769492</td>\n",
       "      <td>171.940160</td>\n",
       "      <td>8.367134</td>\n",
       "      <td>2.303304</td>\n",
       "      <td>175.865866</td>\n",
       "      <td>0</td>\n",
       "    </tr>\n",
       "  </tbody>\n",
       "</table>\n",
       "</div>"
      ],
      "text/plain": [
       "   LEFT_ELBOW_angle  RIGHT_ELBOW_angle  LEFT_ARM_angle  RIGHT_ARM_angle  \\\n",
       "0         30.642375         114.768470       15.373363        19.755488   \n",
       "1         29.499736         116.414405       16.151436        19.547796   \n",
       "2         28.517474         115.925517       15.169092        19.285775   \n",
       "3         26.177268         115.770147       15.046427        19.970925   \n",
       "4         31.196002         117.524903       16.660784        19.724086   \n",
       "5         24.674076         110.481907       14.309520        19.828555   \n",
       "6         26.922999         110.682096       14.558749        20.287753   \n",
       "7         22.723897         108.153169       13.714592        20.598305   \n",
       "8         30.474724         113.388003       16.015997        20.415172   \n",
       "9         31.033107         110.916889       16.736599        20.769492   \n",
       "\n",
       "   LEFT_HIP_angle  RIGHT_HIP_angle  LEFT_KNEE_angle  RIGHT_KNEE_angle  \\\n",
       "0      171.633813         8.652292         1.065169        175.890112   \n",
       "1      171.646912         8.574907         1.235083        176.824857   \n",
       "2      170.834606         8.672581         1.747233        176.371468   \n",
       "3      171.150329         8.860190         1.969037        175.888648   \n",
       "4      171.368384         8.962361         1.737987        175.859401   \n",
       "5      171.506014         8.281219         1.999915        176.345542   \n",
       "6      171.977464         8.453597         0.810897        176.590451   \n",
       "7      170.323240         9.404474         1.769444        175.853615   \n",
       "8      171.644809         9.384299         1.589578        176.111409   \n",
       "9      171.940160         8.367134         2.303304        175.865866   \n",
       "\n",
       "   class_no  \n",
       "0         0  \n",
       "1         0  \n",
       "2         0  \n",
       "3         0  \n",
       "4         0  \n",
       "5         0  \n",
       "6         0  \n",
       "7         0  \n",
       "8         0  \n",
       "9         0  "
      ]
     },
     "execution_count": 85,
     "metadata": {},
     "output_type": "execute_result"
    }
   ],
   "source": [
    "ds.df_angle.head(10)"
   ]
  },
  {
   "cell_type": "code",
   "execution_count": 9,
   "id": "41027644-9e90-443f-bb04-831b16c6510e",
   "metadata": {
    "tags": []
   },
   "outputs": [],
   "source": [
    "# 姿態模型\n",
    "class GestureModel(nn.Module):\n",
    "    def __init__(self):\n",
    "        super().__init__()\n",
    "        \n",
    "        self.relu_linear_stack = nn.Sequential(\n",
    "            nn.Linear(34, 68),\n",
    "            nn.Dropout(p=0.1),\n",
    "            nn.ReLU(),\n",
    "            nn.Linear(68, 4)\n",
    "        )\n",
    "        pass\n",
    "    \n",
    "    def forward(self, x):\n",
    "        logits = self.relu_linear_stack(x)\n",
    "        return logits"
   ]
  },
  {
   "cell_type": "code",
   "execution_count": 8,
   "id": "ddb30621-9164-4d6a-bf74-1ca76e6abe3c",
   "metadata": {
    "jupyter": {
     "source_hidden": true
    },
    "tags": []
   },
   "outputs": [],
   "source": [
    "# # 姿態資料集(已棄用)\n",
    "# class GestureDataset(Dataset):\n",
    "#     def __init__(self, df:pd.DataFrame):\n",
    "#         self.dataframe = df\n",
    "#         pass\n",
    "    \n",
    "#     def __getitem__(self, idx):\n",
    "#         # 取得資料特徵，轉換成 torch 格式，資料為 torch.float32 格式\n",
    "#         feature = torch.tensor(self.dataframe.iloc[idx, :-1]).to(torch.float32)\n",
    "#         # 取得結果\n",
    "#         result = self.dataframe.iloc[idx, -1]\n",
    "#         return feature, result\n",
    "    \n",
    "#     def __len__(self):\n",
    "#         return len(self.dataframe)"
   ]
  },
  {
   "cell_type": "markdown",
   "id": "1386f192-22f5-4889-a681-ef780e801ba9",
   "metadata": {
    "tags": []
   },
   "source": [
    "# 5. 使用資料"
   ]
  },
  {
   "cell_type": "code",
   "execution_count": 13,
   "id": "77471f17-38ae-4cf3-b87e-055cf2aa4f44",
   "metadata": {},
   "outputs": [],
   "source": [
    "# 讀取 csv 資料\n",
    "gesture_df = pd.read_csv(gesture_data_file)\n",
    "\n",
    "# 切分成訓練以及測試資料\n",
    "train_df = gesture_df.iloc[::3]\n",
    "test_df = gesture_df.iloc[1::2]\n",
    "\n",
    "# 建立資料集\n",
    "train_dataset = GestureDataset(train_df)\n",
    "test_dataset = GestureDataset(test_df)\n",
    "\n",
    "# 建立加載器\n",
    "train_dataloader = DataLoader(train_dataset, batch_size=batch_size, shuffle=True)\n",
    "test_dataloader = DataLoader(test_dataset, batch_size=batch_size, shuffle=True)"
   ]
  },
  {
   "cell_type": "markdown",
   "id": "d8488f10-90ab-4b29-8242-6461cef986ca",
   "metadata": {
    "tags": []
   },
   "source": [
    "# 6. 建立模型"
   ]
  },
  {
   "cell_type": "code",
   "execution_count": 14,
   "id": "687137e5-1541-4368-adbd-88f945d6206e",
   "metadata": {},
   "outputs": [
    {
     "name": "stdout",
     "output_type": "stream",
     "text": [
      "GestureModel(\n",
      "  (relu_linear_stack): Sequential(\n",
      "    (0): Linear(in_features=34, out_features=68, bias=True)\n",
      "    (1): Dropout(p=0.1, inplace=False)\n",
      "    (2): ReLU()\n",
      "    (3): Linear(in_features=68, out_features=4, bias=True)\n",
      "  )\n",
      ")\n"
     ]
    }
   ],
   "source": [
    "# 建立模型\n",
    "model = GestureModel().to(device)\n",
    "print(model)"
   ]
  },
  {
   "cell_type": "markdown",
   "id": "1b478d66-3712-42aa-bd15-02357ed1d923",
   "metadata": {
    "tags": []
   },
   "source": [
    "# 7. 訓練模型"
   ]
  },
  {
   "cell_type": "code",
   "execution_count": 15,
   "id": "4d8eead1-a316-41dc-80af-20608bd4e462",
   "metadata": {
    "tags": []
   },
   "outputs": [
    {
     "name": "stdout",
     "output_type": "stream",
     "text": [
      "Done!\n"
     ]
    }
   ],
   "source": [
    "# 訓練模型\n",
    "optimizer = optim_fn(model.parameters(), lr=learning_rate)\n",
    "\n",
    "for t in range(epochs):\n",
    "    # print(f\"Epoch {t+1}\\n-------------------------------\")\n",
    "    # 訓練模型\n",
    "    train(train_dataloader, model, loss_fn, optimizer)\n",
    "    # 驗證模型(使用訓練資料)\n",
    "    train_accuracy, train_loss = test(train_dataloader, model, loss_fn)\n",
    "    # 驗證模型(使用驗證資料)\n",
    "    # test_accuracy, test_loss = test(test_dataloader, model, loss_fn)\n",
    "    \n",
    "    # 畫出折線圖\n",
    "    writer.add_scalar('Accuracy/train', train_accuracy, t)\n",
    "    writer.add_scalar('Loss/train', train_loss, t)\n",
    "    # writer.add_scalar('Accuracy/test', test_accuracy, t)\n",
    "    # writer.add_scalar('Loss/test', test_loss, t)\n",
    "    \n",
    "    writer.flush() # 上傳資料到 TensorBoard\n",
    "\n",
    "# 繪畫出模型圖\n",
    "writer.add_graph(model, train_dataset[0][0].to(device))\n",
    "\n",
    "writer.flush() # 上傳資料到 TensorBoard\n",
    "writer.close() # 關閉 TensorBoard 的上傳\n",
    "\n",
    "# PlaySound() # 完成訓練後撥放音樂\n",
    "print(\"Done!\")"
   ]
  },
  {
   "cell_type": "code",
   "execution_count": 22,
   "id": "68d93fca-b79c-4119-aa6b-783c8ed3ce11",
   "metadata": {
    "tags": []
   },
   "outputs": [
    {
     "name": "stdout",
     "output_type": "stream",
     "text": [
      "tensor(0, device='cuda:0')\n"
     ]
    }
   ],
   "source": [
    "print(model(train_dataset[0][0].to(device)).argmax(0))"
   ]
  }
 ],
 "metadata": {
  "kernelspec": {
   "display_name": "Python 3 (ipykernel)",
   "language": "python",
   "name": "python3"
  },
  "language_info": {
   "codemirror_mode": {
    "name": "ipython",
    "version": 3
   },
   "file_extension": ".py",
   "mimetype": "text/x-python",
   "name": "python",
   "nbconvert_exporter": "python",
   "pygments_lexer": "ipython3",
   "version": "3.9.15"
  }
 },
 "nbformat": 4,
 "nbformat_minor": 5
}
