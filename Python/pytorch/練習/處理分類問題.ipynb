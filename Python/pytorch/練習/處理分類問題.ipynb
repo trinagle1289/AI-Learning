{
 "cells": [
  {
   "cell_type": "markdown",
   "id": "701fb43c-4310-4127-a7ae-caf619ceb1a9",
   "metadata": {
    "tags": []
   },
   "source": [
    "# 處理分類問題"
   ]
  },
  {
   "cell_type": "markdown",
   "id": "20349c97-3602-4b62-850c-f6d579edb261",
   "metadata": {},
   "source": [
    "主要流程:  \n",
    "1. 讀取 CSV 資料\n",
    "    * 使用 pandas 套件讀取 CSV 檔案資料\n",
    "2. 將資料轉換成 PyTorch 容易使用的資料\n",
    "    1. 使用 torch.data.utils.Dataset 存取 pandas 所讀取的資料\n",
    "    2. 使用 torch.data.utils.DataLoader 將 Dataset 的資料轉化成機器學習容易使用的格式\n",
    "3. 建立用於分類的機器模型"
   ]
  },
  {
   "cell_type": "markdown",
   "id": "da31b7ea-4f2c-43bf-8d33-3565d5fad946",
   "metadata": {
    "jp-MarkdownHeadingCollapsed": true,
    "tags": []
   },
   "source": [
    "## **資料來源**\n",
    "* * *\n",
    "#### 範例資料集\n",
    "\n",
    "* [Kaggle: Your Home for Data Science](https://www.kaggle.com/)  \n",
    "* [Gender Classification Dataset | Kaggle](https://www.kaggle.com/datasets/elakiricoder/gender-classification-dataset)\n",
    "* * *\n",
    "#### Python 觀念\n",
    "1. [Python基礎功不可少-dir()與help()的使用 @ 布萊恩的創業小窩的部落格 :: 痞客邦 ::](https://kobebrian5778.pixnet.net/blog/post/308583806-python%E5%9F%BA%E7%A4%8E%E5%8A%9F%E4%B8%8D%E5%8F%AF%E5%B0%91-dir%28%29%E8%88%87help%28%29%E7%9A%84%E4%BD%BF%E7%94%A8)\n",
    "2. [Python help() 函數 |  數字海洋](https://www.digitalocean.com/community/tutorials/python-help-function)  \n",
    "3. [Python enumerate() 函数 | 菜鸟教程](https://www.runoob.com/python/python-func-enumerate.html)\n",
    "* * *\n",
    "#### Git 觀念\n",
    "1. [Git Commit Message Standard](https://gist.github.com/tonibardina/9290fbc7d605b4f86919426e614fe692)\n",
    "2. [Git Commit Message 這樣寫會更好，替專案引入規範與範例](https://wadehuanglearning.blogspot.com/2019/05/commit-commit-commit-why-what-commit.html)\n",
    "* * *\n",
    "#### PyTorch\n",
    "\n",
    "1. [Quickstart — PyTorch Tutorials 1.13.1+cu117 documentation](https://pytorch.org/tutorials/beginner/basics/quickstart_tutorial.html)\n",
    "2. [Datasets & DataLoaders — PyTorch Tutorials 1.13.1+cu117 documentation](https://pytorch.org/tutorials/beginner/basics/data_tutorial.html)\n",
    "3. [Build the Neural Network — PyTorch Tutorials 1.13.1+cu117 documentation](https://pytorch.org/tutorials/beginner/basics/buildmodel_tutorial.html)\n",
    "4. [Optimizing Model Parameters — PyTorch Tutorials 1.13.1+cu117 documentation](https://pytorch.org/tutorials/beginner/basics/optimization_tutorial.html)\n",
    "5. [Save and Load the Model — PyTorch Tutorials 1.13.1+cu117 documentation](https://pytorch.org/tutorials/beginner/basics/saveloadrun_tutorial.html)\n",
    "* * *\n",
    "#### ML 學習資源\n",
    "\n",
    "1. [零基礎自學深度學習 ：（一）神經網路基本架構. 筆者曾於Coursera觀看過臺灣大學資工系林軒田教授授課的「機器學習基石（Ma… | by Evan | Medium](https://evan-hsiao.medium.com/%E5%BE%9Ecoursera%E5%AD%B8%E7%BF%92%E6%B7%B1%E5%BA%A6%E5%AD%B8%E7%BF%92-bd6bad6f5e14)\n",
    "2. [Day-21 實際重現神經元是可做到的嗎? Feed-Forward Neural Network Building - iT 邦幫忙::一起幫忙解決難題，拯救 IT 人的一天](https://ithelp.ithome.com.tw/articles/10277989)\n",
    "3. [[Day 29] Deep learning -- 各種模型(i) - iT 邦幫忙::一起幫忙解決難題，拯救 IT 人的一天](https://ithelp.ithome.com.tw/articles/10189072)\n",
    "4. [DAY18：激活函數 - iT 邦幫忙::一起幫忙解決難題，拯救 IT 人的一天](https://ithelp.ithome.com.tw/articles/10276865)\n",
    "5. [Day-19 PyTorch 怎麼讀取資料? Dataset and DataLoader - iT 邦幫忙::一起幫忙解決難題，拯救 IT 人的一天](https://ithelp.ithome.com.tw/articles/10277163)\n",
    "6. [【12】新手容易忽略的 logit 與 loss 之間的搭配 - iT 邦幫忙::一起幫忙解決難題，拯救 IT 人的一天](https://ithelp.ithome.com.tw/articles/10272449)\n",
    "7. [機器/深度學習: 基礎介紹-損失函數(loss function) | by Tommy Huang | Medium](https://chih-sheng-huang821.medium.com/%E6%A9%9F%E5%99%A8-%E6%B7%B1%E5%BA%A6%E5%AD%B8%E7%BF%92-%E5%9F%BA%E7%A4%8E%E4%BB%8B%E7%B4%B9-%E6%90%8D%E5%A4%B1%E5%87%BD%E6%95%B8-loss-function-2dcac5ebb6cb)\n",
    "8. [【Day 20】 Google ML - Lesson 6 - 使用損失函數(Loss Functions)來評估ML模型的好壞吧!  MSE, RMSE, Cross Entropy的計算方法與特性 - iT 邦幫忙::一起幫忙解決難題，拯救 IT 人的一天](https://ithelp.ithome.com.tw/articles/10218158)\n",
    "9. [Day 14 Optimizer大亂鬥 - iT 邦幫忙::一起幫忙解決難題，拯救 IT 人的一天](https://ithelp.ithome.com.tw/articles/10236554)\n",
    "10. [[機器學習ML NOTE]SGD, Momentum, AdaGrad, Adam Optimizer | by GGWithRabitLIFE | 雞雞與兔兔的工程世界 | Medium](https://medium.com/%E9%9B%9E%E9%9B%9E%E8%88%87%E5%85%94%E5%85%94%E7%9A%84%E5%B7%A5%E7%A8%8B%E4%B8%96%E7%95%8C/%E6%A9%9F%E5%99%A8%E5%AD%B8%E7%BF%92ml-note-sgd-momentum-adagrad-adam-optimizer-f20568c968db)\n",
    "11. [7 Types of Classification Algorithms](https://analyticsindiamag.com/7-types-classification-algorithms/)\n",
    "12. [【Day 18】 Google ML - Lesson 4 - 什麼是ML模型?訓練的目標? 回歸模型(Regression model), 分類模型(Classification model)的運算 - iT 邦幫忙::一起幫忙解決難題，拯救 IT 人的一天](https://ithelp.ithome.com.tw/articles/10217431)"
   ]
  },
  {
   "cell_type": "markdown",
   "id": "b565dc8c-6b5c-457c-9411-e1a3b443989c",
   "metadata": {},
   "source": [
    "# 解決分類問題"
   ]
  },
  {
   "cell_type": "markdown",
   "id": "c62fc2e2-8444-43bb-bb4d-b942bec2f441",
   "metadata": {},
   "source": [
    "### 0. 導入套件、設定初始參數"
   ]
  },
  {
   "cell_type": "code",
   "execution_count": null,
   "id": "5ad01b85-dafe-4533-9bf8-ff2d332cec8c",
   "metadata": {},
   "outputs": [],
   "source": []
  },
  {
   "cell_type": "markdown",
   "id": "09117859-9079-4233-aa5b-15f3312083df",
   "metadata": {},
   "source": [
    "### 1. 讀取 CSV 資料"
   ]
  },
  {
   "cell_type": "code",
   "execution_count": null,
   "id": "cd7270c9-09c9-45c0-9dae-caf37610644d",
   "metadata": {},
   "outputs": [],
   "source": []
  }
 ],
 "metadata": {
  "kernelspec": {
   "display_name": "Python 3 (ipykernel)",
   "language": "python",
   "name": "python3"
  },
  "language_info": {
   "codemirror_mode": {
    "name": "ipython",
    "version": 3
   },
   "file_extension": ".py",
   "mimetype": "text/x-python",
   "name": "python",
   "nbconvert_exporter": "python",
   "pygments_lexer": "ipython3",
   "version": "3.9.15"
  }
 },
 "nbformat": 4,
 "nbformat_minor": 5
}
