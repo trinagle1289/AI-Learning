{
 "cells": [
  {
   "cell_type": "markdown",
   "id": "3e799acd-48e0-450f-81dd-bac9ae3cb9d7",
   "metadata": {},
   "source": [
    "# KIM 量表姿勢辨識"
   ]
  },
  {
   "cell_type": "markdown",
   "id": "fd0d8c5d-11b7-4b17-904f-0fc38bdc22d1",
   "metadata": {
    "tags": []
   },
   "source": [
    "## 1. 所需套件"
   ]
  },
  {
   "cell_type": "code",
   "execution_count": 1,
   "id": "b083040e-58cd-4270-b880-f5c640d1c8a8",
   "metadata": {},
   "outputs": [],
   "source": [
    "# 主要套件\n",
    "import torch\n",
    "\n",
    "# 資料處理\n",
    "import pandas as pd\n",
    "from torch.utils.data import Dataset\n",
    "from torch.utils.data import DataLoader\n",
    "\n",
    "# 建立機器模型\n",
    "from torch import nn\n",
    "from torch import optim"
   ]
  },
  {
   "cell_type": "markdown",
   "id": "23726ef4-594c-489b-86cf-f7400ce2bd5c",
   "metadata": {},
   "source": [
    "## 2. 所需參數"
   ]
  },
  {
   "cell_type": "code",
   "execution_count": 2,
   "id": "9b989494-b8c0-443a-85c3-5787ca1ba6bd",
   "metadata": {},
   "outputs": [
    {
     "name": "stdout",
     "output_type": "stream",
     "text": [
      "Using cuda device\n"
     ]
    }
   ],
   "source": [
    "# 資料處理\n",
    "csv_file = \"dataset/train_data-x_y.csv\"\n",
    "\n",
    "# 資料處理\n",
    "batch_size = 64\n",
    "\n",
    "# 模型訓練\n",
    "device = \"cuda\" if torch.cuda.is_available() else \"mps\" if torch.backends.mps.is_available() else \"cpu\" # 取得 CPU 或是 GPU 的設備進行訓練\n",
    "optim_fn = optim.SGD # 優化函數\n",
    "loss_fn = nn.CrossEntropyLoss() # 損失函數\n",
    "learning_rate = 1e-3 # 學習率\n",
    "epochs = 5\n",
    "\n",
    "print(f\"Using {device} device\")"
   ]
  },
  {
   "cell_type": "markdown",
   "id": "eb159bd5-f6f6-478d-8845-ddc3c320bd09",
   "metadata": {
    "tags": []
   },
   "source": [
    "## 3. 從 csv 檔案中提取資料"
   ]
  },
  {
   "cell_type": "code",
   "execution_count": 3,
   "id": "1eb1102e-9135-4fe9-be3f-c887660e3479",
   "metadata": {},
   "outputs": [],
   "source": [
    "kim_lhc_df = pd.read_csv(csv_file)"
   ]
  },
  {
   "cell_type": "markdown",
   "id": "4d4ba41a-ff10-42e7-983d-e000f6aac106",
   "metadata": {
    "jp-MarkdownHeadingCollapsed": true,
    "tags": []
   },
   "source": [
    "### 練習"
   ]
  },
  {
   "cell_type": "markdown",
   "id": "2a5e52d7-0606-467d-a3b3-7d06f3796af2",
   "metadata": {
    "jp-MarkdownHeadingCollapsed": true,
    "tags": []
   },
   "source": [
    "#### 1. 顯示第一項資料"
   ]
  },
  {
   "cell_type": "code",
   "execution_count": 4,
   "id": "82fa2491-33c5-45dd-9439-40b40d39c2b0",
   "metadata": {},
   "outputs": [
    {
     "data": {
      "text/plain": [
       "NOSE_x               494\n",
       "NOSE_y               256\n",
       "LEFT_EYE_x           517\n",
       "LEFT_EYE_y           240\n",
       "RIGHT_EYE_x          468\n",
       "RIGHT_EYE_y          241\n",
       "LEFT_EAR_x           553\n",
       "LEFT_EAR_y           271\n",
       "RIGHT_EAR_x          439\n",
       "RIGHT_EAR_y          273\n",
       "LEFT_SHOULDER_x      626\n",
       "LEFT_SHOULDER_y      430\n",
       "RIGHT_SHOULDER_x     386\n",
       "RIGHT_SHOULDER_y     436\n",
       "LEFT_ELBOW_x         644\n",
       "LEFT_ELBOW_y         616\n",
       "RIGHT_ELBOW_x        345\n",
       "RIGHT_ELBOW_y        611\n",
       "LEFT_WRIST_x         629\n",
       "LEFT_WRIST_y         648\n",
       "RIGHT_WRIST_x        395\n",
       "RIGHT_WRIST_y        650\n",
       "LEFT_HIP_x           563\n",
       "LEFT_HIP_y           793\n",
       "RIGHT_HIP_x          427\n",
       "RIGHT_HIP_y          792\n",
       "LEFT_KNEE_x          556\n",
       "LEFT_KNEE_y         1064\n",
       "RIGHT_KNEE_x         417\n",
       "RIGHT_KNEE_y        1067\n",
       "LEFT_ANKLE_x         546\n",
       "LEFT_ANKLE_y        1289\n",
       "RIGHT_ANKLE_x        425\n",
       "RIGHT_ANKLE_y       1293\n",
       "class_no               0\n",
       "Name: 0, dtype: int64"
      ]
     },
     "execution_count": 4,
     "metadata": {},
     "output_type": "execute_result"
    }
   ],
   "source": [
    "kim_lhc_df.iloc[0]"
   ]
  },
  {
   "cell_type": "markdown",
   "id": "30bfe095-44f2-4bbb-8441-9f800cf20421",
   "metadata": {
    "jp-MarkdownHeadingCollapsed": true,
    "tags": []
   },
   "source": [
    "#### 2. 將資料轉換成 tensor 格式"
   ]
  },
  {
   "cell_type": "code",
   "execution_count": 5,
   "id": "fda6466a-2d88-4d77-8b63-6cc62535158c",
   "metadata": {},
   "outputs": [
    {
     "data": {
      "text/plain": [
       "tensor([ 494,  256,  517,  240,  468,  241,  553,  271,  439,  273,  626,  430,\n",
       "         386,  436,  644,  616,  345,  611,  629,  648,  395,  650,  563,  793,\n",
       "         427,  792,  556, 1064,  417, 1067,  546, 1289,  425, 1293,    0])"
      ]
     },
     "execution_count": 5,
     "metadata": {},
     "output_type": "execute_result"
    }
   ],
   "source": [
    "torch.tensor(list(kim_lhc_df.iloc[0]))"
   ]
  },
  {
   "cell_type": "markdown",
   "id": "725a1f7c-3384-4874-94b4-691915831e65",
   "metadata": {
    "jp-MarkdownHeadingCollapsed": true,
    "tags": []
   },
   "source": [
    "#### 3. 顯示前五項資料"
   ]
  },
  {
   "cell_type": "code",
   "execution_count": 6,
   "id": "5c2cae89-1cb1-4ca1-a2e0-c4895003a583",
   "metadata": {},
   "outputs": [
    {
     "data": {
      "text/html": [
       "<div>\n",
       "<style scoped>\n",
       "    .dataframe tbody tr th:only-of-type {\n",
       "        vertical-align: middle;\n",
       "    }\n",
       "\n",
       "    .dataframe tbody tr th {\n",
       "        vertical-align: top;\n",
       "    }\n",
       "\n",
       "    .dataframe thead th {\n",
       "        text-align: right;\n",
       "    }\n",
       "</style>\n",
       "<table border=\"1\" class=\"dataframe\">\n",
       "  <thead>\n",
       "    <tr style=\"text-align: right;\">\n",
       "      <th></th>\n",
       "      <th>NOSE_x</th>\n",
       "      <th>NOSE_y</th>\n",
       "      <th>LEFT_EYE_x</th>\n",
       "      <th>LEFT_EYE_y</th>\n",
       "      <th>RIGHT_EYE_x</th>\n",
       "      <th>RIGHT_EYE_y</th>\n",
       "      <th>LEFT_EAR_x</th>\n",
       "      <th>LEFT_EAR_y</th>\n",
       "      <th>RIGHT_EAR_x</th>\n",
       "      <th>RIGHT_EAR_y</th>\n",
       "      <th>...</th>\n",
       "      <th>RIGHT_HIP_y</th>\n",
       "      <th>LEFT_KNEE_x</th>\n",
       "      <th>LEFT_KNEE_y</th>\n",
       "      <th>RIGHT_KNEE_x</th>\n",
       "      <th>RIGHT_KNEE_y</th>\n",
       "      <th>LEFT_ANKLE_x</th>\n",
       "      <th>LEFT_ANKLE_y</th>\n",
       "      <th>RIGHT_ANKLE_x</th>\n",
       "      <th>RIGHT_ANKLE_y</th>\n",
       "      <th>class_no</th>\n",
       "    </tr>\n",
       "  </thead>\n",
       "  <tbody>\n",
       "    <tr>\n",
       "      <th>0</th>\n",
       "      <td>494</td>\n",
       "      <td>256</td>\n",
       "      <td>517</td>\n",
       "      <td>240</td>\n",
       "      <td>468</td>\n",
       "      <td>241</td>\n",
       "      <td>553</td>\n",
       "      <td>271</td>\n",
       "      <td>439</td>\n",
       "      <td>273</td>\n",
       "      <td>...</td>\n",
       "      <td>792</td>\n",
       "      <td>556</td>\n",
       "      <td>1064</td>\n",
       "      <td>417</td>\n",
       "      <td>1067</td>\n",
       "      <td>546</td>\n",
       "      <td>1289</td>\n",
       "      <td>425</td>\n",
       "      <td>1293</td>\n",
       "      <td>0</td>\n",
       "    </tr>\n",
       "    <tr>\n",
       "      <th>1</th>\n",
       "      <td>491</td>\n",
       "      <td>262</td>\n",
       "      <td>513</td>\n",
       "      <td>245</td>\n",
       "      <td>465</td>\n",
       "      <td>247</td>\n",
       "      <td>548</td>\n",
       "      <td>274</td>\n",
       "      <td>437</td>\n",
       "      <td>279</td>\n",
       "      <td>...</td>\n",
       "      <td>798</td>\n",
       "      <td>553</td>\n",
       "      <td>1064</td>\n",
       "      <td>415</td>\n",
       "      <td>1069</td>\n",
       "      <td>543</td>\n",
       "      <td>1291</td>\n",
       "      <td>420</td>\n",
       "      <td>1294</td>\n",
       "      <td>0</td>\n",
       "    </tr>\n",
       "    <tr>\n",
       "      <th>2</th>\n",
       "      <td>488</td>\n",
       "      <td>261</td>\n",
       "      <td>510</td>\n",
       "      <td>245</td>\n",
       "      <td>462</td>\n",
       "      <td>247</td>\n",
       "      <td>546</td>\n",
       "      <td>274</td>\n",
       "      <td>433</td>\n",
       "      <td>279</td>\n",
       "      <td>...</td>\n",
       "      <td>797</td>\n",
       "      <td>551</td>\n",
       "      <td>1065</td>\n",
       "      <td>411</td>\n",
       "      <td>1067</td>\n",
       "      <td>539</td>\n",
       "      <td>1291</td>\n",
       "      <td>417</td>\n",
       "      <td>1295</td>\n",
       "      <td>0</td>\n",
       "    </tr>\n",
       "    <tr>\n",
       "      <th>3</th>\n",
       "      <td>485</td>\n",
       "      <td>254</td>\n",
       "      <td>508</td>\n",
       "      <td>237</td>\n",
       "      <td>460</td>\n",
       "      <td>240</td>\n",
       "      <td>549</td>\n",
       "      <td>267</td>\n",
       "      <td>436</td>\n",
       "      <td>275</td>\n",
       "      <td>...</td>\n",
       "      <td>787</td>\n",
       "      <td>553</td>\n",
       "      <td>1057</td>\n",
       "      <td>415</td>\n",
       "      <td>1063</td>\n",
       "      <td>541</td>\n",
       "      <td>1284</td>\n",
       "      <td>423</td>\n",
       "      <td>1288</td>\n",
       "      <td>0</td>\n",
       "    </tr>\n",
       "    <tr>\n",
       "      <th>4</th>\n",
       "      <td>484</td>\n",
       "      <td>262</td>\n",
       "      <td>507</td>\n",
       "      <td>246</td>\n",
       "      <td>458</td>\n",
       "      <td>247</td>\n",
       "      <td>543</td>\n",
       "      <td>277</td>\n",
       "      <td>430</td>\n",
       "      <td>280</td>\n",
       "      <td>...</td>\n",
       "      <td>798</td>\n",
       "      <td>549</td>\n",
       "      <td>1068</td>\n",
       "      <td>409</td>\n",
       "      <td>1069</td>\n",
       "      <td>538</td>\n",
       "      <td>1293</td>\n",
       "      <td>417</td>\n",
       "      <td>1295</td>\n",
       "      <td>0</td>\n",
       "    </tr>\n",
       "  </tbody>\n",
       "</table>\n",
       "<p>5 rows × 35 columns</p>\n",
       "</div>"
      ],
      "text/plain": [
       "   NOSE_x  NOSE_y  LEFT_EYE_x  LEFT_EYE_y  RIGHT_EYE_x  RIGHT_EYE_y  \\\n",
       "0     494     256         517         240          468          241   \n",
       "1     491     262         513         245          465          247   \n",
       "2     488     261         510         245          462          247   \n",
       "3     485     254         508         237          460          240   \n",
       "4     484     262         507         246          458          247   \n",
       "\n",
       "   LEFT_EAR_x  LEFT_EAR_y  RIGHT_EAR_x  RIGHT_EAR_y  ...  RIGHT_HIP_y  \\\n",
       "0         553         271          439          273  ...          792   \n",
       "1         548         274          437          279  ...          798   \n",
       "2         546         274          433          279  ...          797   \n",
       "3         549         267          436          275  ...          787   \n",
       "4         543         277          430          280  ...          798   \n",
       "\n",
       "   LEFT_KNEE_x  LEFT_KNEE_y  RIGHT_KNEE_x  RIGHT_KNEE_y  LEFT_ANKLE_x  \\\n",
       "0          556         1064           417          1067           546   \n",
       "1          553         1064           415          1069           543   \n",
       "2          551         1065           411          1067           539   \n",
       "3          553         1057           415          1063           541   \n",
       "4          549         1068           409          1069           538   \n",
       "\n",
       "   LEFT_ANKLE_y  RIGHT_ANKLE_x  RIGHT_ANKLE_y  class_no  \n",
       "0          1289            425           1293         0  \n",
       "1          1291            420           1294         0  \n",
       "2          1291            417           1295         0  \n",
       "3          1284            423           1288         0  \n",
       "4          1293            417           1295         0  \n",
       "\n",
       "[5 rows x 35 columns]"
      ]
     },
     "execution_count": 6,
     "metadata": {},
     "output_type": "execute_result"
    }
   ],
   "source": [
    "kim_lhc_df.head(5)"
   ]
  },
  {
   "cell_type": "markdown",
   "id": "610468f7-2ea9-42b8-be98-55de66b9437a",
   "metadata": {
    "jp-MarkdownHeadingCollapsed": true,
    "tags": []
   },
   "source": [
    "#### 4. 顯示檔案中的索引資料以及數量"
   ]
  },
  {
   "cell_type": "code",
   "execution_count": 7,
   "id": "0a0c279b-c0f1-40e1-8956-80934a6e5799",
   "metadata": {
    "tags": []
   },
   "outputs": [
    {
     "name": "stdout",
     "output_type": "stream",
     "text": [
      "0: NOSE_x\n",
      "1: NOSE_y\n",
      "2: LEFT_EYE_x\n",
      "3: LEFT_EYE_y\n",
      "4: RIGHT_EYE_x\n",
      "5: RIGHT_EYE_y\n",
      "6: LEFT_EAR_x\n",
      "7: LEFT_EAR_y\n",
      "8: RIGHT_EAR_x\n",
      "9: RIGHT_EAR_y\n",
      "10: LEFT_SHOULDER_x\n",
      "11: LEFT_SHOULDER_y\n",
      "12: RIGHT_SHOULDER_x\n",
      "13: RIGHT_SHOULDER_y\n",
      "14: LEFT_ELBOW_x\n",
      "15: LEFT_ELBOW_y\n",
      "16: RIGHT_ELBOW_x\n",
      "17: RIGHT_ELBOW_y\n",
      "18: LEFT_WRIST_x\n",
      "19: LEFT_WRIST_y\n",
      "20: RIGHT_WRIST_x\n",
      "21: RIGHT_WRIST_y\n",
      "22: LEFT_HIP_x\n",
      "23: LEFT_HIP_y\n",
      "24: RIGHT_HIP_x\n",
      "25: RIGHT_HIP_y\n",
      "26: LEFT_KNEE_x\n",
      "27: LEFT_KNEE_y\n",
      "28: RIGHT_KNEE_x\n",
      "29: RIGHT_KNEE_y\n",
      "30: LEFT_ANKLE_x\n",
      "31: LEFT_ANKLE_y\n",
      "32: RIGHT_ANKLE_x\n",
      "33: RIGHT_ANKLE_y\n",
      "34: class_no\n"
     ]
    }
   ],
   "source": [
    "kim_lhc_index = kim_lhc_df.columns.to_list()\n",
    "for i in range(len(kim_lhc_index)):\n",
    "    print(f\"{i}: {kim_lhc_index[i]}\")"
   ]
  },
  {
   "cell_type": "markdown",
   "id": "878c42c8-441c-4fdf-90bd-a3d3d73d6f95",
   "metadata": {
    "jp-MarkdownHeadingCollapsed": true,
    "tags": []
   },
   "source": [
    "#### 5. 練習 pandas 的索引搜尋"
   ]
  },
  {
   "cell_type": "code",
   "execution_count": 8,
   "id": "6615f400-6c91-4e79-83f4-7eb8f0aba0b2",
   "metadata": {},
   "outputs": [
    {
     "data": {
      "text/plain": [
       "'class_no'"
      ]
     },
     "execution_count": 8,
     "metadata": {},
     "output_type": "execute_result"
    }
   ],
   "source": [
    "label = tuple(kim_lhc_df.columns)\n",
    "label[-1]"
   ]
  },
  {
   "cell_type": "markdown",
   "id": "c674090e-4dbb-4f62-9e0b-d934a89aa7e2",
   "metadata": {
    "jp-MarkdownHeadingCollapsed": true,
    "tags": []
   },
   "source": [
    "#### 清除變數"
   ]
  },
  {
   "cell_type": "code",
   "execution_count": 9,
   "id": "2bbaf5a3-08d1-40d6-8b44-c03637d5fe79",
   "metadata": {},
   "outputs": [],
   "source": [
    "del(kim_lhc_index)\n",
    "del(label)"
   ]
  },
  {
   "cell_type": "markdown",
   "id": "cbcd067c-4408-42e0-adf0-a075fed4b8a8",
   "metadata": {
    "tags": []
   },
   "source": [
    "## 4. 定義類別"
   ]
  },
  {
   "cell_type": "markdown",
   "id": "0b28264e-649d-46a5-9d1f-d74b004ce5c1",
   "metadata": {
    "tags": []
   },
   "source": [
    "### 3.1 定義資料集類別"
   ]
  },
  {
   "cell_type": "code",
   "execution_count": 10,
   "id": "5ca86b98-afc7-46eb-b556-03041dc57de7",
   "metadata": {},
   "outputs": [],
   "source": [
    "# KIM 資料集\n",
    "class KIMDataset(Dataset):\n",
    "    def __init__(self, df: pd.DataFrame):\n",
    "        \"\"\"\n",
    "        df: 儲存 pandas 的 DataFrame 格式的資料\n",
    "        \"\"\"\n",
    "        # 儲存資料\n",
    "        self.dataframe = df\n",
    "        \n",
    "        # 取得標籤\n",
    "        self.label = tuple(df.columns)\n",
    "        print(f\"標籤數量: {len(self.label)}\")\n",
    "        # print(\"標籤內容:\")\n",
    "        # for i in range(len(self.label)):\n",
    "        #     if i % 6 == 0 and i > 0:\n",
    "        #         print(\"\")\n",
    "        #     print(self.label[i], end='\\t')\n",
    "        # print(\"\\n\")\n",
    "        print(f\"物件數量: {len(self)}\")\n",
    "        print(\"成功建立物件\\n\")\n",
    "        pass\n",
    "    \n",
    "    def __getitem__(self, idx):\n",
    "        \"\"\"取得索引物件\"\"\"\n",
    "        df_tensor = torch.tensor(self.dataframe.iloc[idx, :-1])\n",
    "        return df_tensor, self.dataframe.iloc[idx, -1]\n",
    "    \n",
    "    def __len__(self):\n",
    "        \"\"\"取得資料集數量\"\"\"\n",
    "        return len(self.dataframe)"
   ]
  },
  {
   "cell_type": "markdown",
   "id": "59692f73-7a5c-4319-ac9c-4aa4d326d2e4",
   "metadata": {
    "jp-MarkdownHeadingCollapsed": true,
    "tags": []
   },
   "source": [
    "#### 練習"
   ]
  },
  {
   "cell_type": "markdown",
   "id": "27ba8d35-03ce-45ea-9ee1-26188ba5aadd",
   "metadata": {
    "jp-MarkdownHeadingCollapsed": true,
    "tags": []
   },
   "source": [
    "##### 1. 建立資料集"
   ]
  },
  {
   "cell_type": "code",
   "execution_count": 11,
   "id": "b3491dcc-b399-4ea8-9c06-69d1d9983b79",
   "metadata": {},
   "outputs": [
    {
     "name": "stdout",
     "output_type": "stream",
     "text": [
      "標籤數量: 35\n",
      "物件數量: 3536\n",
      "成功建立物件\n",
      "\n"
     ]
    }
   ],
   "source": [
    "kim_ds = KIMDataset(kim_lhc_df)"
   ]
  },
  {
   "cell_type": "markdown",
   "id": "86a2397e-02f4-452f-bc69-037fa56aa930",
   "metadata": {
    "jp-MarkdownHeadingCollapsed": true,
    "tags": []
   },
   "source": [
    "##### 2. 顯示資料集中資料"
   ]
  },
  {
   "cell_type": "code",
   "execution_count": 12,
   "id": "88c95a4b-ae0e-4215-a242-920aa79b31ec",
   "metadata": {},
   "outputs": [
    {
     "data": {
      "text/plain": [
       "(tensor([ 494,  256,  517,  240,  468,  241,  553,  271,  439,  273,  626,  430,\n",
       "          386,  436,  644,  616,  345,  611,  629,  648,  395,  650,  563,  793,\n",
       "          427,  792,  556, 1064,  417, 1067,  546, 1289,  425, 1293]),\n",
       " 0)"
      ]
     },
     "execution_count": 12,
     "metadata": {},
     "output_type": "execute_result"
    }
   ],
   "source": [
    "kim_ds[0]"
   ]
  },
  {
   "cell_type": "markdown",
   "id": "3c584623-5ed7-4e8d-a542-d28836255fa1",
   "metadata": {
    "jp-MarkdownHeadingCollapsed": true,
    "tags": []
   },
   "source": [
    "##### 3. 顯示資料集長度"
   ]
  },
  {
   "cell_type": "code",
   "execution_count": 13,
   "id": "0e37b27c-8f99-42dd-9638-3228534b4b10",
   "metadata": {},
   "outputs": [
    {
     "data": {
      "text/plain": [
       "3536"
      ]
     },
     "execution_count": 13,
     "metadata": {},
     "output_type": "execute_result"
    }
   ],
   "source": [
    "len(kim_ds)"
   ]
  },
  {
   "cell_type": "markdown",
   "id": "e63c9201-f749-418d-9a82-b05df5b74fc1",
   "metadata": {
    "jp-MarkdownHeadingCollapsed": true,
    "tags": []
   },
   "source": [
    "##### 清除變數"
   ]
  },
  {
   "cell_type": "code",
   "execution_count": 14,
   "id": "76fbda31-b2be-4ce4-8e7e-9e3982a5044a",
   "metadata": {},
   "outputs": [],
   "source": [
    "del(kim_ds)"
   ]
  },
  {
   "cell_type": "markdown",
   "id": "0906865c-2d35-4f95-a904-b7fc380b1d7b",
   "metadata": {
    "tags": []
   },
   "source": [
    "### 3.2 定義姿勢模型類別"
   ]
  },
  {
   "cell_type": "code",
   "execution_count": 15,
   "id": "4d266a59-558f-4c28-ad49-c9a2ad2b854e",
   "metadata": {},
   "outputs": [],
   "source": [
    "# 姿勢模型\n",
    "class BodyClassifyModel(nn.Module):\n",
    "    def __init__(self):\n",
    "        super().__init__()\n",
    "        \n",
    "        self.relu_linear_stack = nn.Sequential(\n",
    "            nn.Linear(34, 512, dtype=torch.int64),\n",
    "            nn.ReLU(),\n",
    "            nn.Linear(512, 4)\n",
    "        )\n",
    "        pass\n",
    "    \n",
    "    def forward(self, x):\n",
    "        logits = self.relu_linear_stack(x)\n",
    "        return logits"
   ]
  },
  {
   "cell_type": "markdown",
   "id": "80130355-a7ba-4090-8249-ecae832906d0",
   "metadata": {
    "tags": []
   },
   "source": [
    "## 5. 將資料分為訓練資料集及測試資料集"
   ]
  },
  {
   "cell_type": "code",
   "execution_count": 16,
   "id": "e23139af-3da6-4099-b774-b42ec8c8317f",
   "metadata": {},
   "outputs": [],
   "source": [
    "train_df = kim_lhc_df.iloc[::2]\n",
    "test_df = kim_lhc_df.iloc[1::2]"
   ]
  },
  {
   "cell_type": "markdown",
   "id": "c1932139-69d6-437a-9d1f-52e739277333",
   "metadata": {
    "tags": []
   },
   "source": [
    "## 6. 分別建立資料集"
   ]
  },
  {
   "cell_type": "code",
   "execution_count": 17,
   "id": "1b7f4674-0eb5-4c84-980c-409e49f8bfaa",
   "metadata": {
    "tags": []
   },
   "outputs": [
    {
     "name": "stdout",
     "output_type": "stream",
     "text": [
      "標籤數量: 35\n",
      "物件數量: 1768\n",
      "成功建立物件\n",
      "\n",
      "標籤數量: 35\n",
      "物件數量: 1768\n",
      "成功建立物件\n",
      "\n"
     ]
    }
   ],
   "source": [
    "train_ds = KIMDataset(train_df)\n",
    "test_ds = KIMDataset(test_df)"
   ]
  },
  {
   "cell_type": "markdown",
   "id": "b18d2106-7f53-4db1-8861-b5992ca75b48",
   "metadata": {
    "tags": []
   },
   "source": [
    "## 7. 分別建立資料加載器"
   ]
  },
  {
   "cell_type": "code",
   "execution_count": 18,
   "id": "3f7566bc-4ac1-4dcd-864a-55a815261fa5",
   "metadata": {},
   "outputs": [],
   "source": [
    "train_dataloader = DataLoader(train_ds, batch_size=batch_size, shuffle=False)\n",
    "test_dataloader = DataLoader(test_ds, batch_size=batch_size, shuffle=True)"
   ]
  },
  {
   "cell_type": "markdown",
   "id": "5d628679-02f7-4ab6-a678-cf49a0162406",
   "metadata": {
    "jp-MarkdownHeadingCollapsed": true,
    "tags": []
   },
   "source": [
    "### 練習"
   ]
  },
  {
   "cell_type": "markdown",
   "id": "2e5e94ec-c02f-4706-bc75-1e0fe722ab08",
   "metadata": {
    "tags": []
   },
   "source": [
    "#### 1. 顯示 DataLoader 裡面的資料"
   ]
  },
  {
   "cell_type": "code",
   "execution_count": 19,
   "id": "d4d43641-4537-4c09-b363-e0300a2c870d",
   "metadata": {},
   "outputs": [
    {
     "name": "stdout",
     "output_type": "stream",
     "text": [
      "tensor([[ 494,  256,  517,  ..., 1289,  425, 1293],\n",
      "        [ 488,  261,  510,  ..., 1291,  417, 1295],\n",
      "        [ 484,  262,  507,  ..., 1293,  417, 1295],\n",
      "        ...,\n",
      "        [ 501,  396,  503,  ..., 1247,  385, 1323],\n",
      "        [ 452,  378,  452,  ..., 1327,  284, 1326],\n",
      "        [ 504,  381,  509,  ..., 1252,  394, 1272]])\n",
      "tensor([0, 0, 0, 0, 0, 0, 0, 0, 0, 0, 0, 0, 0, 0, 0, 0, 0, 0, 0, 0, 0, 0, 0, 0,\n",
      "        0, 0, 0, 0, 0, 0, 0, 0, 0, 0, 0, 0, 0, 0, 0, 0, 0, 0, 0, 0, 0, 0, 0, 0,\n",
      "        0, 0, 0, 0, 0, 0, 0, 0, 0, 0, 0, 0, 0, 0, 0, 0])\n"
     ]
    }
   ],
   "source": [
    "for X, y in train_dataloader:\n",
    "    print(X)\n",
    "    print(y)\n",
    "    break"
   ]
  },
  {
   "cell_type": "markdown",
   "id": "cfdb446c-d1fe-4328-97b4-4ba7a91c5162",
   "metadata": {
    "tags": []
   },
   "source": [
    "## 8. 建立模型物件"
   ]
  },
  {
   "cell_type": "code",
   "execution_count": 20,
   "id": "838bc96a-fe4e-4752-9780-ecdbba80d1e3",
   "metadata": {},
   "outputs": [
    {
     "ename": "RuntimeError",
     "evalue": "Only Tensors of floating point and complex dtype can require gradients",
     "output_type": "error",
     "traceback": [
      "\u001b[1;31m---------------------------------------------------------------------------\u001b[0m",
      "\u001b[1;31mRuntimeError\u001b[0m                              Traceback (most recent call last)",
      "Cell \u001b[1;32mIn[20], line 1\u001b[0m\n\u001b[1;32m----> 1\u001b[0m model \u001b[38;5;241m=\u001b[39m \u001b[43mBodyClassifyModel\u001b[49m\u001b[43m(\u001b[49m\u001b[43m)\u001b[49m\u001b[38;5;241m.\u001b[39mto(device)\n\u001b[0;32m      2\u001b[0m model\n",
      "Cell \u001b[1;32mIn[15], line 7\u001b[0m, in \u001b[0;36mBodyClassifyModel.__init__\u001b[1;34m(self)\u001b[0m\n\u001b[0;32m      3\u001b[0m \u001b[38;5;28;01mdef\u001b[39;00m \u001b[38;5;21m__init__\u001b[39m(\u001b[38;5;28mself\u001b[39m):\n\u001b[0;32m      4\u001b[0m     \u001b[38;5;28msuper\u001b[39m()\u001b[38;5;241m.\u001b[39m\u001b[38;5;21m__init__\u001b[39m()\n\u001b[0;32m      6\u001b[0m     \u001b[38;5;28mself\u001b[39m\u001b[38;5;241m.\u001b[39mrelu_linear_stack \u001b[38;5;241m=\u001b[39m nn\u001b[38;5;241m.\u001b[39mSequential(\n\u001b[1;32m----> 7\u001b[0m         \u001b[43mnn\u001b[49m\u001b[38;5;241;43m.\u001b[39;49m\u001b[43mLinear\u001b[49m\u001b[43m(\u001b[49m\u001b[38;5;241;43m34\u001b[39;49m\u001b[43m,\u001b[49m\u001b[43m \u001b[49m\u001b[38;5;241;43m512\u001b[39;49m\u001b[43m,\u001b[49m\u001b[43m \u001b[49m\u001b[43mdtype\u001b[49m\u001b[38;5;241;43m=\u001b[39;49m\u001b[43mtorch\u001b[49m\u001b[38;5;241;43m.\u001b[39;49m\u001b[43mint64\u001b[49m\u001b[43m)\u001b[49m,\n\u001b[0;32m      8\u001b[0m         nn\u001b[38;5;241m.\u001b[39mReLU(),\n\u001b[0;32m      9\u001b[0m         nn\u001b[38;5;241m.\u001b[39mLinear(\u001b[38;5;241m512\u001b[39m, \u001b[38;5;241m4\u001b[39m)\n\u001b[0;32m     10\u001b[0m     )\n\u001b[0;32m     11\u001b[0m     \u001b[38;5;28;01mpass\u001b[39;00m\n",
      "File \u001b[1;32m~\\anaconda3\\envs\\torch-py39\\lib\\site-packages\\torch\\nn\\modules\\linear.py:96\u001b[0m, in \u001b[0;36mLinear.__init__\u001b[1;34m(self, in_features, out_features, bias, device, dtype)\u001b[0m\n\u001b[0;32m     94\u001b[0m \u001b[38;5;28mself\u001b[39m\u001b[38;5;241m.\u001b[39min_features \u001b[38;5;241m=\u001b[39m in_features\n\u001b[0;32m     95\u001b[0m \u001b[38;5;28mself\u001b[39m\u001b[38;5;241m.\u001b[39mout_features \u001b[38;5;241m=\u001b[39m out_features\n\u001b[1;32m---> 96\u001b[0m \u001b[38;5;28mself\u001b[39m\u001b[38;5;241m.\u001b[39mweight \u001b[38;5;241m=\u001b[39m \u001b[43mParameter\u001b[49m\u001b[43m(\u001b[49m\u001b[43mtorch\u001b[49m\u001b[38;5;241;43m.\u001b[39;49m\u001b[43mempty\u001b[49m\u001b[43m(\u001b[49m\u001b[43m(\u001b[49m\u001b[43mout_features\u001b[49m\u001b[43m,\u001b[49m\u001b[43m \u001b[49m\u001b[43min_features\u001b[49m\u001b[43m)\u001b[49m\u001b[43m,\u001b[49m\u001b[43m \u001b[49m\u001b[38;5;241;43m*\u001b[39;49m\u001b[38;5;241;43m*\u001b[39;49m\u001b[43mfactory_kwargs\u001b[49m\u001b[43m)\u001b[49m\u001b[43m)\u001b[49m\n\u001b[0;32m     97\u001b[0m \u001b[38;5;28;01mif\u001b[39;00m bias:\n\u001b[0;32m     98\u001b[0m     \u001b[38;5;28mself\u001b[39m\u001b[38;5;241m.\u001b[39mbias \u001b[38;5;241m=\u001b[39m Parameter(torch\u001b[38;5;241m.\u001b[39mempty(out_features, \u001b[38;5;241m*\u001b[39m\u001b[38;5;241m*\u001b[39mfactory_kwargs))\n",
      "File \u001b[1;32m~\\anaconda3\\envs\\torch-py39\\lib\\site-packages\\torch\\nn\\parameter.py:36\u001b[0m, in \u001b[0;36mParameter.__new__\u001b[1;34m(cls, data, requires_grad)\u001b[0m\n\u001b[0;32m     32\u001b[0m     data \u001b[38;5;241m=\u001b[39m torch\u001b[38;5;241m.\u001b[39mempty(\u001b[38;5;241m0\u001b[39m)\n\u001b[0;32m     33\u001b[0m \u001b[38;5;28;01mif\u001b[39;00m \u001b[38;5;28mtype\u001b[39m(data) \u001b[38;5;129;01mis\u001b[39;00m torch\u001b[38;5;241m.\u001b[39mTensor \u001b[38;5;129;01mor\u001b[39;00m \u001b[38;5;28mtype\u001b[39m(data) \u001b[38;5;129;01mis\u001b[39;00m Parameter:\n\u001b[0;32m     34\u001b[0m     \u001b[38;5;66;03m# For ease of BC maintenance, keep this path for standard Tensor.\u001b[39;00m\n\u001b[0;32m     35\u001b[0m     \u001b[38;5;66;03m# Eventually (tm), we should change the behavior for standard Tensor to match.\u001b[39;00m\n\u001b[1;32m---> 36\u001b[0m     \u001b[38;5;28;01mreturn\u001b[39;00m \u001b[43mtorch\u001b[49m\u001b[38;5;241;43m.\u001b[39;49m\u001b[43mTensor\u001b[49m\u001b[38;5;241;43m.\u001b[39;49m\u001b[43m_make_subclass\u001b[49m\u001b[43m(\u001b[49m\u001b[38;5;28;43mcls\u001b[39;49m\u001b[43m,\u001b[49m\u001b[43m \u001b[49m\u001b[43mdata\u001b[49m\u001b[43m,\u001b[49m\u001b[43m \u001b[49m\u001b[43mrequires_grad\u001b[49m\u001b[43m)\u001b[49m\n\u001b[0;32m     38\u001b[0m \u001b[38;5;66;03m# Path for custom tensors: set a flag on the instance to indicate parameter-ness.\u001b[39;00m\n\u001b[0;32m     39\u001b[0m t \u001b[38;5;241m=\u001b[39m data\u001b[38;5;241m.\u001b[39mdetach()\u001b[38;5;241m.\u001b[39mrequires_grad_(requires_grad)\n",
      "\u001b[1;31mRuntimeError\u001b[0m: Only Tensors of floating point and complex dtype can require gradients"
     ]
    }
   ],
   "source": [
    "model = BodyClassifyModel().to(device)\n",
    "model"
   ]
  },
  {
   "cell_type": "markdown",
   "id": "48b729d2-7da5-48cf-8d81-0454f848e0ed",
   "metadata": {},
   "source": [
    "### 練習"
   ]
  },
  {
   "cell_type": "markdown",
   "id": "c444818b-c6ff-48a6-bbe2-c3795d3966d5",
   "metadata": {
    "tags": []
   },
   "source": [
    "#### 1. 取得練習範例中的資訊"
   ]
  },
  {
   "cell_type": "code",
   "execution_count": null,
   "id": "62c0b01f-d276-418d-b41c-15cbf1793e1e",
   "metadata": {},
   "outputs": [],
   "source": [
    "from torchvision import datasets\n",
    "from torchvision.transforms import ToTensor\n",
    "\n",
    "training_data = datasets.FashionMNIST(\n",
    "    root=\"data\",\n",
    "    train=True,\n",
    "    download=True,\n",
    "    transform=ToTensor(),\n",
    ")\n",
    "\n",
    "test_data = datasets.FashionMNIST(\n",
    "    root=\"data\",\n",
    "    train=False,\n",
    "    download=True,\n",
    "    transform=ToTensor(),\n",
    ")\n",
    "\n",
    "train_DL = DataLoader(training_data, batch_size=64)\n",
    "test_DL = DataLoader(test_data, batch_size=64)\n",
    "\n",
    "class NeuralNetwork(nn.Module):\n",
    "    def __init__(self):\n",
    "        super().__init__()\n",
    "        self.flatten = nn.Flatten()\n",
    "        self.linear_relu_stack = nn.Sequential(\n",
    "            nn.Linear(28*28, 512),\n",
    "            nn.ReLU(),\n",
    "            nn.Linear(512, 512),\n",
    "            nn.ReLU(),\n",
    "            nn.Linear(512, 10)\n",
    "        )\n",
    "\n",
    "    def forward(self, x):\n",
    "        x = self.flatten(x)\n",
    "        logits = self.linear_relu_stack(x)\n",
    "        return logits\n",
    "    \n",
    "test_model = NeuralNetwork().to(device)\n",
    "print(test_model)"
   ]
  },
  {
   "cell_type": "code",
   "execution_count": null,
   "id": "7bbac356-9dc4-4a69-b18b-df0bd7aad341",
   "metadata": {},
   "outputs": [],
   "source": [
    "for batch, (X, y) in enumerate(train_DL):\n",
    "    X, y = X.to(device), y.to(device)\n",
    "    print(X.shape)\n",
    "    break"
   ]
  },
  {
   "cell_type": "code",
   "execution_count": null,
   "id": "258e1b7e-2e3c-495e-8886-07bec90d1c44",
   "metadata": {},
   "outputs": [],
   "source": [
    "del(training_data)\n",
    "del(test_data)\n",
    "del(train_DL)\n",
    "del(test_DL)\n",
    "del(test_model)"
   ]
  },
  {
   "cell_type": "markdown",
   "id": "233fc9ef-a90d-4eba-b90c-baca3ce52ddd",
   "metadata": {},
   "source": [
    "#### 1. 驗證模型是否正確"
   ]
  },
  {
   "cell_type": "code",
   "execution_count": null,
   "id": "d4f8b77a-13f2-4d81-988f-cbad15e9d4a8",
   "metadata": {},
   "outputs": [],
   "source": [
    "for batch, (X, y) in enumerate(train_dataloader):\n",
    "    X, y = X.to(device), y.to(device)\n",
    "    print(X.dtype)\n",
    "    # 模型輸入的 datatype 要跟我們的參數相同，否則無法使用\n",
    "    \n",
    "    print(model(X))\n",
    "    # 計算預測失誤\n",
    "    # pred = model(X)\n",
    "    # print(pred)\n",
    "    break"
   ]
  },
  {
   "cell_type": "markdown",
   "id": "89de67e2-d09a-4b75-9921-af4ef5cfd38e",
   "metadata": {
    "jp-MarkdownHeadingCollapsed": true,
    "tags": []
   },
   "source": [
    "## 9. 建立優化模型函數"
   ]
  },
  {
   "cell_type": "markdown",
   "id": "15aeaffb-27d8-4cfa-8a4b-18e7c06c5157",
   "metadata": {},
   "source": [
    "### 9.1 建立訓練函數"
   ]
  },
  {
   "cell_type": "code",
   "execution_count": null,
   "id": "8c4123a8-1215-48e0-9e21-a55ac7ce41fc",
   "metadata": {},
   "outputs": [],
   "source": [
    "def train(dataloader:DataLoader, model:nn.Module, loss_fn:nn.modules.loss._Loss, optimizer:optim.Optimizer):\n",
    "    size = len(dataloader)\n",
    "    model.train()\n",
    "    for batch, (X, y) in enumerate(dataloader):\n",
    "        X, y = X.to(device), y.to(device)\n",
    "        \n",
    "        # 計算預測失誤\n",
    "        pred = model(X)\n",
    "        loss = loss_fn(pred, y)\n",
    "        print(type(loss))\n",
    "        \n",
    "        # Backpropagation(反向傳播算法)\n",
    "        optimizer.zero_grad()\n",
    "        loss.backward()\n",
    "        optimizer.step()\n",
    "        \n",
    "        if batch % 100 == 0:\n",
    "            loss, current = loss.item(), (batch+1) * len(X)\n",
    "            print(f\"loss: {loss:>7f} [{current:>5d}/{size:>5d}]\")"
   ]
  },
  {
   "cell_type": "markdown",
   "id": "37cdf4f2-db6a-4371-b23b-1675f493f06a",
   "metadata": {},
   "source": [
    "### 9.2 建立驗證函數"
   ]
  },
  {
   "cell_type": "code",
   "execution_count": null,
   "id": "e50d3603-7f0c-45f2-b7d3-d24fffd7202d",
   "metadata": {},
   "outputs": [],
   "source": [
    "def test(dataloader:DataLoader, model:nn.Module, loss_fn:nn.modules.loss._Loss):\n",
    "    size = len(dataloader.dataset)\n",
    "    num_batches = len(dataloader)\n",
    "    model.eval()\n",
    "    test_loss, correct = 0, 0\n",
    "    with torch.no_grad():\n",
    "        for X, y in dataloader:\n",
    "            X, y = X.to(device), y.to(device)\n",
    "            pred = model(X)\n",
    "            test_loss += loss_fn(pred, y).item()\n",
    "            correct += (pred.argmax(1) == y).type(torch.float).sum().item()\n",
    "            \n",
    "    test_loss /= num_batches\n",
    "    correct /= size\n",
    "    print(f\"Test Error: \\n Accuracy: {(100*correct):0.1f}%, Avg loss: {test_loss:>8f} \\n\")"
   ]
  },
  {
   "cell_type": "markdown",
   "id": "e237da5a-e29c-4368-91e3-8489dd4b294a",
   "metadata": {
    "jp-MarkdownHeadingCollapsed": true,
    "tags": []
   },
   "source": [
    "## 10. 進行訓練"
   ]
  },
  {
   "cell_type": "code",
   "execution_count": null,
   "id": "aa00c87e-884c-4495-9879-c25768bab19f",
   "metadata": {},
   "outputs": [],
   "source": [
    "optimizer = optim_fn(model.parameters(), lr=learning_rate)\n",
    "\n",
    "for t in range(epochs):\n",
    "    print(f\"Epoch {t+1}\\n-------------------------------\")\n",
    "    train(train_dataloader, model, loss_fn, optimizer)\n",
    "    test(test_dataloader, model, loss_fn)\n",
    "    \n",
    "print(\"Done!\")"
   ]
  }
 ],
 "metadata": {
  "kernelspec": {
   "display_name": "Python 3 (ipykernel)",
   "language": "python",
   "name": "python3"
  },
  "language_info": {
   "codemirror_mode": {
    "name": "ipython",
    "version": 3
   },
   "file_extension": ".py",
   "mimetype": "text/x-python",
   "name": "python",
   "nbconvert_exporter": "python",
   "pygments_lexer": "ipython3",
   "version": "3.9.15"
  }
 },
 "nbformat": 4,
 "nbformat_minor": 5
}
