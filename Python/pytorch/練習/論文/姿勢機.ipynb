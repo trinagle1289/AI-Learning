{
 "cells": [
  {
   "cell_type": "markdown",
   "id": "3c64f2f4-14bb-40f9-ab6d-80cd4ae02a86",
   "metadata": {
    "jp-MarkdownHeadingCollapsed": true,
    "tags": []
   },
   "source": [
    "# 1. 導入套件"
   ]
  },
  {
   "cell_type": "code",
   "execution_count": 1,
   "id": "a16d18ff-423b-4097-98c9-8cffd87a4061",
   "metadata": {},
   "outputs": [],
   "source": [
    "# 主要套件\n",
    "import torch\n",
    "\n",
    "# 資料處理\n",
    "import pandas as pd\n",
    "from torch.utils.data import Dataset\n",
    "from torch.utils.data import DataLoader\n",
    "\n",
    "# 建立機器模型\n",
    "from torch import nn\n",
    "from torch import optim"
   ]
  },
  {
   "cell_type": "markdown",
   "id": "de43b90f-1331-4796-b013-df9a6ab8889c",
   "metadata": {
    "tags": []
   },
   "source": [
    "# 2. 修正參數"
   ]
  },
  {
   "cell_type": "code",
   "execution_count": 2,
   "id": "e2b21f40-d1f5-46e7-b723-407a80f52f5b",
   "metadata": {},
   "outputs": [],
   "source": [
    "# 擷取資料檔案\n",
    "gesture_data_file = \"dataset/train_data-x_y.csv\""
   ]
  },
  {
   "cell_type": "code",
   "execution_count": 3,
   "id": "f699684b-3b64-4397-b1ab-6ff63692cb46",
   "metadata": {},
   "outputs": [
    {
     "name": "stdout",
     "output_type": "stream",
     "text": [
      "Using cuda device\n"
     ]
    }
   ],
   "source": [
    "# 取得 GPU 或是 CPU 的設備進行訓練\n",
    "device = \"cuda\" if torch.cuda.is_available() else \"mps\" if torch.backends.mps.is_available() else \"cpu\"\n",
    "print(f\"Using {device} device\")"
   ]
  },
  {
   "cell_type": "code",
   "execution_count": 4,
   "id": "be8f8729-0b45-408f-a6d7-befc4755e162",
   "metadata": {},
   "outputs": [],
   "source": [
    "# 批次\n",
    "batch_size = 16"
   ]
  },
  {
   "cell_type": "code",
   "execution_count": 5,
   "id": "f601fa10-dee4-46dc-ac23-83ec8a9fdbf4",
   "metadata": {},
   "outputs": [],
   "source": [
    "# 優化函數\n",
    "optim_fn = optim.SGD\n",
    "# 損失函數\n",
    "loss_fn = nn.CrossEntropyLoss()"
   ]
  },
  {
   "cell_type": "code",
   "execution_count": 6,
   "id": "14aab475-8ed6-4b2f-81a7-2cc9b7334bb8",
   "metadata": {},
   "outputs": [],
   "source": [
    "# 學習率\n",
    "learning_rate = 1e-5\n",
    "# 世代\n",
    "epochs = 30"
   ]
  },
  {
   "cell_type": "markdown",
   "id": "fe9e5f45-0729-440a-99f1-61297c65282b",
   "metadata": {
    "tags": []
   },
   "source": [
    "# 3. 類別"
   ]
  },
  {
   "cell_type": "code",
   "execution_count": 7,
   "id": "ddb30621-9164-4d6a-bf74-1ca76e6abe3c",
   "metadata": {},
   "outputs": [],
   "source": [
    "# 姿態資料集\n",
    "class GestureDataset(Dataset):\n",
    "    def __init__(self, df:pd.DataFrame):\n",
    "        self.dataframe = df\n",
    "        pass\n",
    "    \n",
    "    def __getitem__(self, idx):\n",
    "        # 取得資料特徵，轉換成 torch 格式，資料為 torch.float32 格式\n",
    "        feature = torch.tensor(self.dataframe.iloc[idx, :-1]).to(torch.float32)\n",
    "        # 取得結果\n",
    "        result = self.dataframe.iloc[idx, -1]\n",
    "        return feature, result\n",
    "    \n",
    "    def __len__(self):\n",
    "        return len(self.dataframe)"
   ]
  },
  {
   "cell_type": "code",
   "execution_count": 8,
   "id": "41027644-9e90-443f-bb04-831b16c6510e",
   "metadata": {},
   "outputs": [],
   "source": [
    "# 姿態模型\n",
    "class GestureModel(nn.Module):\n",
    "    def __init__(self):\n",
    "        super().__init__()\n",
    "        \n",
    "        self.relu_linear_stack = nn.Sequential(\n",
    "            nn.Linear(34, 50),\n",
    "            nn.ReLU(),\n",
    "            nn.Linear(50, 4)\n",
    "        )\n",
    "        pass\n",
    "    \n",
    "    def forward(self, x):\n",
    "        logits = self.relu_linear_stack(x)\n",
    "        return logits"
   ]
  },
  {
   "cell_type": "markdown",
   "id": "da3f77cd-6194-4e13-8c7d-f9d1c74ccf65",
   "metadata": {
    "jp-MarkdownHeadingCollapsed": true,
    "tags": []
   },
   "source": [
    "# 4. 函數"
   ]
  },
  {
   "cell_type": "code",
   "execution_count": 9,
   "id": "051328d5-21bd-42c2-9ea9-177172ab5c6b",
   "metadata": {},
   "outputs": [],
   "source": [
    "# 訓練函數\n",
    "def train(dataloader:DataLoader, model:nn.Module, loss_fn:torch.nn.modules.Module, optimizer:optim.Optimizer):\n",
    "    size = len(dataloader.dataset)\n",
    "    \n",
    "    # 開始訓練\n",
    "    model.train()\n",
    "    for batch, (X, y) in enumerate(dataloader):\n",
    "        # 轉換成可讓模型訓練的格式\n",
    "        X, y = X.to(device), y.to(device)\n",
    "        \n",
    "        # 計算預測誤差\n",
    "        pred = model(X)\n",
    "        loss = loss_fn(pred, y)\n",
    "        \n",
    "        # Backpropagation 反向傳播\n",
    "        optimizer.zero_grad()\n",
    "        loss.backward()\n",
    "        optimizer.step()\n",
    "        \n",
    "        # 輸出\n",
    "        if batch % 100 == 0:\n",
    "            loss, current = loss.item(), (batch+1)*len(X)\n",
    "            print(f\"loss: {loss:>7f} [{current:>5d}/{size:>5d}]\")"
   ]
  },
  {
   "cell_type": "code",
   "execution_count": 10,
   "id": "2cb31004-ce96-4e40-9059-5e1959d9e098",
   "metadata": {},
   "outputs": [],
   "source": [
    "# 測試函數\n",
    "def test(dataloader:DataLoader, model:nn.Module, loss_fn:torch.nn.modules.Module):\n",
    "    \n",
    "    # 計算結果參數\n",
    "    size = len(dataloader.dataset)\n",
    "    num_batches = len(dataloader)\n",
    "    # 測試誤差、正確率\n",
    "    test_loss, correct = 0, 0\n",
    "    \n",
    "    # 開始驗證\n",
    "    model.eval()\n",
    "    with torch.no_grad():\n",
    "        for X, y in dataloader:\n",
    "            # 轉換成可讓模型訓練的格式\n",
    "            X, y = X.to(device), y.to(device)\n",
    "\n",
    "            # 計算預測誤差\n",
    "            pred = model(X)\n",
    "            loss = loss_fn(pred, y).item()\n",
    "            \n",
    "            # 計算誤差、正確率\n",
    "            test_loss += loss\n",
    "            correct += (pred.argmax(1) == y).type(torch.float).sum().item()\n",
    "            \n",
    "    test_loss /= num_batches\n",
    "    correct /= size\n",
    "    print(f\"Test Error: \\n Accuracy: {(100*correct):0.1f}%, Avg loss: {test_loss:>8f} \\n\")"
   ]
  },
  {
   "cell_type": "code",
   "execution_count": 11,
   "id": "3083512e-b80c-4892-83ae-7650972dda01",
   "metadata": {},
   "outputs": [],
   "source": [
    "# 輔助函式\n",
    "from playsound import playsound\n",
    "# 撥放音樂\n",
    "def PlaySound():\n",
    "    sound_pth = \"E:\\Media Cabinet\\Musics\\Musics\\dio zawaruto.mp3\"\n",
    "    playsound(sound_pth)"
   ]
  },
  {
   "cell_type": "markdown",
   "id": "1386f192-22f5-4889-a681-ef780e801ba9",
   "metadata": {
    "tags": []
   },
   "source": [
    "# 5. 使用資料"
   ]
  },
  {
   "cell_type": "code",
   "execution_count": 12,
   "id": "77471f17-38ae-4cf3-b87e-055cf2aa4f44",
   "metadata": {},
   "outputs": [],
   "source": [
    "# 讀取 csv 資料\n",
    "gesture_df = pd.read_csv(gesture_data_file)\n",
    "\n",
    "# 切分成訓練以及測試資料\n",
    "train_df = gesture_df.iloc[::2]\n",
    "test_df = gesture_df.iloc[1::2]\n",
    "\n",
    "# 建立資料集\n",
    "train_dataset = GestureDataset(train_df)\n",
    "test_dataset = GestureDataset(test_df)\n",
    "\n",
    "# 建立加載器\n",
    "train_dataloader = DataLoader(train_dataset, batch_size=batch_size, shuffle=True)\n",
    "test_dataloader = DataLoader(test_dataset, batch_size=batch_size, shuffle=True)"
   ]
  },
  {
   "cell_type": "markdown",
   "id": "d8488f10-90ab-4b29-8242-6461cef986ca",
   "metadata": {
    "tags": []
   },
   "source": [
    "# 6. 建立模型"
   ]
  },
  {
   "cell_type": "code",
   "execution_count": 13,
   "id": "687137e5-1541-4368-adbd-88f945d6206e",
   "metadata": {},
   "outputs": [
    {
     "data": {
      "text/plain": [
       "GestureModel(\n",
       "  (relu_linear_stack): Sequential(\n",
       "    (0): Linear(in_features=34, out_features=50, bias=True)\n",
       "    (1): ReLU()\n",
       "    (2): Linear(in_features=50, out_features=4, bias=True)\n",
       "  )\n",
       ")"
      ]
     },
     "execution_count": 13,
     "metadata": {},
     "output_type": "execute_result"
    }
   ],
   "source": [
    "# 建立模型\n",
    "model = GestureModel().to(device)\n",
    "model"
   ]
  },
  {
   "cell_type": "markdown",
   "id": "1b478d66-3712-42aa-bd15-02357ed1d923",
   "metadata": {
    "tags": []
   },
   "source": [
    "# 7. 訓練模型"
   ]
  },
  {
   "cell_type": "code",
   "execution_count": 14,
   "id": "4d8eead1-a316-41dc-80af-20608bd4e462",
   "metadata": {},
   "outputs": [
    {
     "name": "stdout",
     "output_type": "stream",
     "text": [
      "Epoch 1\n",
      "-------------------------------\n",
      "loss: 155.744431 [   16/ 1768]\n",
      "loss: 1.591043 [ 1616/ 1768]\n",
      "Test Error: \n",
      " Accuracy: 61.9%, Avg loss: 17.481135 \n",
      "\n",
      "Epoch 2\n",
      "-------------------------------\n",
      "loss: 12.844677 [   16/ 1768]\n",
      "loss: 10.246840 [ 1616/ 1768]\n",
      "Test Error: \n",
      " Accuracy: 61.3%, Avg loss: 15.102308 \n",
      "\n",
      "Epoch 3\n",
      "-------------------------------\n",
      "loss: 26.306850 [   16/ 1768]\n",
      "loss: 12.334209 [ 1616/ 1768]\n",
      "Test Error: \n",
      " Accuracy: 64.0%, Avg loss: 5.627311 \n",
      "\n",
      "Epoch 4\n",
      "-------------------------------\n",
      "loss: 5.436070 [   16/ 1768]\n",
      "loss: 8.172619 [ 1616/ 1768]\n",
      "Test Error: \n",
      " Accuracy: 49.3%, Avg loss: 7.646345 \n",
      "\n",
      "Epoch 5\n",
      "-------------------------------\n",
      "loss: 4.444322 [   16/ 1768]\n",
      "loss: 2.220551 [ 1616/ 1768]\n",
      "Test Error: \n",
      " Accuracy: 63.2%, Avg loss: 6.670976 \n",
      "\n",
      "Epoch 6\n",
      "-------------------------------\n",
      "loss: 6.500128 [   16/ 1768]\n",
      "loss: 10.022594 [ 1616/ 1768]\n",
      "Test Error: \n",
      " Accuracy: 53.9%, Avg loss: 4.629816 \n",
      "\n",
      "Epoch 7\n",
      "-------------------------------\n",
      "loss: 6.168066 [   16/ 1768]\n",
      "loss: 2.302148 [ 1616/ 1768]\n",
      "Test Error: \n",
      " Accuracy: 38.1%, Avg loss: 9.798270 \n",
      "\n",
      "Epoch 8\n",
      "-------------------------------\n",
      "loss: 12.575370 [   16/ 1768]\n",
      "loss: 4.409818 [ 1616/ 1768]\n",
      "Test Error: \n",
      " Accuracy: 41.7%, Avg loss: 7.283321 \n",
      "\n",
      "Epoch 9\n",
      "-------------------------------\n",
      "loss: 9.502878 [   16/ 1768]\n",
      "loss: 6.343072 [ 1616/ 1768]\n",
      "Test Error: \n",
      " Accuracy: 69.3%, Avg loss: 2.704313 \n",
      "\n",
      "Epoch 10\n",
      "-------------------------------\n",
      "loss: 2.229787 [   16/ 1768]\n",
      "loss: 1.174829 [ 1616/ 1768]\n",
      "Test Error: \n",
      " Accuracy: 66.2%, Avg loss: 4.627711 \n",
      "\n",
      "Epoch 11\n",
      "-------------------------------\n",
      "loss: 3.230336 [   16/ 1768]\n",
      "loss: 3.307873 [ 1616/ 1768]\n",
      "Test Error: \n",
      " Accuracy: 67.1%, Avg loss: 4.495045 \n",
      "\n",
      "Epoch 12\n",
      "-------------------------------\n",
      "loss: 4.031868 [   16/ 1768]\n",
      "loss: 1.481273 [ 1616/ 1768]\n",
      "Test Error: \n",
      " Accuracy: 70.4%, Avg loss: 2.649595 \n",
      "\n",
      "Epoch 13\n",
      "-------------------------------\n",
      "loss: 3.813571 [   16/ 1768]\n",
      "loss: 1.727458 [ 1616/ 1768]\n",
      "Test Error: \n",
      " Accuracy: 69.5%, Avg loss: 2.848635 \n",
      "\n",
      "Epoch 14\n",
      "-------------------------------\n",
      "loss: 2.301400 [   16/ 1768]\n",
      "loss: 8.772537 [ 1616/ 1768]\n",
      "Test Error: \n",
      " Accuracy: 36.5%, Avg loss: 6.666430 \n",
      "\n",
      "Epoch 15\n",
      "-------------------------------\n",
      "loss: 5.730310 [   16/ 1768]\n",
      "loss: 2.345915 [ 1616/ 1768]\n",
      "Test Error: \n",
      " Accuracy: 70.7%, Avg loss: 2.299842 \n",
      "\n",
      "Epoch 16\n",
      "-------------------------------\n",
      "loss: 2.916971 [   16/ 1768]\n",
      "loss: 1.597911 [ 1616/ 1768]\n",
      "Test Error: \n",
      " Accuracy: 61.4%, Avg loss: 8.499886 \n",
      "\n",
      "Epoch 17\n",
      "-------------------------------\n",
      "loss: 9.534200 [   16/ 1768]\n",
      "loss: 0.810218 [ 1616/ 1768]\n",
      "Test Error: \n",
      " Accuracy: 73.3%, Avg loss: 1.922486 \n",
      "\n",
      "Epoch 18\n",
      "-------------------------------\n",
      "loss: 3.489102 [   16/ 1768]\n",
      "loss: 1.330980 [ 1616/ 1768]\n",
      "Test Error: \n",
      " Accuracy: 67.9%, Avg loss: 2.884141 \n",
      "\n",
      "Epoch 19\n",
      "-------------------------------\n",
      "loss: 2.522250 [   16/ 1768]\n",
      "loss: 2.654127 [ 1616/ 1768]\n",
      "Test Error: \n",
      " Accuracy: 68.6%, Avg loss: 3.216830 \n",
      "\n",
      "Epoch 20\n",
      "-------------------------------\n",
      "loss: 2.462249 [   16/ 1768]\n",
      "loss: 2.401919 [ 1616/ 1768]\n",
      "Test Error: \n",
      " Accuracy: 50.7%, Avg loss: 3.871014 \n",
      "\n",
      "Epoch 21\n",
      "-------------------------------\n",
      "loss: 3.217955 [   16/ 1768]\n",
      "loss: 3.355658 [ 1616/ 1768]\n",
      "Test Error: \n",
      " Accuracy: 72.9%, Avg loss: 1.839221 \n",
      "\n",
      "Epoch 22\n",
      "-------------------------------\n",
      "loss: 0.754805 [   16/ 1768]\n",
      "loss: 5.982982 [ 1616/ 1768]\n",
      "Test Error: \n",
      " Accuracy: 72.5%, Avg loss: 1.925589 \n",
      "\n",
      "Epoch 23\n",
      "-------------------------------\n",
      "loss: 1.755137 [   16/ 1768]\n",
      "loss: 1.790100 [ 1616/ 1768]\n",
      "Test Error: \n",
      " Accuracy: 66.0%, Avg loss: 2.688968 \n",
      "\n",
      "Epoch 24\n",
      "-------------------------------\n",
      "loss: 3.652965 [   16/ 1768]\n",
      "loss: 7.509305 [ 1616/ 1768]\n",
      "Test Error: \n",
      " Accuracy: 70.8%, Avg loss: 2.355095 \n",
      "\n",
      "Epoch 25\n",
      "-------------------------------\n",
      "loss: 1.330008 [   16/ 1768]\n",
      "loss: 2.773449 [ 1616/ 1768]\n",
      "Test Error: \n",
      " Accuracy: 58.0%, Avg loss: 4.055032 \n",
      "\n",
      "Epoch 26\n",
      "-------------------------------\n",
      "loss: 2.256357 [   16/ 1768]\n",
      "loss: 7.419616 [ 1616/ 1768]\n",
      "Test Error: \n",
      " Accuracy: 34.8%, Avg loss: 7.430626 \n",
      "\n",
      "Epoch 27\n",
      "-------------------------------\n",
      "loss: 9.127564 [   16/ 1768]\n",
      "loss: 0.213060 [ 1616/ 1768]\n",
      "Test Error: \n",
      " Accuracy: 60.7%, Avg loss: 4.199504 \n",
      "\n",
      "Epoch 28\n",
      "-------------------------------\n",
      "loss: 3.542064 [   16/ 1768]\n",
      "loss: 1.309325 [ 1616/ 1768]\n",
      "Test Error: \n",
      " Accuracy: 71.9%, Avg loss: 2.033747 \n",
      "\n",
      "Epoch 29\n",
      "-------------------------------\n",
      "loss: 4.331515 [   16/ 1768]\n",
      "loss: 1.222975 [ 1616/ 1768]\n",
      "Test Error: \n",
      " Accuracy: 61.5%, Avg loss: 1.767005 \n",
      "\n",
      "Epoch 30\n",
      "-------------------------------\n",
      "loss: 1.243028 [   16/ 1768]\n",
      "loss: 0.831231 [ 1616/ 1768]\n",
      "Test Error: \n",
      " Accuracy: 47.7%, Avg loss: 3.810495 \n",
      "\n",
      "Done!\n"
     ]
    }
   ],
   "source": [
    "# 訓練模型\n",
    "optimizer = optim_fn(model.parameters(), lr=learning_rate)\n",
    "\n",
    "for t in range(epochs):\n",
    "    print(f\"Epoch {t+1}\\n-------------------------------\")\n",
    "    train(train_dataloader, model, loss_fn, optimizer)\n",
    "    test(train_dataloader, model, loss_fn)\n",
    "    \n",
    "print(\"Done!\")\n",
    "PlaySound() # 完成訓練後撥放音樂"
   ]
  }
 ],
 "metadata": {
  "kernelspec": {
   "display_name": "Python 3 (ipykernel)",
   "language": "python",
   "name": "python3"
  },
  "language_info": {
   "codemirror_mode": {
    "name": "ipython",
    "version": 3
   },
   "file_extension": ".py",
   "mimetype": "text/x-python",
   "name": "python",
   "nbconvert_exporter": "python",
   "pygments_lexer": "ipython3",
   "version": "3.9.15"
  }
 },
 "nbformat": 4,
 "nbformat_minor": 5
}
