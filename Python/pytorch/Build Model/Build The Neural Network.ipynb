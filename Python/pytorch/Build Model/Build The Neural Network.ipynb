{
 "cells": [
  {
   "cell_type": "code",
   "execution_count": 1,
   "id": "a54ed674-443e-4179-aa5b-f1b7f5ecca39",
   "metadata": {},
   "outputs": [],
   "source": [
    "import os\n",
    "import torch\n",
    "from torch import nn\n",
    "from torch.utils.data import DataLoader\n",
    "from torchvision import datasets, transforms"
   ]
  },
  {
   "cell_type": "markdown",
   "id": "d4069d24-4daa-40e5-ba67-d5e5c508e259",
   "metadata": {},
   "source": [
    "## Get Devic for Training"
   ]
  },
  {
   "cell_type": "code",
   "execution_count": 2,
   "id": "dddde41e-f65a-4713-a107-a617c2fb58cc",
   "metadata": {},
   "outputs": [
    {
     "name": "stdout",
     "output_type": "stream",
     "text": [
      "Using cuda device\n"
     ]
    }
   ],
   "source": [
    "device = \"cuda\" if torch.cuda.is_available() else \"cpu\"\n",
    "print(f\"Using {device} device\")"
   ]
  },
  {
   "cell_type": "code",
   "execution_count": 3,
   "id": "08a6a7ec-1eca-40ba-b43c-10f019f4b892",
   "metadata": {},
   "outputs": [],
   "source": [
    "class NerualNetwork(nn.Module):\n",
    "    def __init__(self):\n",
    "        super(NerualNetwork, self).__init__()\n",
    "        self.flatten = nn.Flatten()\n",
    "        self.linear_relu_stack = nn.Sequential(\n",
    "            nn.Linear(28*28, 512),\n",
    "            nn.ReLU(),\n",
    "            nn.Linear(512, 512),\n",
    "            nn.ReLU(),\n",
    "            nn.Linear(512, 10),\n",
    "        )\n",
    "        \n",
    "    def forward(self, x):\n",
    "        x = self.flatten(x)\n",
    "        logits = self.linear_relu_stack(x)\n",
    "        return logits"
   ]
  },
  {
   "cell_type": "code",
   "execution_count": 4,
   "id": "e8dc8f2b-1424-4ca1-892e-e15c79cce83f",
   "metadata": {},
   "outputs": [
    {
     "name": "stdout",
     "output_type": "stream",
     "text": [
      "NerualNetwork(\n",
      "  (flatten): Flatten(start_dim=1, end_dim=-1)\n",
      "  (linear_relu_stack): Sequential(\n",
      "    (0): Linear(in_features=784, out_features=512, bias=True)\n",
      "    (1): ReLU()\n",
      "    (2): Linear(in_features=512, out_features=512, bias=True)\n",
      "    (3): ReLU()\n",
      "    (4): Linear(in_features=512, out_features=10, bias=True)\n",
      "  )\n",
      ")\n"
     ]
    }
   ],
   "source": [
    "model = NerualNetwork().to(device)\n",
    "print(model)"
   ]
  },
  {
   "cell_type": "code",
   "execution_count": 7,
   "id": "9911932d-2239-49b0-ab32-0a5be1119f89",
   "metadata": {},
   "outputs": [
    {
     "name": "stdout",
     "output_type": "stream",
     "text": [
      "Predicted class: tensor([2], device='cuda:0')\n"
     ]
    }
   ],
   "source": [
    "X = torch.rand(1, 28, 28, device=device)\n",
    "logits = model(X)\n",
    "pred_probab = nn.Softmax(dim=1)(logits)\n",
    "y_pred = pred_probab.argmax(1)\n",
    "print(f\"Predicted class: {y_pred}\")"
   ]
  },
  {
   "cell_type": "markdown",
   "id": "03ea3278-97c0-44bb-9239-ea211628072f",
   "metadata": {},
   "source": [
    "## Model Layers"
   ]
  },
  {
   "cell_type": "code",
   "execution_count": 6,
   "id": "2e87b5e3-2a62-430c-b765-ba0ed5fddd35",
   "metadata": {},
   "outputs": [
    {
     "name": "stdout",
     "output_type": "stream",
     "text": [
      "torch.Size([3, 28, 28])\n"
     ]
    }
   ],
   "source": [
    "input_image = torch.rand(3, 28, 28)\n",
    "print(input_image.size())"
   ]
  },
  {
   "cell_type": "code",
   "execution_count": 8,
   "id": "2bddb2c3-79cd-4fe5-becf-1324422842af",
   "metadata": {},
   "outputs": [
    {
     "name": "stdout",
     "output_type": "stream",
     "text": [
      "torch.Size([3, 784])\n"
     ]
    }
   ],
   "source": [
    "flatten = nn.Flatten()\n",
    "flat_image = flatten(input_image)\n",
    "print(flat_image.size())"
   ]
  },
  {
   "cell_type": "code",
   "execution_count": 9,
   "id": "cfaa9530-9c20-4071-bd25-ecfffff6f3e2",
   "metadata": {},
   "outputs": [
    {
     "name": "stdout",
     "output_type": "stream",
     "text": [
      "torch.Size([3, 20])\n"
     ]
    }
   ],
   "source": [
    "layer1 = nn.Linear(in_features=28*28, out_features=20)\n",
    "hidden1 = layer1(flat_image)\n",
    "print(hidden1.size())"
   ]
  },
  {
   "cell_type": "code",
   "execution_count": 10,
   "id": "b0ef90d2-579d-4a44-854d-2291e0d46e2b",
   "metadata": {},
   "outputs": [
    {
     "name": "stdout",
     "output_type": "stream",
     "text": [
      "Before ReLU: tensor([[-0.2973,  0.2466, -0.4476,  0.1987, -0.3091, -0.2210,  0.4755,  0.0041,\n",
      "          0.3738,  0.0953, -0.6307, -0.0699,  0.0259, -0.0969, -0.4417,  0.1725,\n",
      "          0.2422, -0.0033,  0.2988, -0.1051],\n",
      "        [-0.4104,  0.3139, -0.3696,  0.2604, -0.3481, -0.6282,  0.5266,  0.1123,\n",
      "          0.6165,  0.1251, -0.3387, -0.1553,  0.1692, -0.4765, -0.3053,  0.2201,\n",
      "          0.2858,  0.1468,  0.1331, -0.0753],\n",
      "        [-0.2073,  0.2859, -0.4720,  0.1073, -0.4903, -0.4741,  0.5049,  0.0941,\n",
      "          0.4610,  0.3093, -0.4693, -0.4578,  0.0966, -0.2094, -0.3188,  0.1935,\n",
      "          0.2300,  0.0417,  0.0900, -0.2882]], grad_fn=<AddmmBackward0>)\n",
      "\n",
      "\n",
      "After ReLU: tensor([[0.0000, 0.2466, 0.0000, 0.1987, 0.0000, 0.0000, 0.4755, 0.0041, 0.3738,\n",
      "         0.0953, 0.0000, 0.0000, 0.0259, 0.0000, 0.0000, 0.1725, 0.2422, 0.0000,\n",
      "         0.2988, 0.0000],\n",
      "        [0.0000, 0.3139, 0.0000, 0.2604, 0.0000, 0.0000, 0.5266, 0.1123, 0.6165,\n",
      "         0.1251, 0.0000, 0.0000, 0.1692, 0.0000, 0.0000, 0.2201, 0.2858, 0.1468,\n",
      "         0.1331, 0.0000],\n",
      "        [0.0000, 0.2859, 0.0000, 0.1073, 0.0000, 0.0000, 0.5049, 0.0941, 0.4610,\n",
      "         0.3093, 0.0000, 0.0000, 0.0966, 0.0000, 0.0000, 0.1935, 0.2300, 0.0417,\n",
      "         0.0900, 0.0000]], grad_fn=<ReluBackward0>)\n"
     ]
    }
   ],
   "source": [
    "print(f\"Before ReLU: {hidden1}\\n\\n\")\n",
    "hidden1 = nn.ReLU()(hidden1)\n",
    "print(f\"After ReLU: {hidden1}\")"
   ]
  },
  {
   "cell_type": "code",
   "execution_count": 11,
   "id": "91d91d0f-642d-458e-9817-3c94b45530f0",
   "metadata": {},
   "outputs": [],
   "source": [
    "seq_modules = nn.Sequential(\n",
    "    flatten,\n",
    "    layer1,\n",
    "    nn.ReLU(),\n",
    "    nn.Linear(20, 10)\n",
    ")\n",
    "input_image = torch.rand(3, 28, 28)\n",
    "logits = seq_modules(input_image)"
   ]
  },
  {
   "cell_type": "code",
   "execution_count": 12,
   "id": "44a91d34-9621-4ec6-8961-f36a9c49217b",
   "metadata": {},
   "outputs": [],
   "source": [
    "softmax = nn.Softmax(dim=1)\n",
    "pred_probab = softmax(logits)"
   ]
  },
  {
   "cell_type": "markdown",
   "id": "82e4a593-1c0a-4f5f-a261-b755fe95eef8",
   "metadata": {},
   "source": [
    "## Model Parameters"
   ]
  },
  {
   "cell_type": "code",
   "execution_count": 13,
   "id": "258ad8a6-84ab-45f5-9791-895e2fd68d37",
   "metadata": {},
   "outputs": [
    {
     "name": "stdout",
     "output_type": "stream",
     "text": [
      "Model structure: NerualNetwork(\n",
      "  (flatten): Flatten(start_dim=1, end_dim=-1)\n",
      "  (linear_relu_stack): Sequential(\n",
      "    (0): Linear(in_features=784, out_features=512, bias=True)\n",
      "    (1): ReLU()\n",
      "    (2): Linear(in_features=512, out_features=512, bias=True)\n",
      "    (3): ReLU()\n",
      "    (4): Linear(in_features=512, out_features=10, bias=True)\n",
      "  )\n",
      ")\n",
      "\n",
      "\n",
      "Layer: linear_relu_stack.0.weight | Size: torch.Size([512, 784]) | Values: tensor([[-0.0276,  0.0274, -0.0060,  ..., -0.0081, -0.0246,  0.0256],\n",
      "        [ 0.0341,  0.0147,  0.0260,  ...,  0.0304,  0.0223,  0.0284]],\n",
      "       device='cuda:0', grad_fn=<SliceBackward0>) \n",
      "\n",
      "Layer: linear_relu_stack.0.bias | Size: torch.Size([512]) | Values: tensor([ 0.0273, -0.0245], device='cuda:0', grad_fn=<SliceBackward0>) \n",
      "\n",
      "Layer: linear_relu_stack.2.weight | Size: torch.Size([512, 512]) | Values: tensor([[ 0.0013, -0.0437,  0.0262,  ..., -0.0118,  0.0224,  0.0302],\n",
      "        [ 0.0330, -0.0379, -0.0196,  ..., -0.0410,  0.0056, -0.0210]],\n",
      "       device='cuda:0', grad_fn=<SliceBackward0>) \n",
      "\n",
      "Layer: linear_relu_stack.2.bias | Size: torch.Size([512]) | Values: tensor([-0.0244,  0.0422], device='cuda:0', grad_fn=<SliceBackward0>) \n",
      "\n",
      "Layer: linear_relu_stack.4.weight | Size: torch.Size([10, 512]) | Values: tensor([[ 0.0439,  0.0332,  0.0132,  ...,  0.0061,  0.0088,  0.0434],\n",
      "        [ 0.0219,  0.0394,  0.0360,  ..., -0.0307,  0.0330,  0.0211]],\n",
      "       device='cuda:0', grad_fn=<SliceBackward0>) \n",
      "\n",
      "Layer: linear_relu_stack.4.bias | Size: torch.Size([10]) | Values: tensor([-0.0365,  0.0055], device='cuda:0', grad_fn=<SliceBackward0>) \n",
      "\n"
     ]
    }
   ],
   "source": [
    "print(f\"Model structure: {model}\\n\\n\")\n",
    "\n",
    "for name, param in model.named_parameters():\n",
    "    print(f\"Layer: {name} | Size: {param.size()} | Values: {param[:2]} \\n\")"
   ]
  },
  {
   "cell_type": "code",
   "execution_count": null,
   "id": "216f54ff-b570-4a58-b86f-f2e604f36ac4",
   "metadata": {},
   "outputs": [],
   "source": []
  }
 ],
 "metadata": {
  "kernelspec": {
   "display_name": "Python 3 (ipykernel)",
   "language": "python",
   "name": "python3"
  },
  "language_info": {
   "codemirror_mode": {
    "name": "ipython",
    "version": 3
   },
   "file_extension": ".py",
   "mimetype": "text/x-python",
   "name": "python",
   "nbconvert_exporter": "python",
   "pygments_lexer": "ipython3",
   "version": "3.9.15"
  }
 },
 "nbformat": 4,
 "nbformat_minor": 5
}
