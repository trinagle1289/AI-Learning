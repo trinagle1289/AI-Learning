{
 "cells": [
  {
   "cell_type": "code",
   "execution_count": null,
   "id": "d43b3ed7-4671-4d1a-805b-69280a4d2512",
   "metadata": {},
   "outputs": [],
   "source": [
    "file_name='NN_202301141000.pth' # 副檔名通常以.pt或.pth儲存，建議使用.pth\n",
    "import torch\n",
    "device=torch.device('cpu') # 'cuda'/'cpu'，import torch\n",
    "print(device)\n",
    "num_classes=10\n",
    "train_size=50000\n",
    "valid_size=10000\n",
    "batch_size=1024\n",
    "learning_rate=0.1\n",
    "step_size=1000 # Reriod of learning rate decay\n",
    "epochs=100"
   ]
  },
  {
   "cell_type": "code",
   "execution_count": null,
   "id": "fa3013ff-b227-48c7-ab88-d4802c7f2308",
   "metadata": {},
   "outputs": [],
   "source": [
    "from torchvision import transforms,datasets\n",
    "transforms=transforms.Compose([transforms.ToTensor(),transforms.Normalize((0.1307),(0.3081))]) # 標準化每個channel為均值0.1307、標準差0.3081，import torchvision\n",
    "dataset=datasets.FashionMNIST('',train=True,download=False,transform=transforms) # ''指資料存放在程式目前的資料夾，train=True時dataset為60000筆訓練資料，其中dataset.data：[60000,28,28]，dataset.targets：[60000]，train=False時dataset為10000筆測試資料，其中dataset.data：[10000,28,28]，dataset.targets：[10000]，import torchvision\n",
    "train_data,valid_data=torch.utils.data.random_split(dataset,[train_size,valid_size]) # import torch\n",
    "train_loader=torch.utils.data.DataLoader(train_data,batch_size=batch_size,shuffle=True) # import torch\n",
    "valid_loader=torch.utils.data.DataLoader(valid_data,batch_size=batch_size,shuffle=True) # import torch"
   ]
  },
  {
   "cell_type": "code",
   "execution_count": null,
   "id": "37d187ea-a96c-4bb2-91aa-83fba8101339",
   "metadata": {},
   "outputs": [],
   "source": [
    "from torch import nn\n",
    "from torch.nn import functional as F\n",
    "class NeuralNetwork(nn.Module):\n",
    "    def __init__(self):\n",
    "        super(NeuralNetwork,self).__init__()\n",
    "        self.fc1=nn.Linear(28*28,256)\n",
    "        self.fc2=nn.Linear(256,num_classes)\n",
    "\n",
    "    def forward(self,x):\n",
    "        x=torch.flatten(x,1)\n",
    "        x=self.fc1(x)\n",
    "        x=self.fc2(x)\n",
    "        return x"
   ]
  },
  {
   "cell_type": "code",
   "execution_count": null,
   "id": "832464e2-8cba-4c50-8e51-d0784be8b0b3",
   "metadata": {},
   "outputs": [],
   "source": [
    "NN=NeuralNetwork().to(device)\n",
    "criterion=nn.CrossEntropyLoss() # 分類\n",
    "optimizer=torch.optim.Adadelta(NN.parameters(),lr=learning_rate) # import torch\n",
    "#optimizer=torch.optim.Adam(NN.parameters(),lr=learning_rate) # import torch\n",
    "scheduler=torch.optim.lr_scheduler.StepLR(optimizer,step_size,0.1) # import torch\n",
    "import numpy \n",
    "train_acc_his,train_losses_his,valid_acc_his,valid_losses_his=[],[],[],[]\n",
    "for i in range(1,epochs+1):\n",
    "    print('Running Epoch:'+str(i))\n",
    "    train_correct,train_loss,train_total,valid_correct,valid_loss,valid_total=0,0,0,0,0,0\n",
    "    NN.train()\n",
    "    for img,cls in train_loader: # 一個batch的img、cls。img：[batch_size,1,28,28]，cls：[batch_size]\n",
    "        img,cls=img.to(device),cls.to(device)\n",
    "        pred=NN(img) # pred：[batch_size,num_classes]\n",
    "        loss=criterion(pred,cls) # loss.item()：一個batch的平均loss，[1]\n",
    "        output_id=torch.max(pred,dim=1)[1] # output_id：網路輸出編號(0表示預測為第一個輸出)，[batch_size]\n",
    "        train_correct+=numpy.sum(torch.eq(cls,output_id).cpu().numpy()) # 累加計算每一epoch正確預測總數，import numpy\n",
    "        train_loss+=loss.item()*img.size(0) # 累加計算每一epoch的loss總和。loss.item()：一個batch的平均loss，[1]。img.size(0)：一個batch的訓練資料總數\n",
    "        train_total+=img.size(0) # 累加計算訓練資料總數\n",
    "        optimizer.zero_grad() # 權重梯度歸零\n",
    "        loss.backward() # 計算每個權重的loss梯度\n",
    "        optimizer.step() # 權重更新\n",
    "    scheduler.step()\n",
    "\n",
    "    NN.eval()\n",
    "    for img,cls in valid_loader: # 一個batch的img、cls。img：[batch_size,1,28,28]，cls：[batch_size]\n",
    "        img,cls=img.to(device),cls.to(device)\n",
    "        pred=NN(img) # pred：[batch_size,num_classes]\n",
    "        loss=criterion(pred,cls) # loss.item()：一個batch的平均loss，[1]\n",
    "        output_id=torch.max(pred,dim=1)[1] # output_id：網路輸出編號(0表示預測為第一個輸出)，[batch_size]\n",
    "        valid_correct+=numpy.sum(torch.eq(cls,output_id).cpu().numpy()) # 累加計算每一epoch正確預測總數\n",
    "        valid_loss+=loss.item()*img.size(0) # 累加計算每一epoch的loss總和。loss.item()：一個batch的平均loss，[1]。img.size(0)：一個batch的驗證資料總數\n",
    "        valid_total+=img.size(0) # 累加計算驗證資料總數\n",
    "\n",
    "    train_acc=train_correct/train_total*100 # 計算每一個epoch的平均訓練正確率(%)\n",
    "    train_loss=train_loss/train_total # 計算每一個epoch的平均訓練loss\n",
    "    valid_acc=valid_correct/valid_total*100 # 計算每一個epoch的平均驗證正確率(%)\n",
    "    valid_loss=valid_loss/valid_total # 計算每一個epoch的平均驗證loss\n",
    "    train_acc_his.append(train_acc) # 累積紀錄每一個epoch的平均訓練正確率(%)，[epochs]\n",
    "    train_losses_his.append(train_loss) # 累積記錄每一個epoch的平均訓練loss，[epochs]\n",
    "    valid_acc_his.append(valid_acc) # 累積紀錄每一個epoch的平均驗證正確率(%)，[epochs]\n",
    "    valid_losses_his.append(valid_loss) # 累積記錄每一個epoch的平均驗證loss，[epochs]\n",
    "    print('Training Loss='+str(train_loss))\n",
    "    print('Training Accuracy(%)='+str(train_acc))\n",
    "    print('Validation Accuracy(%)='+str(valid_acc))"
   ]
  },
  {
   "cell_type": "code",
   "execution_count": null,
   "id": "629145c7-c7c8-43f0-b840-40a5f4a2699a",
   "metadata": {},
   "outputs": [],
   "source": [
    "# 顯示第71筆訓練資料影像\n",
    "import matplotlib.pyplot as plt\n",
    "plt.imshow(dataset.data[70],cmap='gray') # 繪製點陣圖，cmap='gray'：灰階\n",
    "plt.axis('off') # 隱藏刻度"
   ]
  },
  {
   "cell_type": "code",
   "execution_count": null,
   "id": "5898aa08-8314-4ac0-ba45-e1f22ebf1f71",
   "metadata": {},
   "outputs": [],
   "source": [
    "# 對訓練過程繪圖\n",
    "plt.figure(figsize=(15,10))\n",
    "plt.subplot(211)\n",
    "plt.plot(train_acc_his,'b',label='trainingaccuracy')\n",
    "plt.plot(valid_acc_his,'r',label='validation accuracy')\n",
    "plt.title('Accuracy(%)')\n",
    "plt.legend(loc='best')\n",
    "plt.subplot(212)\n",
    "plt.plot(train_losses_his,'b',label='training loss')\n",
    "plt.plot(valid_losses_his,'r',label='validation loss')\n",
    "plt.title('Loss')\n",
    "plt.legend(loc='best')\n",
    "plt.show()\n",
    "\n",
    "torch.save(NN.state_dict(),file_name)"
   ]
  }
 ],
 "metadata": {
  "kernelspec": {
   "display_name": "Python 3 (ipykernel)",
   "language": "python",
   "name": "python3"
  },
  "language_info": {
   "codemirror_mode": {
    "name": "ipython",
    "version": 3
   },
   "file_extension": ".py",
   "mimetype": "text/x-python",
   "name": "python",
   "nbconvert_exporter": "python",
   "pygments_lexer": "ipython3",
   "version": "3.9.15"
  }
 },
 "nbformat": 4,
 "nbformat_minor": 5
}
